{
 "cells": [
  {
   "cell_type": "code",
   "execution_count": 1,
   "id": "b1ae5e9c-5031-4a54-a758-b8c52074b421",
   "metadata": {},
   "outputs": [],
   "source": [
    "import numpy as np\n",
    "import pandas as pd\n",
    "import matplotlib.pyplot as plt\n",
    "import seaborn as sb"
   ]
  },
  {
   "cell_type": "code",
   "execution_count": 2,
   "id": "d9f90b5d-46b8-44f4-b6ea-2c496c9c63c5",
   "metadata": {},
   "outputs": [],
   "source": [
    "#data import\n",
    "dfm=pd.read_csv(\"tmdb_5000_movies.csv\")\n",
    "dfc=pd.read_csv(\"tmdb_5000_credits.csv\")"
   ]
  },
  {
   "cell_type": "code",
   "execution_count": 3,
   "id": "6229e80f-fc9a-4b15-b8c8-f1ddf6822fe5",
   "metadata": {},
   "outputs": [
    {
     "data": {
      "text/html": [
       "<div>\n",
       "<style scoped>\n",
       "    .dataframe tbody tr th:only-of-type {\n",
       "        vertical-align: middle;\n",
       "    }\n",
       "\n",
       "    .dataframe tbody tr th {\n",
       "        vertical-align: top;\n",
       "    }\n",
       "\n",
       "    .dataframe thead th {\n",
       "        text-align: right;\n",
       "    }\n",
       "</style>\n",
       "<table border=\"1\" class=\"dataframe\">\n",
       "  <thead>\n",
       "    <tr style=\"text-align: right;\">\n",
       "      <th></th>\n",
       "      <th>budget</th>\n",
       "      <th>genres</th>\n",
       "      <th>homepage</th>\n",
       "      <th>id</th>\n",
       "      <th>keywords</th>\n",
       "      <th>original_language</th>\n",
       "      <th>original_title</th>\n",
       "      <th>overview</th>\n",
       "      <th>popularity</th>\n",
       "      <th>production_companies</th>\n",
       "      <th>production_countries</th>\n",
       "      <th>release_date</th>\n",
       "      <th>revenue</th>\n",
       "      <th>runtime</th>\n",
       "      <th>spoken_languages</th>\n",
       "      <th>status</th>\n",
       "      <th>tagline</th>\n",
       "      <th>title</th>\n",
       "      <th>vote_average</th>\n",
       "      <th>vote_count</th>\n",
       "    </tr>\n",
       "  </thead>\n",
       "  <tbody>\n",
       "    <tr>\n",
       "      <th>0</th>\n",
       "      <td>237000000</td>\n",
       "      <td>[{\"id\": 28, \"name\": \"Action\"}, {\"id\": 12, \"nam...</td>\n",
       "      <td>http://www.avatarmovie.com/</td>\n",
       "      <td>19995</td>\n",
       "      <td>[{\"id\": 1463, \"name\": \"culture clash\"}, {\"id\":...</td>\n",
       "      <td>en</td>\n",
       "      <td>Avatar</td>\n",
       "      <td>In the 22nd century, a paraplegic Marine is di...</td>\n",
       "      <td>150.437577</td>\n",
       "      <td>[{\"name\": \"Ingenious Film Partners\", \"id\": 289...</td>\n",
       "      <td>[{\"iso_3166_1\": \"US\", \"name\": \"United States o...</td>\n",
       "      <td>2009-12-10</td>\n",
       "      <td>2787965087</td>\n",
       "      <td>162.0</td>\n",
       "      <td>[{\"iso_639_1\": \"en\", \"name\": \"English\"}, {\"iso...</td>\n",
       "      <td>Released</td>\n",
       "      <td>Enter the World of Pandora.</td>\n",
       "      <td>Avatar</td>\n",
       "      <td>7.2</td>\n",
       "      <td>11800</td>\n",
       "    </tr>\n",
       "    <tr>\n",
       "      <th>1</th>\n",
       "      <td>300000000</td>\n",
       "      <td>[{\"id\": 12, \"name\": \"Adventure\"}, {\"id\": 14, \"...</td>\n",
       "      <td>http://disney.go.com/disneypictures/pirates/</td>\n",
       "      <td>285</td>\n",
       "      <td>[{\"id\": 270, \"name\": \"ocean\"}, {\"id\": 726, \"na...</td>\n",
       "      <td>en</td>\n",
       "      <td>Pirates of the Caribbean: At World's End</td>\n",
       "      <td>Captain Barbossa, long believed to be dead, ha...</td>\n",
       "      <td>139.082615</td>\n",
       "      <td>[{\"name\": \"Walt Disney Pictures\", \"id\": 2}, {\"...</td>\n",
       "      <td>[{\"iso_3166_1\": \"US\", \"name\": \"United States o...</td>\n",
       "      <td>2007-05-19</td>\n",
       "      <td>961000000</td>\n",
       "      <td>169.0</td>\n",
       "      <td>[{\"iso_639_1\": \"en\", \"name\": \"English\"}]</td>\n",
       "      <td>Released</td>\n",
       "      <td>At the end of the world, the adventure begins.</td>\n",
       "      <td>Pirates of the Caribbean: At World's End</td>\n",
       "      <td>6.9</td>\n",
       "      <td>4500</td>\n",
       "    </tr>\n",
       "  </tbody>\n",
       "</table>\n",
       "</div>"
      ],
      "text/plain": [
       "      budget                                             genres  \\\n",
       "0  237000000  [{\"id\": 28, \"name\": \"Action\"}, {\"id\": 12, \"nam...   \n",
       "1  300000000  [{\"id\": 12, \"name\": \"Adventure\"}, {\"id\": 14, \"...   \n",
       "\n",
       "                                       homepage     id  \\\n",
       "0                   http://www.avatarmovie.com/  19995   \n",
       "1  http://disney.go.com/disneypictures/pirates/    285   \n",
       "\n",
       "                                            keywords original_language  \\\n",
       "0  [{\"id\": 1463, \"name\": \"culture clash\"}, {\"id\":...                en   \n",
       "1  [{\"id\": 270, \"name\": \"ocean\"}, {\"id\": 726, \"na...                en   \n",
       "\n",
       "                             original_title  \\\n",
       "0                                    Avatar   \n",
       "1  Pirates of the Caribbean: At World's End   \n",
       "\n",
       "                                            overview  popularity  \\\n",
       "0  In the 22nd century, a paraplegic Marine is di...  150.437577   \n",
       "1  Captain Barbossa, long believed to be dead, ha...  139.082615   \n",
       "\n",
       "                                production_companies  \\\n",
       "0  [{\"name\": \"Ingenious Film Partners\", \"id\": 289...   \n",
       "1  [{\"name\": \"Walt Disney Pictures\", \"id\": 2}, {\"...   \n",
       "\n",
       "                                production_countries release_date     revenue  \\\n",
       "0  [{\"iso_3166_1\": \"US\", \"name\": \"United States o...   2009-12-10  2787965087   \n",
       "1  [{\"iso_3166_1\": \"US\", \"name\": \"United States o...   2007-05-19   961000000   \n",
       "\n",
       "   runtime                                   spoken_languages    status  \\\n",
       "0    162.0  [{\"iso_639_1\": \"en\", \"name\": \"English\"}, {\"iso...  Released   \n",
       "1    169.0           [{\"iso_639_1\": \"en\", \"name\": \"English\"}]  Released   \n",
       "\n",
       "                                          tagline  \\\n",
       "0                     Enter the World of Pandora.   \n",
       "1  At the end of the world, the adventure begins.   \n",
       "\n",
       "                                      title  vote_average  vote_count  \n",
       "0                                    Avatar           7.2       11800  \n",
       "1  Pirates of the Caribbean: At World's End           6.9        4500  "
      ]
     },
     "execution_count": 3,
     "metadata": {},
     "output_type": "execute_result"
    }
   ],
   "source": [
    "dfm.head(2)"
   ]
  },
  {
   "cell_type": "code",
   "execution_count": 4,
   "id": "c40d0a52-2674-496d-a02b-e8da38a363bb",
   "metadata": {},
   "outputs": [
    {
     "data": {
      "text/html": [
       "<div>\n",
       "<style scoped>\n",
       "    .dataframe tbody tr th:only-of-type {\n",
       "        vertical-align: middle;\n",
       "    }\n",
       "\n",
       "    .dataframe tbody tr th {\n",
       "        vertical-align: top;\n",
       "    }\n",
       "\n",
       "    .dataframe thead th {\n",
       "        text-align: right;\n",
       "    }\n",
       "</style>\n",
       "<table border=\"1\" class=\"dataframe\">\n",
       "  <thead>\n",
       "    <tr style=\"text-align: right;\">\n",
       "      <th></th>\n",
       "      <th>budget</th>\n",
       "      <th>genres</th>\n",
       "      <th>homepage</th>\n",
       "      <th>id</th>\n",
       "      <th>keywords</th>\n",
       "      <th>original_language</th>\n",
       "      <th>original_title</th>\n",
       "      <th>overview</th>\n",
       "      <th>popularity</th>\n",
       "      <th>production_companies</th>\n",
       "      <th>production_countries</th>\n",
       "      <th>release_date</th>\n",
       "      <th>revenue</th>\n",
       "      <th>runtime</th>\n",
       "      <th>spoken_languages</th>\n",
       "      <th>status</th>\n",
       "      <th>tagline</th>\n",
       "      <th>title</th>\n",
       "      <th>vote_average</th>\n",
       "      <th>vote_count</th>\n",
       "    </tr>\n",
       "  </thead>\n",
       "  <tbody>\n",
       "    <tr>\n",
       "      <th>4801</th>\n",
       "      <td>0</td>\n",
       "      <td>[]</td>\n",
       "      <td>http://shanghaicalling.com/</td>\n",
       "      <td>126186</td>\n",
       "      <td>[]</td>\n",
       "      <td>en</td>\n",
       "      <td>Shanghai Calling</td>\n",
       "      <td>When ambitious New York attorney Sam is sent t...</td>\n",
       "      <td>0.857008</td>\n",
       "      <td>[]</td>\n",
       "      <td>[{\"iso_3166_1\": \"US\", \"name\": \"United States o...</td>\n",
       "      <td>2012-05-03</td>\n",
       "      <td>0</td>\n",
       "      <td>98.0</td>\n",
       "      <td>[{\"iso_639_1\": \"en\", \"name\": \"English\"}]</td>\n",
       "      <td>Released</td>\n",
       "      <td>A New Yorker in Shanghai</td>\n",
       "      <td>Shanghai Calling</td>\n",
       "      <td>5.7</td>\n",
       "      <td>7</td>\n",
       "    </tr>\n",
       "    <tr>\n",
       "      <th>4802</th>\n",
       "      <td>0</td>\n",
       "      <td>[{\"id\": 99, \"name\": \"Documentary\"}]</td>\n",
       "      <td>NaN</td>\n",
       "      <td>25975</td>\n",
       "      <td>[{\"id\": 1523, \"name\": \"obsession\"}, {\"id\": 224...</td>\n",
       "      <td>en</td>\n",
       "      <td>My Date with Drew</td>\n",
       "      <td>Ever since the second grade when he first saw ...</td>\n",
       "      <td>1.929883</td>\n",
       "      <td>[{\"name\": \"rusty bear entertainment\", \"id\": 87...</td>\n",
       "      <td>[{\"iso_3166_1\": \"US\", \"name\": \"United States o...</td>\n",
       "      <td>2005-08-05</td>\n",
       "      <td>0</td>\n",
       "      <td>90.0</td>\n",
       "      <td>[{\"iso_639_1\": \"en\", \"name\": \"English\"}]</td>\n",
       "      <td>Released</td>\n",
       "      <td>NaN</td>\n",
       "      <td>My Date with Drew</td>\n",
       "      <td>6.3</td>\n",
       "      <td>16</td>\n",
       "    </tr>\n",
       "  </tbody>\n",
       "</table>\n",
       "</div>"
      ],
      "text/plain": [
       "      budget                               genres  \\\n",
       "4801       0                                   []   \n",
       "4802       0  [{\"id\": 99, \"name\": \"Documentary\"}]   \n",
       "\n",
       "                         homepage      id  \\\n",
       "4801  http://shanghaicalling.com/  126186   \n",
       "4802                          NaN   25975   \n",
       "\n",
       "                                               keywords original_language  \\\n",
       "4801                                                 []                en   \n",
       "4802  [{\"id\": 1523, \"name\": \"obsession\"}, {\"id\": 224...                en   \n",
       "\n",
       "         original_title                                           overview  \\\n",
       "4801   Shanghai Calling  When ambitious New York attorney Sam is sent t...   \n",
       "4802  My Date with Drew  Ever since the second grade when he first saw ...   \n",
       "\n",
       "      popularity                               production_companies  \\\n",
       "4801    0.857008                                                 []   \n",
       "4802    1.929883  [{\"name\": \"rusty bear entertainment\", \"id\": 87...   \n",
       "\n",
       "                                   production_countries release_date  revenue  \\\n",
       "4801  [{\"iso_3166_1\": \"US\", \"name\": \"United States o...   2012-05-03        0   \n",
       "4802  [{\"iso_3166_1\": \"US\", \"name\": \"United States o...   2005-08-05        0   \n",
       "\n",
       "      runtime                          spoken_languages    status  \\\n",
       "4801     98.0  [{\"iso_639_1\": \"en\", \"name\": \"English\"}]  Released   \n",
       "4802     90.0  [{\"iso_639_1\": \"en\", \"name\": \"English\"}]  Released   \n",
       "\n",
       "                       tagline              title  vote_average  vote_count  \n",
       "4801  A New Yorker in Shanghai   Shanghai Calling           5.7           7  \n",
       "4802                       NaN  My Date with Drew           6.3          16  "
      ]
     },
     "execution_count": 4,
     "metadata": {},
     "output_type": "execute_result"
    }
   ],
   "source": [
    "dfm.tail(2)"
   ]
  },
  {
   "cell_type": "code",
   "execution_count": 5,
   "id": "529887fd-2ef4-4407-9294-e1f27c313b9d",
   "metadata": {},
   "outputs": [
    {
     "name": "stdout",
     "output_type": "stream",
     "text": [
      "<class 'pandas.core.frame.DataFrame'>\n",
      "RangeIndex: 4803 entries, 0 to 4802\n",
      "Data columns (total 20 columns):\n",
      " #   Column                Non-Null Count  Dtype  \n",
      "---  ------                --------------  -----  \n",
      " 0   budget                4803 non-null   int64  \n",
      " 1   genres                4803 non-null   object \n",
      " 2   homepage              1712 non-null   object \n",
      " 3   id                    4803 non-null   int64  \n",
      " 4   keywords              4803 non-null   object \n",
      " 5   original_language     4803 non-null   object \n",
      " 6   original_title        4803 non-null   object \n",
      " 7   overview              4800 non-null   object \n",
      " 8   popularity            4803 non-null   float64\n",
      " 9   production_companies  4803 non-null   object \n",
      " 10  production_countries  4803 non-null   object \n",
      " 11  release_date          4802 non-null   object \n",
      " 12  revenue               4803 non-null   int64  \n",
      " 13  runtime               4801 non-null   float64\n",
      " 14  spoken_languages      4803 non-null   object \n",
      " 15  status                4803 non-null   object \n",
      " 16  tagline               3959 non-null   object \n",
      " 17  title                 4803 non-null   object \n",
      " 18  vote_average          4803 non-null   float64\n",
      " 19  vote_count            4803 non-null   int64  \n",
      "dtypes: float64(3), int64(4), object(13)\n",
      "memory usage: 750.6+ KB\n"
     ]
    }
   ],
   "source": [
    "dfm.info()"
   ]
  },
  {
   "cell_type": "code",
   "execution_count": 6,
   "id": "dc6d0ec4-f362-4a29-99d7-58055eddb15f",
   "metadata": {},
   "outputs": [
    {
     "data": {
      "text/plain": [
       "(4803, 20)"
      ]
     },
     "execution_count": 6,
     "metadata": {},
     "output_type": "execute_result"
    }
   ],
   "source": [
    "dfm.shape"
   ]
  },
  {
   "cell_type": "code",
   "execution_count": 7,
   "id": "21829a0c-6a6a-4e2f-8748-5f82b949a309",
   "metadata": {},
   "outputs": [
    {
     "data": {
      "text/plain": [
       "budget                     0\n",
       "genres                     0\n",
       "homepage                3091\n",
       "id                         0\n",
       "keywords                   0\n",
       "original_language          0\n",
       "original_title             0\n",
       "overview                   3\n",
       "popularity                 0\n",
       "production_companies       0\n",
       "production_countries       0\n",
       "release_date               1\n",
       "revenue                    0\n",
       "runtime                    2\n",
       "spoken_languages           0\n",
       "status                     0\n",
       "tagline                  844\n",
       "title                      0\n",
       "vote_average               0\n",
       "vote_count                 0\n",
       "dtype: int64"
      ]
     },
     "execution_count": 7,
     "metadata": {},
     "output_type": "execute_result"
    }
   ],
   "source": [
    "dfm.isnull().sum()"
   ]
  },
  {
   "cell_type": "code",
   "execution_count": 8,
   "id": "f0e22bf2-c6c7-48b3-a0fb-38c1b0f98243",
   "metadata": {},
   "outputs": [
    {
     "data": {
      "text/html": [
       "<div>\n",
       "<style scoped>\n",
       "    .dataframe tbody tr th:only-of-type {\n",
       "        vertical-align: middle;\n",
       "    }\n",
       "\n",
       "    .dataframe tbody tr th {\n",
       "        vertical-align: top;\n",
       "    }\n",
       "\n",
       "    .dataframe thead th {\n",
       "        text-align: right;\n",
       "    }\n",
       "</style>\n",
       "<table border=\"1\" class=\"dataframe\">\n",
       "  <thead>\n",
       "    <tr style=\"text-align: right;\">\n",
       "      <th></th>\n",
       "      <th>movie_id</th>\n",
       "      <th>title</th>\n",
       "      <th>cast</th>\n",
       "      <th>crew</th>\n",
       "    </tr>\n",
       "  </thead>\n",
       "  <tbody>\n",
       "    <tr>\n",
       "      <th>0</th>\n",
       "      <td>19995</td>\n",
       "      <td>Avatar</td>\n",
       "      <td>[{\"cast_id\": 242, \"character\": \"Jake Sully\", \"...</td>\n",
       "      <td>[{\"credit_id\": \"52fe48009251416c750aca23\", \"de...</td>\n",
       "    </tr>\n",
       "  </tbody>\n",
       "</table>\n",
       "</div>"
      ],
      "text/plain": [
       "   movie_id   title                                               cast  \\\n",
       "0     19995  Avatar  [{\"cast_id\": 242, \"character\": \"Jake Sully\", \"...   \n",
       "\n",
       "                                                crew  \n",
       "0  [{\"credit_id\": \"52fe48009251416c750aca23\", \"de...  "
      ]
     },
     "execution_count": 8,
     "metadata": {},
     "output_type": "execute_result"
    }
   ],
   "source": [
    "dfc.head(1)"
   ]
  },
  {
   "cell_type": "code",
   "execution_count": 9,
   "id": "a9a821e8-fa60-4259-84b1-543f677115e9",
   "metadata": {},
   "outputs": [
    {
     "data": {
      "text/plain": [
       "(4803, 4)"
      ]
     },
     "execution_count": 9,
     "metadata": {},
     "output_type": "execute_result"
    }
   ],
   "source": [
    "dfc.shape"
   ]
  },
  {
   "cell_type": "code",
   "execution_count": 10,
   "id": "1647d7f5-4345-4ef4-8c42-9557dfc2d507",
   "metadata": {},
   "outputs": [],
   "source": [
    "#merge datasets\n",
    "df=dfm.merge(dfc,on='title')"
   ]
  },
  {
   "cell_type": "code",
   "execution_count": 11,
   "id": "b5537511-dcb3-4164-b65d-e62195343c04",
   "metadata": {},
   "outputs": [
    {
     "data": {
      "text/plain": [
       "(4809, 23)"
      ]
     },
     "execution_count": 11,
     "metadata": {},
     "output_type": "execute_result"
    }
   ],
   "source": [
    "df.shape"
   ]
  },
  {
   "cell_type": "code",
   "execution_count": 12,
   "id": "396e00ee-c5ba-466b-9a9d-daacee2d86c0",
   "metadata": {},
   "outputs": [
    {
     "data": {
      "text/html": [
       "<div>\n",
       "<style scoped>\n",
       "    .dataframe tbody tr th:only-of-type {\n",
       "        vertical-align: middle;\n",
       "    }\n",
       "\n",
       "    .dataframe tbody tr th {\n",
       "        vertical-align: top;\n",
       "    }\n",
       "\n",
       "    .dataframe thead th {\n",
       "        text-align: right;\n",
       "    }\n",
       "</style>\n",
       "<table border=\"1\" class=\"dataframe\">\n",
       "  <thead>\n",
       "    <tr style=\"text-align: right;\">\n",
       "      <th></th>\n",
       "      <th>budget</th>\n",
       "      <th>genres</th>\n",
       "      <th>homepage</th>\n",
       "      <th>id</th>\n",
       "      <th>keywords</th>\n",
       "      <th>original_language</th>\n",
       "      <th>original_title</th>\n",
       "      <th>overview</th>\n",
       "      <th>popularity</th>\n",
       "      <th>production_companies</th>\n",
       "      <th>...</th>\n",
       "      <th>runtime</th>\n",
       "      <th>spoken_languages</th>\n",
       "      <th>status</th>\n",
       "      <th>tagline</th>\n",
       "      <th>title</th>\n",
       "      <th>vote_average</th>\n",
       "      <th>vote_count</th>\n",
       "      <th>movie_id</th>\n",
       "      <th>cast</th>\n",
       "      <th>crew</th>\n",
       "    </tr>\n",
       "  </thead>\n",
       "  <tbody>\n",
       "    <tr>\n",
       "      <th>0</th>\n",
       "      <td>237000000</td>\n",
       "      <td>[{\"id\": 28, \"name\": \"Action\"}, {\"id\": 12, \"nam...</td>\n",
       "      <td>http://www.avatarmovie.com/</td>\n",
       "      <td>19995</td>\n",
       "      <td>[{\"id\": 1463, \"name\": \"culture clash\"}, {\"id\":...</td>\n",
       "      <td>en</td>\n",
       "      <td>Avatar</td>\n",
       "      <td>In the 22nd century, a paraplegic Marine is di...</td>\n",
       "      <td>150.437577</td>\n",
       "      <td>[{\"name\": \"Ingenious Film Partners\", \"id\": 289...</td>\n",
       "      <td>...</td>\n",
       "      <td>162.0</td>\n",
       "      <td>[{\"iso_639_1\": \"en\", \"name\": \"English\"}, {\"iso...</td>\n",
       "      <td>Released</td>\n",
       "      <td>Enter the World of Pandora.</td>\n",
       "      <td>Avatar</td>\n",
       "      <td>7.2</td>\n",
       "      <td>11800</td>\n",
       "      <td>19995</td>\n",
       "      <td>[{\"cast_id\": 242, \"character\": \"Jake Sully\", \"...</td>\n",
       "      <td>[{\"credit_id\": \"52fe48009251416c750aca23\", \"de...</td>\n",
       "    </tr>\n",
       "  </tbody>\n",
       "</table>\n",
       "<p>1 rows × 23 columns</p>\n",
       "</div>"
      ],
      "text/plain": [
       "      budget                                             genres  \\\n",
       "0  237000000  [{\"id\": 28, \"name\": \"Action\"}, {\"id\": 12, \"nam...   \n",
       "\n",
       "                      homepage     id  \\\n",
       "0  http://www.avatarmovie.com/  19995   \n",
       "\n",
       "                                            keywords original_language  \\\n",
       "0  [{\"id\": 1463, \"name\": \"culture clash\"}, {\"id\":...                en   \n",
       "\n",
       "  original_title                                           overview  \\\n",
       "0         Avatar  In the 22nd century, a paraplegic Marine is di...   \n",
       "\n",
       "   popularity                               production_companies  ... runtime  \\\n",
       "0  150.437577  [{\"name\": \"Ingenious Film Partners\", \"id\": 289...  ...   162.0   \n",
       "\n",
       "                                    spoken_languages    status  \\\n",
       "0  [{\"iso_639_1\": \"en\", \"name\": \"English\"}, {\"iso...  Released   \n",
       "\n",
       "                       tagline   title vote_average vote_count movie_id  \\\n",
       "0  Enter the World of Pandora.  Avatar          7.2      11800    19995   \n",
       "\n",
       "                                                cast  \\\n",
       "0  [{\"cast_id\": 242, \"character\": \"Jake Sully\", \"...   \n",
       "\n",
       "                                                crew  \n",
       "0  [{\"credit_id\": \"52fe48009251416c750aca23\", \"de...  \n",
       "\n",
       "[1 rows x 23 columns]"
      ]
     },
     "execution_count": 12,
     "metadata": {},
     "output_type": "execute_result"
    }
   ],
   "source": [
    "df.head(1)"
   ]
  },
  {
   "cell_type": "code",
   "execution_count": 13,
   "id": "efec3f33-b5bc-4292-9b56-a90cafe5d634",
   "metadata": {},
   "outputs": [
    {
     "data": {
      "text/plain": [
       "keywords\n",
       "[]                                                                                                                                                                                                                                                                                                                                                                                                                                                                                                                                                                                                                  412\n",
       "[{\"id\": 10183, \"name\": \"independent film\"}]                                                                                                                                                                                                                                                                                                                                                                                                                                                                                                                                                                          55\n",
       "[{\"id\": 187056, \"name\": \"woman director\"}]                                                                                                                                                                                                                                                                                                                                                                                                                                                                                                                                                                           42\n",
       "[{\"id\": 179431, \"name\": \"duringcreditsstinger\"}]                                                                                                                                                                                                                                                                                                                                                                                                                                                                                                                                                                     15\n",
       "[{\"id\": 6075, \"name\": \"sport\"}]                                                                                                                                                                                                                                                                                                                                                                                                                                                                                                                                                                                      13\n",
       "                                                                                                                                                                                                                                                                                                                                                                                                                                                                                                                                                                                                                   ... \n",
       "[{\"id\": 483, \"name\": \"riddle\"}, {\"id\": 588, \"name\": \"rome\"}, {\"id\": 716, \"name\": \"vatican\"}, {\"id\": 3271, \"name\": \"secret organization\"}, {\"id\": 5340, \"name\": \"investigation\"}, {\"id\": 7412, \"name\": \"sin\"}, {\"id\": 10063, \"name\": \"repentance\"}, {\"id\": 10093, \"name\": \"priest\"}, {\"id\": 12565, \"name\": \"psychological thriller\"}, {\"id\": 14819, \"name\": \"violence\"}, {\"id\": 157008, \"name\": \"catholic church\"}, {\"id\": 172762, \"name\": \"sin eater\"}, {\"id\": 172772, \"name\": \"mentor prot\\u00e9g\\u00e9 relationship\"}, {\"id\": 172792, \"name\": \"reference to god\"}, {\"id\": 204017, \"name\": \"suspicious death\"}]      1\n",
       "[{\"id\": 10525, \"name\": \"broken neck\"}, {\"id\": 18525, \"name\": \"fbi agent\"}, {\"id\": 174947, \"name\": \"wall safe\"}, {\"id\": 174953, \"name\": \"trashed house\"}, {\"id\": 174954, \"name\": \"aerial shot\"}, {\"id\": 174959, \"name\": \"military dress uniform\"}, {\"id\": 174960, \"name\": \"vanity\"}, {\"id\": 174968, \"name\": \"flare\"}, {\"id\": 187056, \"name\": \"woman director\"}]                                                                                                                                                                                                                                                        1\n",
       "[{\"id\": 9715, \"name\": \"superhero\"}, {\"id\": 9963, \"name\": \"kids and family\"}]                                                                                                                                                                                                                                                                                                                                                                                                                                                                                                                                          1\n",
       "[{\"id\": 1228, \"name\": \"1970s\"}, {\"id\": 1418, \"name\": \"skyscraper\"}, {\"id\": 9672, \"name\": \"based on true story\"}, {\"id\": 156770, \"name\": \"tightrope\"}, {\"id\": 159334, \"name\": \"planning\"}, {\"id\": 161306, \"name\": \"world trade center\"}]                                                                                                                                                                                                                                                                                                                                                                               1\n",
       "[{\"id\": 1523, \"name\": \"obsession\"}, {\"id\": 2249, \"name\": \"camcorder\"}, {\"id\": 9986, \"name\": \"crush\"}, {\"id\": 11223, \"name\": \"dream girl\"}]                                                                                                                                                                                                                                                                                                                                                                                                                                                                            1\n",
       "Name: count, Length: 4222, dtype: int64"
      ]
     },
     "execution_count": 13,
     "metadata": {},
     "output_type": "execute_result"
    }
   ],
   "source": [
    "df['keywords'].value_counts()"
   ]
  },
  {
   "cell_type": "code",
   "execution_count": 14,
   "id": "2ff36f98-2e22-48c7-82bb-69326e4e59a8",
   "metadata": {},
   "outputs": [
    {
     "name": "stdout",
     "output_type": "stream",
     "text": [
      "<class 'pandas.core.frame.DataFrame'>\n",
      "RangeIndex: 4809 entries, 0 to 4808\n",
      "Data columns (total 23 columns):\n",
      " #   Column                Non-Null Count  Dtype  \n",
      "---  ------                --------------  -----  \n",
      " 0   budget                4809 non-null   int64  \n",
      " 1   genres                4809 non-null   object \n",
      " 2   homepage              1713 non-null   object \n",
      " 3   id                    4809 non-null   int64  \n",
      " 4   keywords              4809 non-null   object \n",
      " 5   original_language     4809 non-null   object \n",
      " 6   original_title        4809 non-null   object \n",
      " 7   overview              4806 non-null   object \n",
      " 8   popularity            4809 non-null   float64\n",
      " 9   production_companies  4809 non-null   object \n",
      " 10  production_countries  4809 non-null   object \n",
      " 11  release_date          4808 non-null   object \n",
      " 12  revenue               4809 non-null   int64  \n",
      " 13  runtime               4807 non-null   float64\n",
      " 14  spoken_languages      4809 non-null   object \n",
      " 15  status                4809 non-null   object \n",
      " 16  tagline               3965 non-null   object \n",
      " 17  title                 4809 non-null   object \n",
      " 18  vote_average          4809 non-null   float64\n",
      " 19  vote_count            4809 non-null   int64  \n",
      " 20  movie_id              4809 non-null   int64  \n",
      " 21  cast                  4809 non-null   object \n",
      " 22  crew                  4809 non-null   object \n",
      "dtypes: float64(3), int64(5), object(15)\n",
      "memory usage: 864.2+ KB\n"
     ]
    }
   ],
   "source": [
    "df.info()"
   ]
  },
  {
   "cell_type": "code",
   "execution_count": 15,
   "id": "3465691b-5104-450d-a41a-e1c375615ac8",
   "metadata": {},
   "outputs": [],
   "source": [
    "#column selection\n",
    "df=df[['movie_id','genres','keywords','overview','title','cast','crew']]"
   ]
  },
  {
   "cell_type": "code",
   "execution_count": 16,
   "id": "1418f7d3-8bd8-4941-a38a-ab8ba8c497eb",
   "metadata": {},
   "outputs": [
    {
     "data": {
      "text/html": [
       "<div>\n",
       "<style scoped>\n",
       "    .dataframe tbody tr th:only-of-type {\n",
       "        vertical-align: middle;\n",
       "    }\n",
       "\n",
       "    .dataframe tbody tr th {\n",
       "        vertical-align: top;\n",
       "    }\n",
       "\n",
       "    .dataframe thead th {\n",
       "        text-align: right;\n",
       "    }\n",
       "</style>\n",
       "<table border=\"1\" class=\"dataframe\">\n",
       "  <thead>\n",
       "    <tr style=\"text-align: right;\">\n",
       "      <th></th>\n",
       "      <th>movie_id</th>\n",
       "      <th>genres</th>\n",
       "      <th>keywords</th>\n",
       "      <th>overview</th>\n",
       "      <th>title</th>\n",
       "      <th>cast</th>\n",
       "      <th>crew</th>\n",
       "    </tr>\n",
       "  </thead>\n",
       "  <tbody>\n",
       "    <tr>\n",
       "      <th>0</th>\n",
       "      <td>19995</td>\n",
       "      <td>[{\"id\": 28, \"name\": \"Action\"}, {\"id\": 12, \"nam...</td>\n",
       "      <td>[{\"id\": 1463, \"name\": \"culture clash\"}, {\"id\":...</td>\n",
       "      <td>In the 22nd century, a paraplegic Marine is di...</td>\n",
       "      <td>Avatar</td>\n",
       "      <td>[{\"cast_id\": 242, \"character\": \"Jake Sully\", \"...</td>\n",
       "      <td>[{\"credit_id\": \"52fe48009251416c750aca23\", \"de...</td>\n",
       "    </tr>\n",
       "    <tr>\n",
       "      <th>1</th>\n",
       "      <td>285</td>\n",
       "      <td>[{\"id\": 12, \"name\": \"Adventure\"}, {\"id\": 14, \"...</td>\n",
       "      <td>[{\"id\": 270, \"name\": \"ocean\"}, {\"id\": 726, \"na...</td>\n",
       "      <td>Captain Barbossa, long believed to be dead, ha...</td>\n",
       "      <td>Pirates of the Caribbean: At World's End</td>\n",
       "      <td>[{\"cast_id\": 4, \"character\": \"Captain Jack Spa...</td>\n",
       "      <td>[{\"credit_id\": \"52fe4232c3a36847f800b579\", \"de...</td>\n",
       "    </tr>\n",
       "    <tr>\n",
       "      <th>2</th>\n",
       "      <td>206647</td>\n",
       "      <td>[{\"id\": 28, \"name\": \"Action\"}, {\"id\": 12, \"nam...</td>\n",
       "      <td>[{\"id\": 470, \"name\": \"spy\"}, {\"id\": 818, \"name...</td>\n",
       "      <td>A cryptic message from Bond’s past sends him o...</td>\n",
       "      <td>Spectre</td>\n",
       "      <td>[{\"cast_id\": 1, \"character\": \"James Bond\", \"cr...</td>\n",
       "      <td>[{\"credit_id\": \"54805967c3a36829b5002c41\", \"de...</td>\n",
       "    </tr>\n",
       "    <tr>\n",
       "      <th>3</th>\n",
       "      <td>49026</td>\n",
       "      <td>[{\"id\": 28, \"name\": \"Action\"}, {\"id\": 80, \"nam...</td>\n",
       "      <td>[{\"id\": 849, \"name\": \"dc comics\"}, {\"id\": 853,...</td>\n",
       "      <td>Following the death of District Attorney Harve...</td>\n",
       "      <td>The Dark Knight Rises</td>\n",
       "      <td>[{\"cast_id\": 2, \"character\": \"Bruce Wayne / Ba...</td>\n",
       "      <td>[{\"credit_id\": \"52fe4781c3a36847f81398c3\", \"de...</td>\n",
       "    </tr>\n",
       "    <tr>\n",
       "      <th>4</th>\n",
       "      <td>49529</td>\n",
       "      <td>[{\"id\": 28, \"name\": \"Action\"}, {\"id\": 12, \"nam...</td>\n",
       "      <td>[{\"id\": 818, \"name\": \"based on novel\"}, {\"id\":...</td>\n",
       "      <td>John Carter is a war-weary, former military ca...</td>\n",
       "      <td>John Carter</td>\n",
       "      <td>[{\"cast_id\": 5, \"character\": \"John Carter\", \"c...</td>\n",
       "      <td>[{\"credit_id\": \"52fe479ac3a36847f813eaa3\", \"de...</td>\n",
       "    </tr>\n",
       "  </tbody>\n",
       "</table>\n",
       "</div>"
      ],
      "text/plain": [
       "   movie_id                                             genres  \\\n",
       "0     19995  [{\"id\": 28, \"name\": \"Action\"}, {\"id\": 12, \"nam...   \n",
       "1       285  [{\"id\": 12, \"name\": \"Adventure\"}, {\"id\": 14, \"...   \n",
       "2    206647  [{\"id\": 28, \"name\": \"Action\"}, {\"id\": 12, \"nam...   \n",
       "3     49026  [{\"id\": 28, \"name\": \"Action\"}, {\"id\": 80, \"nam...   \n",
       "4     49529  [{\"id\": 28, \"name\": \"Action\"}, {\"id\": 12, \"nam...   \n",
       "\n",
       "                                            keywords  \\\n",
       "0  [{\"id\": 1463, \"name\": \"culture clash\"}, {\"id\":...   \n",
       "1  [{\"id\": 270, \"name\": \"ocean\"}, {\"id\": 726, \"na...   \n",
       "2  [{\"id\": 470, \"name\": \"spy\"}, {\"id\": 818, \"name...   \n",
       "3  [{\"id\": 849, \"name\": \"dc comics\"}, {\"id\": 853,...   \n",
       "4  [{\"id\": 818, \"name\": \"based on novel\"}, {\"id\":...   \n",
       "\n",
       "                                            overview  \\\n",
       "0  In the 22nd century, a paraplegic Marine is di...   \n",
       "1  Captain Barbossa, long believed to be dead, ha...   \n",
       "2  A cryptic message from Bond’s past sends him o...   \n",
       "3  Following the death of District Attorney Harve...   \n",
       "4  John Carter is a war-weary, former military ca...   \n",
       "\n",
       "                                      title  \\\n",
       "0                                    Avatar   \n",
       "1  Pirates of the Caribbean: At World's End   \n",
       "2                                   Spectre   \n",
       "3                     The Dark Knight Rises   \n",
       "4                               John Carter   \n",
       "\n",
       "                                                cast  \\\n",
       "0  [{\"cast_id\": 242, \"character\": \"Jake Sully\", \"...   \n",
       "1  [{\"cast_id\": 4, \"character\": \"Captain Jack Spa...   \n",
       "2  [{\"cast_id\": 1, \"character\": \"James Bond\", \"cr...   \n",
       "3  [{\"cast_id\": 2, \"character\": \"Bruce Wayne / Ba...   \n",
       "4  [{\"cast_id\": 5, \"character\": \"John Carter\", \"c...   \n",
       "\n",
       "                                                crew  \n",
       "0  [{\"credit_id\": \"52fe48009251416c750aca23\", \"de...  \n",
       "1  [{\"credit_id\": \"52fe4232c3a36847f800b579\", \"de...  \n",
       "2  [{\"credit_id\": \"54805967c3a36829b5002c41\", \"de...  \n",
       "3  [{\"credit_id\": \"52fe4781c3a36847f81398c3\", \"de...  \n",
       "4  [{\"credit_id\": \"52fe479ac3a36847f813eaa3\", \"de...  "
      ]
     },
     "execution_count": 16,
     "metadata": {},
     "output_type": "execute_result"
    }
   ],
   "source": [
    "df.head(5)"
   ]
  },
  {
   "cell_type": "code",
   "execution_count": 17,
   "id": "a3557578-3239-4427-8081-5ace7d2bb4df",
   "metadata": {},
   "outputs": [],
   "source": [
    "#making tags"
   ]
  },
  {
   "cell_type": "code",
   "execution_count": 18,
   "id": "85cd6ea8-9a0f-4315-9f58-36614ece69a7",
   "metadata": {},
   "outputs": [
    {
     "data": {
      "text/plain": [
       "movie_id    0\n",
       "genres      0\n",
       "keywords    0\n",
       "overview    3\n",
       "title       0\n",
       "cast        0\n",
       "crew        0\n",
       "dtype: int64"
      ]
     },
     "execution_count": 18,
     "metadata": {},
     "output_type": "execute_result"
    }
   ],
   "source": [
    "#check null\n",
    "df.isnull().sum()"
   ]
  },
  {
   "cell_type": "code",
   "execution_count": 19,
   "id": "b464b655-d297-4683-aadd-80524cef7c01",
   "metadata": {},
   "outputs": [],
   "source": [
    "df.dropna(inplace=True)"
   ]
  },
  {
   "cell_type": "code",
   "execution_count": 20,
   "id": "7280c9c7-4364-4de7-a71a-2ef741cb4598",
   "metadata": {},
   "outputs": [
    {
     "data": {
      "text/plain": [
       "0"
      ]
     },
     "execution_count": 20,
     "metadata": {},
     "output_type": "execute_result"
    }
   ],
   "source": [
    "df.duplicated().sum()"
   ]
  },
  {
   "cell_type": "code",
   "execution_count": 21,
   "id": "a05e43c8-f23a-48b6-adee-35f674524b89",
   "metadata": {},
   "outputs": [
    {
     "data": {
      "text/plain": [
       "'[{\"id\": 28, \"name\": \"Action\"}, {\"id\": 12, \"name\": \"Adventure\"}, {\"id\": 14, \"name\": \"Fantasy\"}, {\"id\": 878, \"name\": \"Science Fiction\"}]'"
      ]
     },
     "execution_count": 21,
     "metadata": {},
     "output_type": "execute_result"
    }
   ],
   "source": [
    "df.iloc[0].genres"
   ]
  },
  {
   "cell_type": "code",
   "execution_count": 22,
   "id": "847a9eb7-c563-4cfd-8f35-ad56b34648a6",
   "metadata": {},
   "outputs": [],
   "source": [
    "#import ast\n",
    "#print(ast.literal_eval('[{\"id\": 28, \"name\": \"Action\"}, {\"id\": 12, \"name\": \"Adventure\"}, {\"id\": 14, \"name\": \"Fantasy\"}, {\"id\": 878, \"name\": \"Science Fiction\"}]'))"
   ]
  },
  {
   "cell_type": "code",
   "execution_count": 23,
   "id": "cd6ba99e-45f8-47b5-8ab3-8055fc291aa3",
   "metadata": {},
   "outputs": [],
   "source": [
    "#changing column formats\n",
    "#the values are in string of list so we have to change it into list using ast.literal_eval\n",
    "import ast\n",
    "def change(obj):\n",
    "    l=[]\n",
    "    for i in ast.literal_eval(obj):\n",
    "        l.append(i['name'])\n",
    "    return l"
   ]
  },
  {
   "cell_type": "code",
   "execution_count": 24,
   "id": "78056c03-0ac2-42ea-894c-a38d8671b467",
   "metadata": {},
   "outputs": [
    {
     "data": {
      "text/html": [
       "<div>\n",
       "<style scoped>\n",
       "    .dataframe tbody tr th:only-of-type {\n",
       "        vertical-align: middle;\n",
       "    }\n",
       "\n",
       "    .dataframe tbody tr th {\n",
       "        vertical-align: top;\n",
       "    }\n",
       "\n",
       "    .dataframe thead th {\n",
       "        text-align: right;\n",
       "    }\n",
       "</style>\n",
       "<table border=\"1\" class=\"dataframe\">\n",
       "  <thead>\n",
       "    <tr style=\"text-align: right;\">\n",
       "      <th></th>\n",
       "      <th>movie_id</th>\n",
       "      <th>genres</th>\n",
       "      <th>keywords</th>\n",
       "      <th>overview</th>\n",
       "      <th>title</th>\n",
       "      <th>cast</th>\n",
       "      <th>crew</th>\n",
       "    </tr>\n",
       "  </thead>\n",
       "  <tbody>\n",
       "    <tr>\n",
       "      <th>0</th>\n",
       "      <td>19995</td>\n",
       "      <td>[Action, Adventure, Fantasy, Science Fiction]</td>\n",
       "      <td>[{\"id\": 1463, \"name\": \"culture clash\"}, {\"id\":...</td>\n",
       "      <td>In the 22nd century, a paraplegic Marine is di...</td>\n",
       "      <td>Avatar</td>\n",
       "      <td>[{\"cast_id\": 242, \"character\": \"Jake Sully\", \"...</td>\n",
       "      <td>[{\"credit_id\": \"52fe48009251416c750aca23\", \"de...</td>\n",
       "    </tr>\n",
       "    <tr>\n",
       "      <th>1</th>\n",
       "      <td>285</td>\n",
       "      <td>[Adventure, Fantasy, Action]</td>\n",
       "      <td>[{\"id\": 270, \"name\": \"ocean\"}, {\"id\": 726, \"na...</td>\n",
       "      <td>Captain Barbossa, long believed to be dead, ha...</td>\n",
       "      <td>Pirates of the Caribbean: At World's End</td>\n",
       "      <td>[{\"cast_id\": 4, \"character\": \"Captain Jack Spa...</td>\n",
       "      <td>[{\"credit_id\": \"52fe4232c3a36847f800b579\", \"de...</td>\n",
       "    </tr>\n",
       "    <tr>\n",
       "      <th>2</th>\n",
       "      <td>206647</td>\n",
       "      <td>[Action, Adventure, Crime]</td>\n",
       "      <td>[{\"id\": 470, \"name\": \"spy\"}, {\"id\": 818, \"name...</td>\n",
       "      <td>A cryptic message from Bond’s past sends him o...</td>\n",
       "      <td>Spectre</td>\n",
       "      <td>[{\"cast_id\": 1, \"character\": \"James Bond\", \"cr...</td>\n",
       "      <td>[{\"credit_id\": \"54805967c3a36829b5002c41\", \"de...</td>\n",
       "    </tr>\n",
       "    <tr>\n",
       "      <th>3</th>\n",
       "      <td>49026</td>\n",
       "      <td>[Action, Crime, Drama, Thriller]</td>\n",
       "      <td>[{\"id\": 849, \"name\": \"dc comics\"}, {\"id\": 853,...</td>\n",
       "      <td>Following the death of District Attorney Harve...</td>\n",
       "      <td>The Dark Knight Rises</td>\n",
       "      <td>[{\"cast_id\": 2, \"character\": \"Bruce Wayne / Ba...</td>\n",
       "      <td>[{\"credit_id\": \"52fe4781c3a36847f81398c3\", \"de...</td>\n",
       "    </tr>\n",
       "    <tr>\n",
       "      <th>4</th>\n",
       "      <td>49529</td>\n",
       "      <td>[Action, Adventure, Science Fiction]</td>\n",
       "      <td>[{\"id\": 818, \"name\": \"based on novel\"}, {\"id\":...</td>\n",
       "      <td>John Carter is a war-weary, former military ca...</td>\n",
       "      <td>John Carter</td>\n",
       "      <td>[{\"cast_id\": 5, \"character\": \"John Carter\", \"c...</td>\n",
       "      <td>[{\"credit_id\": \"52fe479ac3a36847f813eaa3\", \"de...</td>\n",
       "    </tr>\n",
       "  </tbody>\n",
       "</table>\n",
       "</div>"
      ],
      "text/plain": [
       "   movie_id                                         genres  \\\n",
       "0     19995  [Action, Adventure, Fantasy, Science Fiction]   \n",
       "1       285                   [Adventure, Fantasy, Action]   \n",
       "2    206647                     [Action, Adventure, Crime]   \n",
       "3     49026               [Action, Crime, Drama, Thriller]   \n",
       "4     49529           [Action, Adventure, Science Fiction]   \n",
       "\n",
       "                                            keywords  \\\n",
       "0  [{\"id\": 1463, \"name\": \"culture clash\"}, {\"id\":...   \n",
       "1  [{\"id\": 270, \"name\": \"ocean\"}, {\"id\": 726, \"na...   \n",
       "2  [{\"id\": 470, \"name\": \"spy\"}, {\"id\": 818, \"name...   \n",
       "3  [{\"id\": 849, \"name\": \"dc comics\"}, {\"id\": 853,...   \n",
       "4  [{\"id\": 818, \"name\": \"based on novel\"}, {\"id\":...   \n",
       "\n",
       "                                            overview  \\\n",
       "0  In the 22nd century, a paraplegic Marine is di...   \n",
       "1  Captain Barbossa, long believed to be dead, ha...   \n",
       "2  A cryptic message from Bond’s past sends him o...   \n",
       "3  Following the death of District Attorney Harve...   \n",
       "4  John Carter is a war-weary, former military ca...   \n",
       "\n",
       "                                      title  \\\n",
       "0                                    Avatar   \n",
       "1  Pirates of the Caribbean: At World's End   \n",
       "2                                   Spectre   \n",
       "3                     The Dark Knight Rises   \n",
       "4                               John Carter   \n",
       "\n",
       "                                                cast  \\\n",
       "0  [{\"cast_id\": 242, \"character\": \"Jake Sully\", \"...   \n",
       "1  [{\"cast_id\": 4, \"character\": \"Captain Jack Spa...   \n",
       "2  [{\"cast_id\": 1, \"character\": \"James Bond\", \"cr...   \n",
       "3  [{\"cast_id\": 2, \"character\": \"Bruce Wayne / Ba...   \n",
       "4  [{\"cast_id\": 5, \"character\": \"John Carter\", \"c...   \n",
       "\n",
       "                                                crew  \n",
       "0  [{\"credit_id\": \"52fe48009251416c750aca23\", \"de...  \n",
       "1  [{\"credit_id\": \"52fe4232c3a36847f800b579\", \"de...  \n",
       "2  [{\"credit_id\": \"54805967c3a36829b5002c41\", \"de...  \n",
       "3  [{\"credit_id\": \"52fe4781c3a36847f81398c3\", \"de...  \n",
       "4  [{\"credit_id\": \"52fe479ac3a36847f813eaa3\", \"de...  "
      ]
     },
     "execution_count": 24,
     "metadata": {},
     "output_type": "execute_result"
    }
   ],
   "source": [
    "df['genres']=df['genres'].apply(change)\n",
    "df.head()"
   ]
  },
  {
   "cell_type": "code",
   "execution_count": 25,
   "id": "e614b67d-515d-4742-a7c7-d41387585fa0",
   "metadata": {},
   "outputs": [
    {
     "data": {
      "text/plain": [
       "'[{\"id\": 1463, \"name\": \"culture clash\"}, {\"id\": 2964, \"name\": \"future\"}, {\"id\": 3386, \"name\": \"space war\"}, {\"id\": 3388, \"name\": \"space colony\"}, {\"id\": 3679, \"name\": \"society\"}, {\"id\": 3801, \"name\": \"space travel\"}, {\"id\": 9685, \"name\": \"futuristic\"}, {\"id\": 9840, \"name\": \"romance\"}, {\"id\": 9882, \"name\": \"space\"}, {\"id\": 9951, \"name\": \"alien\"}, {\"id\": 10148, \"name\": \"tribe\"}, {\"id\": 10158, \"name\": \"alien planet\"}, {\"id\": 10987, \"name\": \"cgi\"}, {\"id\": 11399, \"name\": \"marine\"}, {\"id\": 13065, \"name\": \"soldier\"}, {\"id\": 14643, \"name\": \"battle\"}, {\"id\": 14720, \"name\": \"love affair\"}, {\"id\": 165431, \"name\": \"anti war\"}, {\"id\": 193554, \"name\": \"power relations\"}, {\"id\": 206690, \"name\": \"mind and soul\"}, {\"id\": 209714, \"name\": \"3d\"}]'"
      ]
     },
     "execution_count": 25,
     "metadata": {},
     "output_type": "execute_result"
    }
   ],
   "source": [
    "df.iloc[0].keywords"
   ]
  },
  {
   "cell_type": "code",
   "execution_count": 26,
   "id": "34b18a88-290b-4a83-97d7-85caa9aca2fb",
   "metadata": {},
   "outputs": [],
   "source": [
    "df['keywords']=df['keywords'].apply(change)"
   ]
  },
  {
   "cell_type": "code",
   "execution_count": 27,
   "id": "183df5dc-5101-4a27-a201-5e0f820b12a1",
   "metadata": {},
   "outputs": [
    {
     "data": {
      "text/html": [
       "<div>\n",
       "<style scoped>\n",
       "    .dataframe tbody tr th:only-of-type {\n",
       "        vertical-align: middle;\n",
       "    }\n",
       "\n",
       "    .dataframe tbody tr th {\n",
       "        vertical-align: top;\n",
       "    }\n",
       "\n",
       "    .dataframe thead th {\n",
       "        text-align: right;\n",
       "    }\n",
       "</style>\n",
       "<table border=\"1\" class=\"dataframe\">\n",
       "  <thead>\n",
       "    <tr style=\"text-align: right;\">\n",
       "      <th></th>\n",
       "      <th>movie_id</th>\n",
       "      <th>genres</th>\n",
       "      <th>keywords</th>\n",
       "      <th>overview</th>\n",
       "      <th>title</th>\n",
       "      <th>cast</th>\n",
       "      <th>crew</th>\n",
       "    </tr>\n",
       "  </thead>\n",
       "  <tbody>\n",
       "    <tr>\n",
       "      <th>0</th>\n",
       "      <td>19995</td>\n",
       "      <td>[Action, Adventure, Fantasy, Science Fiction]</td>\n",
       "      <td>[culture clash, future, space war, space colon...</td>\n",
       "      <td>In the 22nd century, a paraplegic Marine is di...</td>\n",
       "      <td>Avatar</td>\n",
       "      <td>[{\"cast_id\": 242, \"character\": \"Jake Sully\", \"...</td>\n",
       "      <td>[{\"credit_id\": \"52fe48009251416c750aca23\", \"de...</td>\n",
       "    </tr>\n",
       "    <tr>\n",
       "      <th>1</th>\n",
       "      <td>285</td>\n",
       "      <td>[Adventure, Fantasy, Action]</td>\n",
       "      <td>[ocean, drug abuse, exotic island, east india ...</td>\n",
       "      <td>Captain Barbossa, long believed to be dead, ha...</td>\n",
       "      <td>Pirates of the Caribbean: At World's End</td>\n",
       "      <td>[{\"cast_id\": 4, \"character\": \"Captain Jack Spa...</td>\n",
       "      <td>[{\"credit_id\": \"52fe4232c3a36847f800b579\", \"de...</td>\n",
       "    </tr>\n",
       "    <tr>\n",
       "      <th>2</th>\n",
       "      <td>206647</td>\n",
       "      <td>[Action, Adventure, Crime]</td>\n",
       "      <td>[spy, based on novel, secret agent, sequel, mi...</td>\n",
       "      <td>A cryptic message from Bond’s past sends him o...</td>\n",
       "      <td>Spectre</td>\n",
       "      <td>[{\"cast_id\": 1, \"character\": \"James Bond\", \"cr...</td>\n",
       "      <td>[{\"credit_id\": \"54805967c3a36829b5002c41\", \"de...</td>\n",
       "    </tr>\n",
       "    <tr>\n",
       "      <th>3</th>\n",
       "      <td>49026</td>\n",
       "      <td>[Action, Crime, Drama, Thriller]</td>\n",
       "      <td>[dc comics, crime fighter, terrorist, secret i...</td>\n",
       "      <td>Following the death of District Attorney Harve...</td>\n",
       "      <td>The Dark Knight Rises</td>\n",
       "      <td>[{\"cast_id\": 2, \"character\": \"Bruce Wayne / Ba...</td>\n",
       "      <td>[{\"credit_id\": \"52fe4781c3a36847f81398c3\", \"de...</td>\n",
       "    </tr>\n",
       "    <tr>\n",
       "      <th>4</th>\n",
       "      <td>49529</td>\n",
       "      <td>[Action, Adventure, Science Fiction]</td>\n",
       "      <td>[based on novel, mars, medallion, space travel...</td>\n",
       "      <td>John Carter is a war-weary, former military ca...</td>\n",
       "      <td>John Carter</td>\n",
       "      <td>[{\"cast_id\": 5, \"character\": \"John Carter\", \"c...</td>\n",
       "      <td>[{\"credit_id\": \"52fe479ac3a36847f813eaa3\", \"de...</td>\n",
       "    </tr>\n",
       "  </tbody>\n",
       "</table>\n",
       "</div>"
      ],
      "text/plain": [
       "   movie_id                                         genres  \\\n",
       "0     19995  [Action, Adventure, Fantasy, Science Fiction]   \n",
       "1       285                   [Adventure, Fantasy, Action]   \n",
       "2    206647                     [Action, Adventure, Crime]   \n",
       "3     49026               [Action, Crime, Drama, Thriller]   \n",
       "4     49529           [Action, Adventure, Science Fiction]   \n",
       "\n",
       "                                            keywords  \\\n",
       "0  [culture clash, future, space war, space colon...   \n",
       "1  [ocean, drug abuse, exotic island, east india ...   \n",
       "2  [spy, based on novel, secret agent, sequel, mi...   \n",
       "3  [dc comics, crime fighter, terrorist, secret i...   \n",
       "4  [based on novel, mars, medallion, space travel...   \n",
       "\n",
       "                                            overview  \\\n",
       "0  In the 22nd century, a paraplegic Marine is di...   \n",
       "1  Captain Barbossa, long believed to be dead, ha...   \n",
       "2  A cryptic message from Bond’s past sends him o...   \n",
       "3  Following the death of District Attorney Harve...   \n",
       "4  John Carter is a war-weary, former military ca...   \n",
       "\n",
       "                                      title  \\\n",
       "0                                    Avatar   \n",
       "1  Pirates of the Caribbean: At World's End   \n",
       "2                                   Spectre   \n",
       "3                     The Dark Knight Rises   \n",
       "4                               John Carter   \n",
       "\n",
       "                                                cast  \\\n",
       "0  [{\"cast_id\": 242, \"character\": \"Jake Sully\", \"...   \n",
       "1  [{\"cast_id\": 4, \"character\": \"Captain Jack Spa...   \n",
       "2  [{\"cast_id\": 1, \"character\": \"James Bond\", \"cr...   \n",
       "3  [{\"cast_id\": 2, \"character\": \"Bruce Wayne / Ba...   \n",
       "4  [{\"cast_id\": 5, \"character\": \"John Carter\", \"c...   \n",
       "\n",
       "                                                crew  \n",
       "0  [{\"credit_id\": \"52fe48009251416c750aca23\", \"de...  \n",
       "1  [{\"credit_id\": \"52fe4232c3a36847f800b579\", \"de...  \n",
       "2  [{\"credit_id\": \"54805967c3a36829b5002c41\", \"de...  \n",
       "3  [{\"credit_id\": \"52fe4781c3a36847f81398c3\", \"de...  \n",
       "4  [{\"credit_id\": \"52fe479ac3a36847f813eaa3\", \"de...  "
      ]
     },
     "execution_count": 27,
     "metadata": {},
     "output_type": "execute_result"
    }
   ],
   "source": [
    "df.head()"
   ]
  },
  {
   "cell_type": "code",
   "execution_count": 28,
   "id": "02ee324b-7411-4dfb-ba2f-29ca36b1857c",
   "metadata": {},
   "outputs": [
    {
     "data": {
      "text/plain": [
       "'[{\"cast_id\": 242, \"character\": \"Jake Sully\", \"credit_id\": \"5602a8a7c3a3685532001c9a\", \"gender\": 2, \"id\": 65731, \"name\": \"Sam Worthington\", \"order\": 0}, {\"cast_id\": 3, \"character\": \"Neytiri\", \"credit_id\": \"52fe48009251416c750ac9cb\", \"gender\": 1, \"id\": 8691, \"name\": \"Zoe Saldana\", \"order\": 1}, {\"cast_id\": 25, \"character\": \"Dr. Grace Augustine\", \"credit_id\": \"52fe48009251416c750aca39\", \"gender\": 1, \"id\": 10205, \"name\": \"Sigourney Weaver\", \"order\": 2}, {\"cast_id\": 4, \"character\": \"Col. Quaritch\", \"credit_id\": \"52fe48009251416c750ac9cf\", \"gender\": 2, \"id\": 32747, \"name\": \"Stephen Lang\", \"order\": 3}, {\"cast_id\": 5, \"character\": \"Trudy Chacon\", \"credit_id\": \"52fe48009251416c750ac9d3\", \"gender\": 1, \"id\": 17647, \"name\": \"Michelle Rodriguez\", \"order\": 4}, {\"cast_id\": 8, \"character\": \"Selfridge\", \"credit_id\": \"52fe48009251416c750ac9e1\", \"gender\": 2, \"id\": 1771, \"name\": \"Giovanni Ribisi\", \"order\": 5}, {\"cast_id\": 7, \"character\": \"Norm Spellman\", \"credit_id\": \"52fe48009251416c750ac9dd\", \"gender\": 2, \"id\": 59231, \"name\": \"Joel David Moore\", \"order\": 6}, {\"cast_id\": 9, \"character\": \"Moat\", \"credit_id\": \"52fe48009251416c750ac9e5\", \"gender\": 1, \"id\": 30485, \"name\": \"CCH Pounder\", \"order\": 7}, {\"cast_id\": 11, \"character\": \"Eytukan\", \"credit_id\": \"52fe48009251416c750ac9ed\", \"gender\": 2, \"id\": 15853, \"name\": \"Wes Studi\", \"order\": 8}, {\"cast_id\": 10, \"character\": \"Tsu\\'Tey\", \"credit_id\": \"52fe48009251416c750ac9e9\", \"gender\": 2, \"id\": 10964, \"name\": \"Laz Alonso\", \"order\": 9}, {\"cast_id\": 12, \"character\": \"Dr. Max Patel\", \"credit_id\": \"52fe48009251416c750ac9f1\", \"gender\": 2, \"id\": 95697, \"name\": \"Dileep Rao\", \"order\": 10}, {\"cast_id\": 13, \"character\": \"Lyle Wainfleet\", \"credit_id\": \"52fe48009251416c750ac9f5\", \"gender\": 2, \"id\": 98215, \"name\": \"Matt Gerald\", \"order\": 11}, {\"cast_id\": 32, \"character\": \"Private Fike\", \"credit_id\": \"52fe48009251416c750aca5b\", \"gender\": 2, \"id\": 154153, \"name\": \"Sean Anthony Moran\", \"order\": 12}, {\"cast_id\": 33, \"character\": \"Cryo Vault Med Tech\", \"credit_id\": \"52fe48009251416c750aca5f\", \"gender\": 2, \"id\": 397312, \"name\": \"Jason Whyte\", \"order\": 13}, {\"cast_id\": 34, \"character\": \"Venture Star Crew Chief\", \"credit_id\": \"52fe48009251416c750aca63\", \"gender\": 2, \"id\": 42317, \"name\": \"Scott Lawrence\", \"order\": 14}, {\"cast_id\": 35, \"character\": \"Lock Up Trooper\", \"credit_id\": \"52fe48009251416c750aca67\", \"gender\": 2, \"id\": 986734, \"name\": \"Kelly Kilgour\", \"order\": 15}, {\"cast_id\": 36, \"character\": \"Shuttle Pilot\", \"credit_id\": \"52fe48009251416c750aca6b\", \"gender\": 0, \"id\": 1207227, \"name\": \"James Patrick Pitt\", \"order\": 16}, {\"cast_id\": 37, \"character\": \"Shuttle Co-Pilot\", \"credit_id\": \"52fe48009251416c750aca6f\", \"gender\": 0, \"id\": 1180936, \"name\": \"Sean Patrick Murphy\", \"order\": 17}, {\"cast_id\": 38, \"character\": \"Shuttle Crew Chief\", \"credit_id\": \"52fe48009251416c750aca73\", \"gender\": 2, \"id\": 1019578, \"name\": \"Peter Dillon\", \"order\": 18}, {\"cast_id\": 39, \"character\": \"Tractor Operator / Troupe\", \"credit_id\": \"52fe48009251416c750aca77\", \"gender\": 0, \"id\": 91443, \"name\": \"Kevin Dorman\", \"order\": 19}, {\"cast_id\": 40, \"character\": \"Dragon Gunship Pilot\", \"credit_id\": \"52fe48009251416c750aca7b\", \"gender\": 2, \"id\": 173391, \"name\": \"Kelson Henderson\", \"order\": 20}, {\"cast_id\": 41, \"character\": \"Dragon Gunship Gunner\", \"credit_id\": \"52fe48009251416c750aca7f\", \"gender\": 0, \"id\": 1207236, \"name\": \"David Van Horn\", \"order\": 21}, {\"cast_id\": 42, \"character\": \"Dragon Gunship Navigator\", \"credit_id\": \"52fe48009251416c750aca83\", \"gender\": 0, \"id\": 215913, \"name\": \"Jacob Tomuri\", \"order\": 22}, {\"cast_id\": 43, \"character\": \"Suit #1\", \"credit_id\": \"52fe48009251416c750aca87\", \"gender\": 0, \"id\": 143206, \"name\": \"Michael Blain-Rozgay\", \"order\": 23}, {\"cast_id\": 44, \"character\": \"Suit #2\", \"credit_id\": \"52fe48009251416c750aca8b\", \"gender\": 2, \"id\": 169676, \"name\": \"Jon Curry\", \"order\": 24}, {\"cast_id\": 46, \"character\": \"Ambient Room Tech\", \"credit_id\": \"52fe48009251416c750aca8f\", \"gender\": 0, \"id\": 1048610, \"name\": \"Luke Hawker\", \"order\": 25}, {\"cast_id\": 47, \"character\": \"Ambient Room Tech / Troupe\", \"credit_id\": \"52fe48009251416c750aca93\", \"gender\": 0, \"id\": 42288, \"name\": \"Woody Schultz\", \"order\": 26}, {\"cast_id\": 48, \"character\": \"Horse Clan Leader\", \"credit_id\": \"52fe48009251416c750aca97\", \"gender\": 2, \"id\": 68278, \"name\": \"Peter Mensah\", \"order\": 27}, {\"cast_id\": 49, \"character\": \"Link Room Tech\", \"credit_id\": \"52fe48009251416c750aca9b\", \"gender\": 0, \"id\": 1207247, \"name\": \"Sonia Yee\", \"order\": 28}, {\"cast_id\": 50, \"character\": \"Basketball Avatar / Troupe\", \"credit_id\": \"52fe48009251416c750aca9f\", \"gender\": 1, \"id\": 1207248, \"name\": \"Jahnel Curfman\", \"order\": 29}, {\"cast_id\": 51, \"character\": \"Basketball Avatar\", \"credit_id\": \"52fe48009251416c750acaa3\", \"gender\": 0, \"id\": 89714, \"name\": \"Ilram Choi\", \"order\": 30}, {\"cast_id\": 52, \"character\": \"Na\\'vi Child\", \"credit_id\": \"52fe48009251416c750acaa7\", \"gender\": 0, \"id\": 1207249, \"name\": \"Kyla Warren\", \"order\": 31}, {\"cast_id\": 53, \"character\": \"Troupe\", \"credit_id\": \"52fe48009251416c750acaab\", \"gender\": 0, \"id\": 1207250, \"name\": \"Lisa Roumain\", \"order\": 32}, {\"cast_id\": 54, \"character\": \"Troupe\", \"credit_id\": \"52fe48009251416c750acaaf\", \"gender\": 1, \"id\": 83105, \"name\": \"Debra Wilson\", \"order\": 33}, {\"cast_id\": 57, \"character\": \"Troupe\", \"credit_id\": \"52fe48009251416c750acabb\", \"gender\": 0, \"id\": 1207253, \"name\": \"Chris Mala\", \"order\": 34}, {\"cast_id\": 55, \"character\": \"Troupe\", \"credit_id\": \"52fe48009251416c750acab3\", \"gender\": 0, \"id\": 1207251, \"name\": \"Taylor Kibby\", \"order\": 35}, {\"cast_id\": 56, \"character\": \"Troupe\", \"credit_id\": \"52fe48009251416c750acab7\", \"gender\": 0, \"id\": 1207252, \"name\": \"Jodie Landau\", \"order\": 36}, {\"cast_id\": 58, \"character\": \"Troupe\", \"credit_id\": \"52fe48009251416c750acabf\", \"gender\": 0, \"id\": 1207254, \"name\": \"Julie Lamm\", \"order\": 37}, {\"cast_id\": 59, \"character\": \"Troupe\", \"credit_id\": \"52fe48009251416c750acac3\", \"gender\": 0, \"id\": 1207257, \"name\": \"Cullen B. Madden\", \"order\": 38}, {\"cast_id\": 60, \"character\": \"Troupe\", \"credit_id\": \"52fe48009251416c750acac7\", \"gender\": 0, \"id\": 1207259, \"name\": \"Joseph Brady Madden\", \"order\": 39}, {\"cast_id\": 61, \"character\": \"Troupe\", \"credit_id\": \"52fe48009251416c750acacb\", \"gender\": 0, \"id\": 1207262, \"name\": \"Frankie Torres\", \"order\": 40}, {\"cast_id\": 62, \"character\": \"Troupe\", \"credit_id\": \"52fe48009251416c750acacf\", \"gender\": 1, \"id\": 1158600, \"name\": \"Austin Wilson\", \"order\": 41}, {\"cast_id\": 63, \"character\": \"Troupe\", \"credit_id\": \"52fe48019251416c750acad3\", \"gender\": 1, \"id\": 983705, \"name\": \"Sara Wilson\", \"order\": 42}, {\"cast_id\": 64, \"character\": \"Troupe\", \"credit_id\": \"52fe48019251416c750acad7\", \"gender\": 0, \"id\": 1207263, \"name\": \"Tamica Washington-Miller\", \"order\": 43}, {\"cast_id\": 65, \"character\": \"Op Center Staff\", \"credit_id\": \"52fe48019251416c750acadb\", \"gender\": 1, \"id\": 1145098, \"name\": \"Lucy Briant\", \"order\": 44}, {\"cast_id\": 66, \"character\": \"Op Center Staff\", \"credit_id\": \"52fe48019251416c750acadf\", \"gender\": 2, \"id\": 33305, \"name\": \"Nathan Meister\", \"order\": 45}, {\"cast_id\": 67, \"character\": \"Op Center Staff\", \"credit_id\": \"52fe48019251416c750acae3\", \"gender\": 0, \"id\": 1207264, \"name\": \"Gerry Blair\", \"order\": 46}, {\"cast_id\": 68, \"character\": \"Op Center Staff\", \"credit_id\": \"52fe48019251416c750acae7\", \"gender\": 2, \"id\": 33311, \"name\": \"Matthew Chamberlain\", \"order\": 47}, {\"cast_id\": 69, \"character\": \"Op Center Staff\", \"credit_id\": \"52fe48019251416c750acaeb\", \"gender\": 0, \"id\": 1207265, \"name\": \"Paul Yates\", \"order\": 48}, {\"cast_id\": 70, \"character\": \"Op Center Duty Officer\", \"credit_id\": \"52fe48019251416c750acaef\", \"gender\": 0, \"id\": 1207266, \"name\": \"Wray Wilson\", \"order\": 49}, {\"cast_id\": 71, \"character\": \"Op Center Staff\", \"credit_id\": \"52fe48019251416c750acaf3\", \"gender\": 2, \"id\": 54492, \"name\": \"James Gaylyn\", \"order\": 50}, {\"cast_id\": 72, \"character\": \"Dancer\", \"credit_id\": \"52fe48019251416c750acaf7\", \"gender\": 0, \"id\": 1207267, \"name\": \"Melvin Leno Clark III\", \"order\": 51}, {\"cast_id\": 73, \"character\": \"Dancer\", \"credit_id\": \"52fe48019251416c750acafb\", \"gender\": 0, \"id\": 1207268, \"name\": \"Carvon Futrell\", \"order\": 52}, {\"cast_id\": 74, \"character\": \"Dancer\", \"credit_id\": \"52fe48019251416c750acaff\", \"gender\": 0, \"id\": 1207269, \"name\": \"Brandon Jelkes\", \"order\": 53}, {\"cast_id\": 75, \"character\": \"Dancer\", \"credit_id\": \"52fe48019251416c750acb03\", \"gender\": 0, \"id\": 1207270, \"name\": \"Micah Moch\", \"order\": 54}, {\"cast_id\": 76, \"character\": \"Dancer\", \"credit_id\": \"52fe48019251416c750acb07\", \"gender\": 0, \"id\": 1207271, \"name\": \"Hanniyah Muhammad\", \"order\": 55}, {\"cast_id\": 77, \"character\": \"Dancer\", \"credit_id\": \"52fe48019251416c750acb0b\", \"gender\": 0, \"id\": 1207272, \"name\": \"Christopher Nolen\", \"order\": 56}, {\"cast_id\": 78, \"character\": \"Dancer\", \"credit_id\": \"52fe48019251416c750acb0f\", \"gender\": 0, \"id\": 1207273, \"name\": \"Christa Oliver\", \"order\": 57}, {\"cast_id\": 79, \"character\": \"Dancer\", \"credit_id\": \"52fe48019251416c750acb13\", \"gender\": 0, \"id\": 1207274, \"name\": \"April Marie Thomas\", \"order\": 58}, {\"cast_id\": 80, \"character\": \"Dancer\", \"credit_id\": \"52fe48019251416c750acb17\", \"gender\": 0, \"id\": 1207275, \"name\": \"Bravita A. Threatt\", \"order\": 59}, {\"cast_id\": 81, \"character\": \"Mining Chief (uncredited)\", \"credit_id\": \"52fe48019251416c750acb1b\", \"gender\": 0, \"id\": 1207276, \"name\": \"Colin Bleasdale\", \"order\": 60}, {\"cast_id\": 82, \"character\": \"Veteran Miner (uncredited)\", \"credit_id\": \"52fe48019251416c750acb1f\", \"gender\": 0, \"id\": 107969, \"name\": \"Mike Bodnar\", \"order\": 61}, {\"cast_id\": 83, \"character\": \"Richard (uncredited)\", \"credit_id\": \"52fe48019251416c750acb23\", \"gender\": 0, \"id\": 1207278, \"name\": \"Matt Clayton\", \"order\": 62}, {\"cast_id\": 84, \"character\": \"Nav\\'i (uncredited)\", \"credit_id\": \"52fe48019251416c750acb27\", \"gender\": 1, \"id\": 147898, \"name\": \"Nicole Dionne\", \"order\": 63}, {\"cast_id\": 85, \"character\": \"Trooper (uncredited)\", \"credit_id\": \"52fe48019251416c750acb2b\", \"gender\": 0, \"id\": 1207280, \"name\": \"Jamie Harrison\", \"order\": 64}, {\"cast_id\": 86, \"character\": \"Trooper (uncredited)\", \"credit_id\": \"52fe48019251416c750acb2f\", \"gender\": 0, \"id\": 1207281, \"name\": \"Allan Henry\", \"order\": 65}, {\"cast_id\": 87, \"character\": \"Ground Technician (uncredited)\", \"credit_id\": \"52fe48019251416c750acb33\", \"gender\": 2, \"id\": 1207282, \"name\": \"Anthony Ingruber\", \"order\": 66}, {\"cast_id\": 88, \"character\": \"Flight Crew Mechanic (uncredited)\", \"credit_id\": \"52fe48019251416c750acb37\", \"gender\": 0, \"id\": 1207283, \"name\": \"Ashley Jeffery\", \"order\": 67}, {\"cast_id\": 14, \"character\": \"Samson Pilot\", \"credit_id\": \"52fe48009251416c750ac9f9\", \"gender\": 0, \"id\": 98216, \"name\": \"Dean Knowsley\", \"order\": 68}, {\"cast_id\": 89, \"character\": \"Trooper (uncredited)\", \"credit_id\": \"52fe48019251416c750acb3b\", \"gender\": 0, \"id\": 1201399, \"name\": \"Joseph Mika-Hunt\", \"order\": 69}, {\"cast_id\": 90, \"character\": \"Banshee (uncredited)\", \"credit_id\": \"52fe48019251416c750acb3f\", \"gender\": 0, \"id\": 236696, \"name\": \"Terry Notary\", \"order\": 70}, {\"cast_id\": 91, \"character\": \"Soldier (uncredited)\", \"credit_id\": \"52fe48019251416c750acb43\", \"gender\": 0, \"id\": 1207287, \"name\": \"Kai Pantano\", \"order\": 71}, {\"cast_id\": 92, \"character\": \"Blast Technician (uncredited)\", \"credit_id\": \"52fe48019251416c750acb47\", \"gender\": 0, \"id\": 1207288, \"name\": \"Logan Pithyou\", \"order\": 72}, {\"cast_id\": 93, \"character\": \"Vindum Raah (uncredited)\", \"credit_id\": \"52fe48019251416c750acb4b\", \"gender\": 0, \"id\": 1207289, \"name\": \"Stuart Pollock\", \"order\": 73}, {\"cast_id\": 94, \"character\": \"Hero (uncredited)\", \"credit_id\": \"52fe48019251416c750acb4f\", \"gender\": 0, \"id\": 584868, \"name\": \"Raja\", \"order\": 74}, {\"cast_id\": 95, \"character\": \"Ops Centreworker (uncredited)\", \"credit_id\": \"52fe48019251416c750acb53\", \"gender\": 0, \"id\": 1207290, \"name\": \"Gareth Ruck\", \"order\": 75}, {\"cast_id\": 96, \"character\": \"Engineer (uncredited)\", \"credit_id\": \"52fe48019251416c750acb57\", \"gender\": 0, \"id\": 1062463, \"name\": \"Rhian Sheehan\", \"order\": 76}, {\"cast_id\": 97, \"character\": \"Col. Quaritch\\'s Mech Suit (uncredited)\", \"credit_id\": \"52fe48019251416c750acb5b\", \"gender\": 0, \"id\": 60656, \"name\": \"T. J. Storm\", \"order\": 77}, {\"cast_id\": 98, \"character\": \"Female Marine (uncredited)\", \"credit_id\": \"52fe48019251416c750acb5f\", \"gender\": 0, \"id\": 1207291, \"name\": \"Jodie Taylor\", \"order\": 78}, {\"cast_id\": 99, \"character\": \"Ikran Clan Leader (uncredited)\", \"credit_id\": \"52fe48019251416c750acb63\", \"gender\": 1, \"id\": 1186027, \"name\": \"Alicia Vela-Bailey\", \"order\": 79}, {\"cast_id\": 100, \"character\": \"Geologist (uncredited)\", \"credit_id\": \"52fe48019251416c750acb67\", \"gender\": 0, \"id\": 1207292, \"name\": \"Richard Whiteside\", \"order\": 80}, {\"cast_id\": 101, \"character\": \"Na\\'vi (uncredited)\", \"credit_id\": \"52fe48019251416c750acb6b\", \"gender\": 0, \"id\": 103259, \"name\": \"Nikie Zambo\", \"order\": 81}, {\"cast_id\": 102, \"character\": \"Ambient Room Tech / Troupe\", \"credit_id\": \"52fe48019251416c750acb6f\", \"gender\": 1, \"id\": 42286, \"name\": \"Julene Renee\", \"order\": 82}]'"
      ]
     },
     "execution_count": 28,
     "metadata": {},
     "output_type": "execute_result"
    }
   ],
   "source": [
    "df['cast'][0]"
   ]
  },
  {
   "cell_type": "code",
   "execution_count": 29,
   "id": "8907ec2a-dcd4-4cd5-9881-5341f705943b",
   "metadata": {},
   "outputs": [],
   "source": [
    "def change2(val):\n",
    "    c=[]\n",
    "    count=0\n",
    "    for i in ast.literal_eval(val):\n",
    "        if count<3:\n",
    "            c.append(i['name'])\n",
    "            count+=1\n",
    "    return c\n",
    "        "
   ]
  },
  {
   "cell_type": "code",
   "execution_count": 30,
   "id": "6f75e9ff-27c6-46c8-8b3b-e6a40f70c9f6",
   "metadata": {},
   "outputs": [],
   "source": [
    "df['cast']=df['cast'].apply(change2)"
   ]
  },
  {
   "cell_type": "code",
   "execution_count": 31,
   "id": "44240e6d-5712-401a-b7d2-4584d15cb2f0",
   "metadata": {},
   "outputs": [
    {
     "data": {
      "text/html": [
       "<div>\n",
       "<style scoped>\n",
       "    .dataframe tbody tr th:only-of-type {\n",
       "        vertical-align: middle;\n",
       "    }\n",
       "\n",
       "    .dataframe tbody tr th {\n",
       "        vertical-align: top;\n",
       "    }\n",
       "\n",
       "    .dataframe thead th {\n",
       "        text-align: right;\n",
       "    }\n",
       "</style>\n",
       "<table border=\"1\" class=\"dataframe\">\n",
       "  <thead>\n",
       "    <tr style=\"text-align: right;\">\n",
       "      <th></th>\n",
       "      <th>movie_id</th>\n",
       "      <th>genres</th>\n",
       "      <th>keywords</th>\n",
       "      <th>overview</th>\n",
       "      <th>title</th>\n",
       "      <th>cast</th>\n",
       "      <th>crew</th>\n",
       "    </tr>\n",
       "  </thead>\n",
       "  <tbody>\n",
       "    <tr>\n",
       "      <th>0</th>\n",
       "      <td>19995</td>\n",
       "      <td>[Action, Adventure, Fantasy, Science Fiction]</td>\n",
       "      <td>[culture clash, future, space war, space colon...</td>\n",
       "      <td>In the 22nd century, a paraplegic Marine is di...</td>\n",
       "      <td>Avatar</td>\n",
       "      <td>[Sam Worthington, Zoe Saldana, Sigourney Weaver]</td>\n",
       "      <td>[{\"credit_id\": \"52fe48009251416c750aca23\", \"de...</td>\n",
       "    </tr>\n",
       "    <tr>\n",
       "      <th>1</th>\n",
       "      <td>285</td>\n",
       "      <td>[Adventure, Fantasy, Action]</td>\n",
       "      <td>[ocean, drug abuse, exotic island, east india ...</td>\n",
       "      <td>Captain Barbossa, long believed to be dead, ha...</td>\n",
       "      <td>Pirates of the Caribbean: At World's End</td>\n",
       "      <td>[Johnny Depp, Orlando Bloom, Keira Knightley]</td>\n",
       "      <td>[{\"credit_id\": \"52fe4232c3a36847f800b579\", \"de...</td>\n",
       "    </tr>\n",
       "    <tr>\n",
       "      <th>2</th>\n",
       "      <td>206647</td>\n",
       "      <td>[Action, Adventure, Crime]</td>\n",
       "      <td>[spy, based on novel, secret agent, sequel, mi...</td>\n",
       "      <td>A cryptic message from Bond’s past sends him o...</td>\n",
       "      <td>Spectre</td>\n",
       "      <td>[Daniel Craig, Christoph Waltz, Léa Seydoux]</td>\n",
       "      <td>[{\"credit_id\": \"54805967c3a36829b5002c41\", \"de...</td>\n",
       "    </tr>\n",
       "    <tr>\n",
       "      <th>3</th>\n",
       "      <td>49026</td>\n",
       "      <td>[Action, Crime, Drama, Thriller]</td>\n",
       "      <td>[dc comics, crime fighter, terrorist, secret i...</td>\n",
       "      <td>Following the death of District Attorney Harve...</td>\n",
       "      <td>The Dark Knight Rises</td>\n",
       "      <td>[Christian Bale, Michael Caine, Gary Oldman]</td>\n",
       "      <td>[{\"credit_id\": \"52fe4781c3a36847f81398c3\", \"de...</td>\n",
       "    </tr>\n",
       "    <tr>\n",
       "      <th>4</th>\n",
       "      <td>49529</td>\n",
       "      <td>[Action, Adventure, Science Fiction]</td>\n",
       "      <td>[based on novel, mars, medallion, space travel...</td>\n",
       "      <td>John Carter is a war-weary, former military ca...</td>\n",
       "      <td>John Carter</td>\n",
       "      <td>[Taylor Kitsch, Lynn Collins, Samantha Morton]</td>\n",
       "      <td>[{\"credit_id\": \"52fe479ac3a36847f813eaa3\", \"de...</td>\n",
       "    </tr>\n",
       "  </tbody>\n",
       "</table>\n",
       "</div>"
      ],
      "text/plain": [
       "   movie_id                                         genres  \\\n",
       "0     19995  [Action, Adventure, Fantasy, Science Fiction]   \n",
       "1       285                   [Adventure, Fantasy, Action]   \n",
       "2    206647                     [Action, Adventure, Crime]   \n",
       "3     49026               [Action, Crime, Drama, Thriller]   \n",
       "4     49529           [Action, Adventure, Science Fiction]   \n",
       "\n",
       "                                            keywords  \\\n",
       "0  [culture clash, future, space war, space colon...   \n",
       "1  [ocean, drug abuse, exotic island, east india ...   \n",
       "2  [spy, based on novel, secret agent, sequel, mi...   \n",
       "3  [dc comics, crime fighter, terrorist, secret i...   \n",
       "4  [based on novel, mars, medallion, space travel...   \n",
       "\n",
       "                                            overview  \\\n",
       "0  In the 22nd century, a paraplegic Marine is di...   \n",
       "1  Captain Barbossa, long believed to be dead, ha...   \n",
       "2  A cryptic message from Bond’s past sends him o...   \n",
       "3  Following the death of District Attorney Harve...   \n",
       "4  John Carter is a war-weary, former military ca...   \n",
       "\n",
       "                                      title  \\\n",
       "0                                    Avatar   \n",
       "1  Pirates of the Caribbean: At World's End   \n",
       "2                                   Spectre   \n",
       "3                     The Dark Knight Rises   \n",
       "4                               John Carter   \n",
       "\n",
       "                                               cast  \\\n",
       "0  [Sam Worthington, Zoe Saldana, Sigourney Weaver]   \n",
       "1     [Johnny Depp, Orlando Bloom, Keira Knightley]   \n",
       "2      [Daniel Craig, Christoph Waltz, Léa Seydoux]   \n",
       "3      [Christian Bale, Michael Caine, Gary Oldman]   \n",
       "4    [Taylor Kitsch, Lynn Collins, Samantha Morton]   \n",
       "\n",
       "                                                crew  \n",
       "0  [{\"credit_id\": \"52fe48009251416c750aca23\", \"de...  \n",
       "1  [{\"credit_id\": \"52fe4232c3a36847f800b579\", \"de...  \n",
       "2  [{\"credit_id\": \"54805967c3a36829b5002c41\", \"de...  \n",
       "3  [{\"credit_id\": \"52fe4781c3a36847f81398c3\", \"de...  \n",
       "4  [{\"credit_id\": \"52fe479ac3a36847f813eaa3\", \"de...  "
      ]
     },
     "execution_count": 31,
     "metadata": {},
     "output_type": "execute_result"
    }
   ],
   "source": [
    "df.head()"
   ]
  },
  {
   "cell_type": "code",
   "execution_count": 32,
   "id": "149a3937-0202-4686-a4e5-095920ee2dfe",
   "metadata": {},
   "outputs": [
    {
     "data": {
      "text/plain": [
       "['Sam Worthington', 'Zoe Saldana', 'Sigourney Weaver']"
      ]
     },
     "execution_count": 32,
     "metadata": {},
     "output_type": "execute_result"
    }
   ],
   "source": [
    "df['cast'][0]"
   ]
  },
  {
   "cell_type": "code",
   "execution_count": 33,
   "id": "fe015b4c-6580-4604-8375-23f7d4f03d72",
   "metadata": {},
   "outputs": [
    {
     "data": {
      "text/plain": [
       "'[{\"credit_id\": \"52fe48009251416c750aca23\", \"department\": \"Editing\", \"gender\": 0, \"id\": 1721, \"job\": \"Editor\", \"name\": \"Stephen E. Rivkin\"}, {\"credit_id\": \"539c47ecc3a36810e3001f87\", \"department\": \"Art\", \"gender\": 2, \"id\": 496, \"job\": \"Production Design\", \"name\": \"Rick Carter\"}, {\"credit_id\": \"54491c89c3a3680fb4001cf7\", \"department\": \"Sound\", \"gender\": 0, \"id\": 900, \"job\": \"Sound Designer\", \"name\": \"Christopher Boyes\"}, {\"credit_id\": \"54491cb70e0a267480001bd0\", \"department\": \"Sound\", \"gender\": 0, \"id\": 900, \"job\": \"Supervising Sound Editor\", \"name\": \"Christopher Boyes\"}, {\"credit_id\": \"539c4a4cc3a36810c9002101\", \"department\": \"Production\", \"gender\": 1, \"id\": 1262, \"job\": \"Casting\", \"name\": \"Mali Finn\"}, {\"credit_id\": \"5544ee3b925141499f0008fc\", \"department\": \"Sound\", \"gender\": 2, \"id\": 1729, \"job\": \"Original Music Composer\", \"name\": \"James Horner\"}, {\"credit_id\": \"52fe48009251416c750ac9c3\", \"department\": \"Directing\", \"gender\": 2, \"id\": 2710, \"job\": \"Director\", \"name\": \"James Cameron\"}, {\"credit_id\": \"52fe48009251416c750ac9d9\", \"department\": \"Writing\", \"gender\": 2, \"id\": 2710, \"job\": \"Writer\", \"name\": \"James Cameron\"}, {\"credit_id\": \"52fe48009251416c750aca17\", \"department\": \"Editing\", \"gender\": 2, \"id\": 2710, \"job\": \"Editor\", \"name\": \"James Cameron\"}, {\"credit_id\": \"52fe48009251416c750aca29\", \"department\": \"Production\", \"gender\": 2, \"id\": 2710, \"job\": \"Producer\", \"name\": \"James Cameron\"}, {\"credit_id\": \"52fe48009251416c750aca3f\", \"department\": \"Writing\", \"gender\": 2, \"id\": 2710, \"job\": \"Screenplay\", \"name\": \"James Cameron\"}, {\"credit_id\": \"539c4987c3a36810ba0021a4\", \"department\": \"Art\", \"gender\": 2, \"id\": 7236, \"job\": \"Art Direction\", \"name\": \"Andrew Menzies\"}, {\"credit_id\": \"549598c3c3a3686ae9004383\", \"department\": \"Visual Effects\", \"gender\": 0, \"id\": 6690, \"job\": \"Visual Effects Producer\", \"name\": \"Jill Brooks\"}, {\"credit_id\": \"52fe48009251416c750aca4b\", \"department\": \"Production\", \"gender\": 1, \"id\": 6347, \"job\": \"Casting\", \"name\": \"Margery Simkin\"}, {\"credit_id\": \"570b6f419251417da70032fe\", \"department\": \"Art\", \"gender\": 2, \"id\": 6878, \"job\": \"Supervising Art Director\", \"name\": \"Kevin Ishioka\"}, {\"credit_id\": \"5495a0fac3a3686ae9004468\", \"department\": \"Sound\", \"gender\": 0, \"id\": 6883, \"job\": \"Music Editor\", \"name\": \"Dick Bernstein\"}, {\"credit_id\": \"54959706c3a3686af3003e81\", \"department\": \"Sound\", \"gender\": 0, \"id\": 8159, \"job\": \"Sound Effects Editor\", \"name\": \"Shannon Mills\"}, {\"credit_id\": \"54491d58c3a3680fb1001ccb\", \"department\": \"Sound\", \"gender\": 0, \"id\": 8160, \"job\": \"Foley\", \"name\": \"Dennie Thorpe\"}, {\"credit_id\": \"54491d6cc3a3680fa5001b2c\", \"department\": \"Sound\", \"gender\": 0, \"id\": 8163, \"job\": \"Foley\", \"name\": \"Jana Vance\"}, {\"credit_id\": \"52fe48009251416c750aca57\", \"department\": \"Costume & Make-Up\", \"gender\": 1, \"id\": 8527, \"job\": \"Costume Design\", \"name\": \"Deborah Lynn Scott\"}, {\"credit_id\": \"52fe48009251416c750aca2f\", \"department\": \"Production\", \"gender\": 2, \"id\": 8529, \"job\": \"Producer\", \"name\": \"Jon Landau\"}, {\"credit_id\": \"539c4937c3a36810ba002194\", \"department\": \"Art\", \"gender\": 0, \"id\": 9618, \"job\": \"Art Direction\", \"name\": \"Sean Haworth\"}, {\"credit_id\": \"539c49b6c3a36810c10020e6\", \"department\": \"Art\", \"gender\": 1, \"id\": 12653, \"job\": \"Set Decoration\", \"name\": \"Kim Sinclair\"}, {\"credit_id\": \"570b6f2f9251413a0e00020d\", \"department\": \"Art\", \"gender\": 1, \"id\": 12653, \"job\": \"Supervising Art Director\", \"name\": \"Kim Sinclair\"}, {\"credit_id\": \"54491a6c0e0a26748c001b19\", \"department\": \"Art\", \"gender\": 2, \"id\": 14350, \"job\": \"Set Designer\", \"name\": \"Richard F. Mays\"}, {\"credit_id\": \"56928cf4c3a3684cff0025c4\", \"department\": \"Production\", \"gender\": 1, \"id\": 20294, \"job\": \"Executive Producer\", \"name\": \"Laeta Kalogridis\"}, {\"credit_id\": \"52fe48009251416c750aca51\", \"department\": \"Costume & Make-Up\", \"gender\": 0, \"id\": 17675, \"job\": \"Costume Design\", \"name\": \"Mayes C. Rubeo\"}, {\"credit_id\": \"52fe48009251416c750aca11\", \"department\": \"Camera\", \"gender\": 2, \"id\": 18265, \"job\": \"Director of Photography\", \"name\": \"Mauro Fiore\"}, {\"credit_id\": \"5449194d0e0a26748f001b39\", \"department\": \"Art\", \"gender\": 0, \"id\": 42281, \"job\": \"Set Designer\", \"name\": \"Scott Herbertson\"}, {\"credit_id\": \"52fe48009251416c750aca05\", \"department\": \"Crew\", \"gender\": 0, \"id\": 42288, \"job\": \"Stunts\", \"name\": \"Woody Schultz\"}, {\"credit_id\": \"5592aefb92514152de0010f5\", \"department\": \"Costume & Make-Up\", \"gender\": 0, \"id\": 29067, \"job\": \"Makeup Artist\", \"name\": \"Linda DeVetta\"}, {\"credit_id\": \"5592afa492514152de00112c\", \"department\": \"Costume & Make-Up\", \"gender\": 0, \"id\": 29067, \"job\": \"Hairstylist\", \"name\": \"Linda DeVetta\"}, {\"credit_id\": \"54959ed592514130fc002e5d\", \"department\": \"Camera\", \"gender\": 2, \"id\": 33302, \"job\": \"Camera Operator\", \"name\": \"Richard Bluck\"}, {\"credit_id\": \"539c4891c3a36810ba002147\", \"department\": \"Art\", \"gender\": 2, \"id\": 33303, \"job\": \"Art Direction\", \"name\": \"Simon Bright\"}, {\"credit_id\": \"54959c069251417a81001f3a\", \"department\": \"Visual Effects\", \"gender\": 0, \"id\": 113145, \"job\": \"Visual Effects Supervisor\", \"name\": \"Richard Martin\"}, {\"credit_id\": \"54959a0dc3a3680ff5002c8d\", \"department\": \"Crew\", \"gender\": 2, \"id\": 58188, \"job\": \"Visual Effects Editor\", \"name\": \"Steve R. Moore\"}, {\"credit_id\": \"52fe48009251416c750aca1d\", \"department\": \"Editing\", \"gender\": 2, \"id\": 58871, \"job\": \"Editor\", \"name\": \"John Refoua\"}, {\"credit_id\": \"54491a4dc3a3680fc30018ca\", \"department\": \"Art\", \"gender\": 0, \"id\": 92359, \"job\": \"Set Designer\", \"name\": \"Karl J. Martin\"}, {\"credit_id\": \"52fe48009251416c750aca35\", \"department\": \"Camera\", \"gender\": 1, \"id\": 72201, \"job\": \"Director of Photography\", \"name\": \"Chiling Lin\"}, {\"credit_id\": \"52fe48009251416c750ac9ff\", \"department\": \"Crew\", \"gender\": 0, \"id\": 89714, \"job\": \"Stunts\", \"name\": \"Ilram Choi\"}, {\"credit_id\": \"54959c529251416e2b004394\", \"department\": \"Visual Effects\", \"gender\": 2, \"id\": 93214, \"job\": \"Visual Effects Supervisor\", \"name\": \"Steven Quale\"}, {\"credit_id\": \"54491edf0e0a267489001c37\", \"department\": \"Crew\", \"gender\": 1, \"id\": 122607, \"job\": \"Dialect Coach\", \"name\": \"Carla Meyer\"}, {\"credit_id\": \"539c485bc3a368653d001a3a\", \"department\": \"Art\", \"gender\": 2, \"id\": 132585, \"job\": \"Art Direction\", \"name\": \"Nick Bassett\"}, {\"credit_id\": \"539c4903c3a368653d001a74\", \"department\": \"Art\", \"gender\": 0, \"id\": 132596, \"job\": \"Art Direction\", \"name\": \"Jill Cormack\"}, {\"credit_id\": \"539c4967c3a368653d001a94\", \"department\": \"Art\", \"gender\": 0, \"id\": 132604, \"job\": \"Art Direction\", \"name\": \"Andy McLaren\"}, {\"credit_id\": \"52fe48009251416c750aca45\", \"department\": \"Crew\", \"gender\": 0, \"id\": 236696, \"job\": \"Motion Capture Artist\", \"name\": \"Terry Notary\"}, {\"credit_id\": \"54959e02c3a3680fc60027d2\", \"department\": \"Crew\", \"gender\": 2, \"id\": 956198, \"job\": \"Stunt Coordinator\", \"name\": \"Garrett Warren\"}, {\"credit_id\": \"54959ca3c3a3686ae300438c\", \"department\": \"Visual Effects\", \"gender\": 2, \"id\": 957874, \"job\": \"Visual Effects Supervisor\", \"name\": \"Jonathan Rothbart\"}, {\"credit_id\": \"570b6f519251412c74001b2f\", \"department\": \"Art\", \"gender\": 0, \"id\": 957889, \"job\": \"Supervising Art Director\", \"name\": \"Stefan Dechant\"}, {\"credit_id\": \"570b6f62c3a3680b77007460\", \"department\": \"Art\", \"gender\": 2, \"id\": 959555, \"job\": \"Supervising Art Director\", \"name\": \"Todd Cherniawsky\"}, {\"credit_id\": \"539c4a3ac3a36810da0021cc\", \"department\": \"Production\", \"gender\": 0, \"id\": 1016177, \"job\": \"Casting\", \"name\": \"Miranda Rivers\"}, {\"credit_id\": \"539c482cc3a36810c1002062\", \"department\": \"Art\", \"gender\": 0, \"id\": 1032536, \"job\": \"Production Design\", \"name\": \"Robert Stromberg\"}, {\"credit_id\": \"539c4b65c3a36810c9002125\", \"department\": \"Costume & Make-Up\", \"gender\": 2, \"id\": 1071680, \"job\": \"Costume Design\", \"name\": \"John Harding\"}, {\"credit_id\": \"54959e6692514130fc002e4e\", \"department\": \"Camera\", \"gender\": 0, \"id\": 1177364, \"job\": \"Steadicam Operator\", \"name\": \"Roberto De Angelis\"}, {\"credit_id\": \"539c49f1c3a368653d001aac\", \"department\": \"Costume & Make-Up\", \"gender\": 2, \"id\": 1202850, \"job\": \"Makeup Department Head\", \"name\": \"Mike Smithson\"}, {\"credit_id\": \"5495999ec3a3686ae100460c\", \"department\": \"Visual Effects\", \"gender\": 0, \"id\": 1204668, \"job\": \"Visual Effects Producer\", \"name\": \"Alain Lalanne\"}, {\"credit_id\": \"54959cdfc3a3681153002729\", \"department\": \"Visual Effects\", \"gender\": 0, \"id\": 1206410, \"job\": \"Visual Effects Supervisor\", \"name\": \"Lucas Salton\"}, {\"credit_id\": \"549596239251417a81001eae\", \"department\": \"Crew\", \"gender\": 0, \"id\": 1234266, \"job\": \"Post Production Supervisor\", \"name\": \"Janace Tashjian\"}, {\"credit_id\": \"54959c859251416e1e003efe\", \"department\": \"Visual Effects\", \"gender\": 0, \"id\": 1271932, \"job\": \"Visual Effects Supervisor\", \"name\": \"Stephen Rosenbaum\"}, {\"credit_id\": \"5592af28c3a368775a00105f\", \"department\": \"Costume & Make-Up\", \"gender\": 0, \"id\": 1310064, \"job\": \"Makeup Artist\", \"name\": \"Frankie Karena\"}, {\"credit_id\": \"539c4adfc3a36810e300203b\", \"department\": \"Costume & Make-Up\", \"gender\": 1, \"id\": 1319844, \"job\": \"Costume Supervisor\", \"name\": \"Lisa Lovaas\"}, {\"credit_id\": \"54959b579251416e2b004371\", \"department\": \"Visual Effects\", \"gender\": 0, \"id\": 1327028, \"job\": \"Visual Effects Supervisor\", \"name\": \"Jonathan Fawkner\"}, {\"credit_id\": \"539c48a7c3a36810b5001fa7\", \"department\": \"Art\", \"gender\": 0, \"id\": 1330561, \"job\": \"Art Direction\", \"name\": \"Robert Bavin\"}, {\"credit_id\": \"539c4a71c3a36810da0021e0\", \"department\": \"Costume & Make-Up\", \"gender\": 0, \"id\": 1330567, \"job\": \"Costume Supervisor\", \"name\": \"Anthony Almaraz\"}, {\"credit_id\": \"539c4a8ac3a36810ba0021e4\", \"department\": \"Costume & Make-Up\", \"gender\": 0, \"id\": 1330570, \"job\": \"Costume Supervisor\", \"name\": \"Carolyn M. Fenton\"}, {\"credit_id\": \"539c4ab6c3a36810da0021f0\", \"department\": \"Costume & Make-Up\", \"gender\": 0, \"id\": 1330574, \"job\": \"Costume Supervisor\", \"name\": \"Beth Koenigsberg\"}, {\"credit_id\": \"54491ab70e0a267480001ba2\", \"department\": \"Art\", \"gender\": 0, \"id\": 1336191, \"job\": \"Set Designer\", \"name\": \"Sam Page\"}, {\"credit_id\": \"544919d9c3a3680fc30018bd\", \"department\": \"Art\", \"gender\": 0, \"id\": 1339441, \"job\": \"Set Designer\", \"name\": \"Tex Kadonaga\"}, {\"credit_id\": \"54491cf50e0a267483001b0c\", \"department\": \"Editing\", \"gender\": 0, \"id\": 1352422, \"job\": \"Dialogue Editor\", \"name\": \"Kim Foscato\"}, {\"credit_id\": \"544919f40e0a26748c001b09\", \"department\": \"Art\", \"gender\": 0, \"id\": 1352962, \"job\": \"Set Designer\", \"name\": \"Tammy S. Lee\"}, {\"credit_id\": \"5495a115c3a3680ff5002d71\", \"department\": \"Crew\", \"gender\": 0, \"id\": 1357070, \"job\": \"Transportation Coordinator\", \"name\": \"Denny Caira\"}, {\"credit_id\": \"5495a12f92514130fc002e94\", \"department\": \"Crew\", \"gender\": 0, \"id\": 1357071, \"job\": \"Transportation Coordinator\", \"name\": \"James Waitkus\"}, {\"credit_id\": \"5495976fc3a36811530026b0\", \"department\": \"Sound\", \"gender\": 0, \"id\": 1360103, \"job\": \"Supervising Sound Editor\", \"name\": \"Addison Teague\"}, {\"credit_id\": \"54491837c3a3680fb1001c5a\", \"department\": \"Art\", \"gender\": 2, \"id\": 1376887, \"job\": \"Set Designer\", \"name\": \"C. Scott Baker\"}, {\"credit_id\": \"54491878c3a3680fb4001c9d\", \"department\": \"Art\", \"gender\": 0, \"id\": 1376888, \"job\": \"Set Designer\", \"name\": \"Luke Caska\"}, {\"credit_id\": \"544918dac3a3680fa5001ae0\", \"department\": \"Art\", \"gender\": 0, \"id\": 1376889, \"job\": \"Set Designer\", \"name\": \"David Chow\"}, {\"credit_id\": \"544919110e0a267486001b68\", \"department\": \"Art\", \"gender\": 0, \"id\": 1376890, \"job\": \"Set Designer\", \"name\": \"Jonathan Dyer\"}, {\"credit_id\": \"54491967c3a3680faa001b5e\", \"department\": \"Art\", \"gender\": 0, \"id\": 1376891, \"job\": \"Set Designer\", \"name\": \"Joseph Hiura\"}, {\"credit_id\": \"54491997c3a3680fb1001c8a\", \"department\": \"Art\", \"gender\": 0, \"id\": 1376892, \"job\": \"Art Department Coordinator\", \"name\": \"Rebecca Jellie\"}, {\"credit_id\": \"544919ba0e0a26748f001b42\", \"department\": \"Art\", \"gender\": 0, \"id\": 1376893, \"job\": \"Set Designer\", \"name\": \"Robert Andrew Johnson\"}, {\"credit_id\": \"54491b1dc3a3680faa001b8c\", \"department\": \"Art\", \"gender\": 0, \"id\": 1376895, \"job\": \"Assistant Art Director\", \"name\": \"Mike Stassi\"}, {\"credit_id\": \"54491b79c3a3680fbb001826\", \"department\": \"Art\", \"gender\": 0, \"id\": 1376897, \"job\": \"Construction Coordinator\", \"name\": \"John Villarino\"}, {\"credit_id\": \"54491baec3a3680fb4001ce6\", \"department\": \"Art\", \"gender\": 2, \"id\": 1376898, \"job\": \"Assistant Art Director\", \"name\": \"Jeffrey Wisniewski\"}, {\"credit_id\": \"54491d2fc3a3680fb4001d07\", \"department\": \"Editing\", \"gender\": 0, \"id\": 1376899, \"job\": \"Dialogue Editor\", \"name\": \"Cheryl Nardi\"}, {\"credit_id\": \"54491d86c3a3680fa5001b2f\", \"department\": \"Editing\", \"gender\": 0, \"id\": 1376901, \"job\": \"Dialogue Editor\", \"name\": \"Marshall Winn\"}, {\"credit_id\": \"54491d9dc3a3680faa001bb0\", \"department\": \"Sound\", \"gender\": 0, \"id\": 1376902, \"job\": \"Supervising Sound Editor\", \"name\": \"Gwendolyn Yates Whittle\"}, {\"credit_id\": \"54491dc10e0a267486001bce\", \"department\": \"Sound\", \"gender\": 0, \"id\": 1376903, \"job\": \"Sound Re-Recording Mixer\", \"name\": \"William Stein\"}, {\"credit_id\": \"54491f500e0a26747c001c07\", \"department\": \"Crew\", \"gender\": 0, \"id\": 1376909, \"job\": \"Choreographer\", \"name\": \"Lula Washington\"}, {\"credit_id\": \"549599239251412c4e002a2e\", \"department\": \"Visual Effects\", \"gender\": 0, \"id\": 1391692, \"job\": \"Visual Effects Producer\", \"name\": \"Chris Del Conte\"}, {\"credit_id\": \"54959d54c3a36831b8001d9a\", \"department\": \"Visual Effects\", \"gender\": 2, \"id\": 1391695, \"job\": \"Visual Effects Supervisor\", \"name\": \"R. Christopher White\"}, {\"credit_id\": \"54959bdf9251412c4e002a66\", \"department\": \"Visual Effects\", \"gender\": 0, \"id\": 1394070, \"job\": \"Visual Effects Supervisor\", \"name\": \"Dan Lemmon\"}, {\"credit_id\": \"5495971d92514132ed002922\", \"department\": \"Sound\", \"gender\": 0, \"id\": 1394129, \"job\": \"Sound Effects Editor\", \"name\": \"Tim Nielsen\"}, {\"credit_id\": \"5592b25792514152cc0011aa\", \"department\": \"Crew\", \"gender\": 0, \"id\": 1394286, \"job\": \"CG Supervisor\", \"name\": \"Michael Mulholland\"}, {\"credit_id\": \"54959a329251416e2b004355\", \"department\": \"Crew\", \"gender\": 0, \"id\": 1394750, \"job\": \"Visual Effects Editor\", \"name\": \"Thomas Nittmann\"}, {\"credit_id\": \"54959d6dc3a3686ae9004401\", \"department\": \"Visual Effects\", \"gender\": 0, \"id\": 1394755, \"job\": \"Visual Effects Supervisor\", \"name\": \"Edson Williams\"}, {\"credit_id\": \"5495a08fc3a3686ae300441c\", \"department\": \"Editing\", \"gender\": 0, \"id\": 1394953, \"job\": \"Digital Intermediate\", \"name\": \"Christine Carr\"}, {\"credit_id\": \"55402d659251413d6d000249\", \"department\": \"Visual Effects\", \"gender\": 0, \"id\": 1395269, \"job\": \"Visual Effects Supervisor\", \"name\": \"John Bruno\"}, {\"credit_id\": \"54959e7b9251416e1e003f3e\", \"department\": \"Camera\", \"gender\": 0, \"id\": 1398970, \"job\": \"Steadicam Operator\", \"name\": \"David Emmerichs\"}, {\"credit_id\": \"54959734c3a3686ae10045e0\", \"department\": \"Sound\", \"gender\": 0, \"id\": 1400906, \"job\": \"Sound Effects Editor\", \"name\": \"Christopher Scarabosio\"}, {\"credit_id\": \"549595dd92514130fc002d79\", \"department\": \"Production\", \"gender\": 0, \"id\": 1401784, \"job\": \"Production Supervisor\", \"name\": \"Jennifer Teves\"}, {\"credit_id\": \"549596009251413af70028cc\", \"department\": \"Production\", \"gender\": 0, \"id\": 1401785, \"job\": \"Production Manager\", \"name\": \"Brigitte Yorke\"}, {\"credit_id\": \"549596e892514130fc002d99\", \"department\": \"Sound\", \"gender\": 0, \"id\": 1401786, \"job\": \"Sound Effects Editor\", \"name\": \"Ken Fischer\"}, {\"credit_id\": \"549598229251412c4e002a1c\", \"department\": \"Crew\", \"gender\": 0, \"id\": 1401787, \"job\": \"Special Effects Coordinator\", \"name\": \"Iain Hutton\"}, {\"credit_id\": \"549598349251416e2b00432b\", \"department\": \"Crew\", \"gender\": 0, \"id\": 1401788, \"job\": \"Special Effects Coordinator\", \"name\": \"Steve Ingram\"}, {\"credit_id\": \"54959905c3a3686ae3004324\", \"department\": \"Visual Effects\", \"gender\": 0, \"id\": 1401789, \"job\": \"Visual Effects Producer\", \"name\": \"Joyce Cox\"}, {\"credit_id\": \"5495994b92514132ed002951\", \"department\": \"Visual Effects\", \"gender\": 0, \"id\": 1401790, \"job\": \"Visual Effects Producer\", \"name\": \"Jenny Foster\"}, {\"credit_id\": \"549599cbc3a3686ae1004613\", \"department\": \"Crew\", \"gender\": 0, \"id\": 1401791, \"job\": \"Visual Effects Editor\", \"name\": \"Christopher Marino\"}, {\"credit_id\": \"549599f2c3a3686ae100461e\", \"department\": \"Crew\", \"gender\": 0, \"id\": 1401792, \"job\": \"Visual Effects Editor\", \"name\": \"Jim Milton\"}, {\"credit_id\": \"54959a51c3a3686af3003eb5\", \"department\": \"Visual Effects\", \"gender\": 0, \"id\": 1401793, \"job\": \"Visual Effects Producer\", \"name\": \"Cyndi Ochs\"}, {\"credit_id\": \"54959a7cc3a36811530026f4\", \"department\": \"Crew\", \"gender\": 0, \"id\": 1401794, \"job\": \"Visual Effects Editor\", \"name\": \"Lucas Putnam\"}, {\"credit_id\": \"54959b91c3a3680ff5002cb4\", \"department\": \"Visual Effects\", \"gender\": 0, \"id\": 1401795, \"job\": \"Visual Effects Supervisor\", \"name\": \"Anthony \\'Max\\' Ivins\"}, {\"credit_id\": \"54959bb69251412c4e002a5f\", \"department\": \"Visual Effects\", \"gender\": 0, \"id\": 1401796, \"job\": \"Visual Effects Supervisor\", \"name\": \"John Knoll\"}, {\"credit_id\": \"54959cbbc3a3686ae3004391\", \"department\": \"Visual Effects\", \"gender\": 2, \"id\": 1401799, \"job\": \"Visual Effects Supervisor\", \"name\": \"Eric Saindon\"}, {\"credit_id\": \"54959d06c3a3686ae90043f6\", \"department\": \"Visual Effects\", \"gender\": 0, \"id\": 1401800, \"job\": \"Visual Effects Supervisor\", \"name\": \"Wayne Stables\"}, {\"credit_id\": \"54959d259251416e1e003f11\", \"department\": \"Visual Effects\", \"gender\": 0, \"id\": 1401801, \"job\": \"Visual Effects Supervisor\", \"name\": \"David Stinnett\"}, {\"credit_id\": \"54959db49251413af7002975\", \"department\": \"Visual Effects\", \"gender\": 0, \"id\": 1401803, \"job\": \"Visual Effects Supervisor\", \"name\": \"Guy Williams\"}, {\"credit_id\": \"54959de4c3a3681153002750\", \"department\": \"Crew\", \"gender\": 0, \"id\": 1401804, \"job\": \"Stunt Coordinator\", \"name\": \"Stuart Thorp\"}, {\"credit_id\": \"54959ef2c3a3680fc60027f2\", \"department\": \"Lighting\", \"gender\": 0, \"id\": 1401805, \"job\": \"Best Boy Electric\", \"name\": \"Giles Coburn\"}, {\"credit_id\": \"54959f07c3a3680fc60027f9\", \"department\": \"Camera\", \"gender\": 2, \"id\": 1401806, \"job\": \"Still Photographer\", \"name\": \"Mark Fellman\"}, {\"credit_id\": \"54959f47c3a3681153002774\", \"department\": \"Lighting\", \"gender\": 0, \"id\": 1401807, \"job\": \"Lighting Technician\", \"name\": \"Scott Sprague\"}, {\"credit_id\": \"54959f8cc3a36831b8001df2\", \"department\": \"Visual Effects\", \"gender\": 0, \"id\": 1401808, \"job\": \"Animation Director\", \"name\": \"Jeremy Hollobon\"}, {\"credit_id\": \"54959fa0c3a36831b8001dfb\", \"department\": \"Visual Effects\", \"gender\": 0, \"id\": 1401809, \"job\": \"Animation Director\", \"name\": \"Orlando Meunier\"}, {\"credit_id\": \"54959fb6c3a3686af3003f54\", \"department\": \"Visual Effects\", \"gender\": 0, \"id\": 1401810, \"job\": \"Animation Director\", \"name\": \"Taisuke Tanimura\"}, {\"credit_id\": \"54959fd2c3a36831b8001e02\", \"department\": \"Costume & Make-Up\", \"gender\": 0, \"id\": 1401812, \"job\": \"Set Costumer\", \"name\": \"Lilia Mishel Acevedo\"}, {\"credit_id\": \"54959ff9c3a3686ae300440c\", \"department\": \"Costume & Make-Up\", \"gender\": 0, \"id\": 1401814, \"job\": \"Set Costumer\", \"name\": \"Alejandro M. Hernandez\"}, {\"credit_id\": \"5495a0ddc3a3686ae10046fe\", \"department\": \"Editing\", \"gender\": 0, \"id\": 1401815, \"job\": \"Digital Intermediate\", \"name\": \"Marvin Hall\"}, {\"credit_id\": \"5495a1f7c3a3686ae3004443\", \"department\": \"Production\", \"gender\": 0, \"id\": 1401816, \"job\": \"Publicist\", \"name\": \"Judy Alley\"}, {\"credit_id\": \"5592b29fc3a36869d100002f\", \"department\": \"Crew\", \"gender\": 0, \"id\": 1418381, \"job\": \"CG Supervisor\", \"name\": \"Mike Perry\"}, {\"credit_id\": \"5592b23a9251415df8001081\", \"department\": \"Crew\", \"gender\": 0, \"id\": 1426854, \"job\": \"CG Supervisor\", \"name\": \"Andrew Morley\"}, {\"credit_id\": \"55491e1192514104c40002d8\", \"department\": \"Art\", \"gender\": 0, \"id\": 1438901, \"job\": \"Conceptual Design\", \"name\": \"Seth Engstrom\"}, {\"credit_id\": \"5525d5809251417276002b06\", \"department\": \"Crew\", \"gender\": 0, \"id\": 1447362, \"job\": \"Visual Effects Art Director\", \"name\": \"Eric Oliver\"}, {\"credit_id\": \"554427ca925141586500312a\", \"department\": \"Visual Effects\", \"gender\": 0, \"id\": 1447503, \"job\": \"Modeling\", \"name\": \"Matsune Suzuki\"}, {\"credit_id\": \"551906889251415aab001c88\", \"department\": \"Art\", \"gender\": 0, \"id\": 1447524, \"job\": \"Art Department Manager\", \"name\": \"Paul Tobin\"}, {\"credit_id\": \"5592af8492514152cc0010de\", \"department\": \"Costume & Make-Up\", \"gender\": 0, \"id\": 1452643, \"job\": \"Hairstylist\", \"name\": \"Roxane Griffin\"}, {\"credit_id\": \"553d3c109251415852001318\", \"department\": \"Lighting\", \"gender\": 0, \"id\": 1453938, \"job\": \"Lighting Artist\", \"name\": \"Arun Ram-Mohan\"}, {\"credit_id\": \"5592af4692514152d5001355\", \"department\": \"Costume & Make-Up\", \"gender\": 0, \"id\": 1457305, \"job\": \"Makeup Artist\", \"name\": \"Georgia Lockhart-Adams\"}, {\"credit_id\": \"5592b2eac3a36877470012a5\", \"department\": \"Crew\", \"gender\": 0, \"id\": 1466035, \"job\": \"CG Supervisor\", \"name\": \"Thrain Shadbolt\"}, {\"credit_id\": \"5592b032c3a36877450015f1\", \"department\": \"Crew\", \"gender\": 0, \"id\": 1483220, \"job\": \"CG Supervisor\", \"name\": \"Brad Alexander\"}, {\"credit_id\": \"5592b05592514152d80012f6\", \"department\": \"Crew\", \"gender\": 0, \"id\": 1483221, \"job\": \"CG Supervisor\", \"name\": \"Shadi Almassizadeh\"}, {\"credit_id\": \"5592b090c3a36877570010b5\", \"department\": \"Crew\", \"gender\": 0, \"id\": 1483222, \"job\": \"CG Supervisor\", \"name\": \"Simon Clutterbuck\"}, {\"credit_id\": \"5592b0dbc3a368774b00112c\", \"department\": \"Crew\", \"gender\": 0, \"id\": 1483223, \"job\": \"CG Supervisor\", \"name\": \"Graeme Demmocks\"}, {\"credit_id\": \"5592b0fe92514152db0010c1\", \"department\": \"Crew\", \"gender\": 0, \"id\": 1483224, \"job\": \"CG Supervisor\", \"name\": \"Adrian Fernandes\"}, {\"credit_id\": \"5592b11f9251415df8001059\", \"department\": \"Crew\", \"gender\": 0, \"id\": 1483225, \"job\": \"CG Supervisor\", \"name\": \"Mitch Gates\"}, {\"credit_id\": \"5592b15dc3a3687745001645\", \"department\": \"Crew\", \"gender\": 0, \"id\": 1483226, \"job\": \"CG Supervisor\", \"name\": \"Jerry Kung\"}, {\"credit_id\": \"5592b18e925141645a0004ae\", \"department\": \"Crew\", \"gender\": 0, \"id\": 1483227, \"job\": \"CG Supervisor\", \"name\": \"Andy Lomas\"}, {\"credit_id\": \"5592b1bfc3a368775d0010e7\", \"department\": \"Crew\", \"gender\": 0, \"id\": 1483228, \"job\": \"CG Supervisor\", \"name\": \"Sebastian Marino\"}, {\"credit_id\": \"5592b2049251415df8001078\", \"department\": \"Crew\", \"gender\": 0, \"id\": 1483229, \"job\": \"CG Supervisor\", \"name\": \"Matthias Menz\"}, {\"credit_id\": \"5592b27b92514152d800136a\", \"department\": \"Crew\", \"gender\": 0, \"id\": 1483230, \"job\": \"CG Supervisor\", \"name\": \"Sergei Nevshupov\"}, {\"credit_id\": \"5592b2c3c3a36869e800003c\", \"department\": \"Crew\", \"gender\": 0, \"id\": 1483231, \"job\": \"CG Supervisor\", \"name\": \"Philippe Rebours\"}, {\"credit_id\": \"5592b317c3a36877470012af\", \"department\": \"Crew\", \"gender\": 0, \"id\": 1483232, \"job\": \"CG Supervisor\", \"name\": \"Michael Takarangi\"}, {\"credit_id\": \"5592b345c3a36877470012bb\", \"department\": \"Crew\", \"gender\": 0, \"id\": 1483233, \"job\": \"CG Supervisor\", \"name\": \"David Weitzberg\"}, {\"credit_id\": \"5592b37cc3a368775100113b\", \"department\": \"Crew\", \"gender\": 0, \"id\": 1483234, \"job\": \"CG Supervisor\", \"name\": \"Ben White\"}, {\"credit_id\": \"573c8e2f9251413f5d000094\", \"department\": \"Crew\", \"gender\": 1, \"id\": 1621932, \"job\": \"Stunts\", \"name\": \"Min Windle\"}]'"
      ]
     },
     "execution_count": 33,
     "metadata": {},
     "output_type": "execute_result"
    }
   ],
   "source": [
    "df['crew'][0]"
   ]
  },
  {
   "cell_type": "code",
   "execution_count": 34,
   "id": "328d20bf-2af5-4ae0-8d94-a367816d9c5d",
   "metadata": {},
   "outputs": [],
   "source": [
    "def change3(val):\n",
    "    d=[]\n",
    "    for i in ast.literal_eval(val):\n",
    "        if i['job']==\"Director\":\n",
    "            d.append(i['name'])\n",
    "            break\n",
    "    return d"
   ]
  },
  {
   "cell_type": "code",
   "execution_count": 35,
   "id": "1cad1471-32ff-4717-b6b9-949c4fb62d98",
   "metadata": {},
   "outputs": [],
   "source": [
    "df['crew']=df['crew'].apply(change3)"
   ]
  },
  {
   "cell_type": "code",
   "execution_count": 36,
   "id": "8be743bf-b892-41f7-8b0e-fc39002da618",
   "metadata": {},
   "outputs": [
    {
     "data": {
      "text/plain": [
       "['James Cameron']"
      ]
     },
     "execution_count": 36,
     "metadata": {},
     "output_type": "execute_result"
    }
   ],
   "source": [
    "df['crew'][0]"
   ]
  },
  {
   "cell_type": "code",
   "execution_count": 37,
   "id": "3f5044d7-2dc6-4457-a95b-9a8ea2509642",
   "metadata": {},
   "outputs": [
    {
     "data": {
      "text/html": [
       "<div>\n",
       "<style scoped>\n",
       "    .dataframe tbody tr th:only-of-type {\n",
       "        vertical-align: middle;\n",
       "    }\n",
       "\n",
       "    .dataframe tbody tr th {\n",
       "        vertical-align: top;\n",
       "    }\n",
       "\n",
       "    .dataframe thead th {\n",
       "        text-align: right;\n",
       "    }\n",
       "</style>\n",
       "<table border=\"1\" class=\"dataframe\">\n",
       "  <thead>\n",
       "    <tr style=\"text-align: right;\">\n",
       "      <th></th>\n",
       "      <th>movie_id</th>\n",
       "      <th>genres</th>\n",
       "      <th>keywords</th>\n",
       "      <th>overview</th>\n",
       "      <th>title</th>\n",
       "      <th>cast</th>\n",
       "      <th>crew</th>\n",
       "    </tr>\n",
       "  </thead>\n",
       "  <tbody>\n",
       "    <tr>\n",
       "      <th>0</th>\n",
       "      <td>19995</td>\n",
       "      <td>[Action, Adventure, Fantasy, Science Fiction]</td>\n",
       "      <td>[culture clash, future, space war, space colon...</td>\n",
       "      <td>In the 22nd century, a paraplegic Marine is di...</td>\n",
       "      <td>Avatar</td>\n",
       "      <td>[Sam Worthington, Zoe Saldana, Sigourney Weaver]</td>\n",
       "      <td>[James Cameron]</td>\n",
       "    </tr>\n",
       "    <tr>\n",
       "      <th>1</th>\n",
       "      <td>285</td>\n",
       "      <td>[Adventure, Fantasy, Action]</td>\n",
       "      <td>[ocean, drug abuse, exotic island, east india ...</td>\n",
       "      <td>Captain Barbossa, long believed to be dead, ha...</td>\n",
       "      <td>Pirates of the Caribbean: At World's End</td>\n",
       "      <td>[Johnny Depp, Orlando Bloom, Keira Knightley]</td>\n",
       "      <td>[Gore Verbinski]</td>\n",
       "    </tr>\n",
       "    <tr>\n",
       "      <th>2</th>\n",
       "      <td>206647</td>\n",
       "      <td>[Action, Adventure, Crime]</td>\n",
       "      <td>[spy, based on novel, secret agent, sequel, mi...</td>\n",
       "      <td>A cryptic message from Bond’s past sends him o...</td>\n",
       "      <td>Spectre</td>\n",
       "      <td>[Daniel Craig, Christoph Waltz, Léa Seydoux]</td>\n",
       "      <td>[Sam Mendes]</td>\n",
       "    </tr>\n",
       "    <tr>\n",
       "      <th>3</th>\n",
       "      <td>49026</td>\n",
       "      <td>[Action, Crime, Drama, Thriller]</td>\n",
       "      <td>[dc comics, crime fighter, terrorist, secret i...</td>\n",
       "      <td>Following the death of District Attorney Harve...</td>\n",
       "      <td>The Dark Knight Rises</td>\n",
       "      <td>[Christian Bale, Michael Caine, Gary Oldman]</td>\n",
       "      <td>[Christopher Nolan]</td>\n",
       "    </tr>\n",
       "    <tr>\n",
       "      <th>4</th>\n",
       "      <td>49529</td>\n",
       "      <td>[Action, Adventure, Science Fiction]</td>\n",
       "      <td>[based on novel, mars, medallion, space travel...</td>\n",
       "      <td>John Carter is a war-weary, former military ca...</td>\n",
       "      <td>John Carter</td>\n",
       "      <td>[Taylor Kitsch, Lynn Collins, Samantha Morton]</td>\n",
       "      <td>[Andrew Stanton]</td>\n",
       "    </tr>\n",
       "  </tbody>\n",
       "</table>\n",
       "</div>"
      ],
      "text/plain": [
       "   movie_id                                         genres  \\\n",
       "0     19995  [Action, Adventure, Fantasy, Science Fiction]   \n",
       "1       285                   [Adventure, Fantasy, Action]   \n",
       "2    206647                     [Action, Adventure, Crime]   \n",
       "3     49026               [Action, Crime, Drama, Thriller]   \n",
       "4     49529           [Action, Adventure, Science Fiction]   \n",
       "\n",
       "                                            keywords  \\\n",
       "0  [culture clash, future, space war, space colon...   \n",
       "1  [ocean, drug abuse, exotic island, east india ...   \n",
       "2  [spy, based on novel, secret agent, sequel, mi...   \n",
       "3  [dc comics, crime fighter, terrorist, secret i...   \n",
       "4  [based on novel, mars, medallion, space travel...   \n",
       "\n",
       "                                            overview  \\\n",
       "0  In the 22nd century, a paraplegic Marine is di...   \n",
       "1  Captain Barbossa, long believed to be dead, ha...   \n",
       "2  A cryptic message from Bond’s past sends him o...   \n",
       "3  Following the death of District Attorney Harve...   \n",
       "4  John Carter is a war-weary, former military ca...   \n",
       "\n",
       "                                      title  \\\n",
       "0                                    Avatar   \n",
       "1  Pirates of the Caribbean: At World's End   \n",
       "2                                   Spectre   \n",
       "3                     The Dark Knight Rises   \n",
       "4                               John Carter   \n",
       "\n",
       "                                               cast                 crew  \n",
       "0  [Sam Worthington, Zoe Saldana, Sigourney Weaver]      [James Cameron]  \n",
       "1     [Johnny Depp, Orlando Bloom, Keira Knightley]     [Gore Verbinski]  \n",
       "2      [Daniel Craig, Christoph Waltz, Léa Seydoux]         [Sam Mendes]  \n",
       "3      [Christian Bale, Michael Caine, Gary Oldman]  [Christopher Nolan]  \n",
       "4    [Taylor Kitsch, Lynn Collins, Samantha Morton]     [Andrew Stanton]  "
      ]
     },
     "execution_count": 37,
     "metadata": {},
     "output_type": "execute_result"
    }
   ],
   "source": [
    "df.head()"
   ]
  },
  {
   "cell_type": "code",
   "execution_count": 38,
   "id": "9703ea64-7a75-4164-b78d-781beeb64cf8",
   "metadata": {},
   "outputs": [
    {
     "data": {
      "text/plain": [
       "'In the 22nd century, a paraplegic Marine is dispatched to the moon Pandora on a unique mission, but becomes torn between following orders and protecting an alien civilization.'"
      ]
     },
     "execution_count": 38,
     "metadata": {},
     "output_type": "execute_result"
    }
   ],
   "source": [
    "df['overview'][0]"
   ]
  },
  {
   "cell_type": "code",
   "execution_count": 39,
   "id": "e139e9e8-7307-4b16-a2e2-a55ca3c6cda4",
   "metadata": {},
   "outputs": [],
   "source": [
    "df['overview']=df['overview'].apply(lambda x:x.split())"
   ]
  },
  {
   "cell_type": "code",
   "execution_count": 40,
   "id": "90f7a817-77e5-43bd-9add-c33ce5b493cb",
   "metadata": {},
   "outputs": [
    {
     "data": {
      "text/html": [
       "<div>\n",
       "<style scoped>\n",
       "    .dataframe tbody tr th:only-of-type {\n",
       "        vertical-align: middle;\n",
       "    }\n",
       "\n",
       "    .dataframe tbody tr th {\n",
       "        vertical-align: top;\n",
       "    }\n",
       "\n",
       "    .dataframe thead th {\n",
       "        text-align: right;\n",
       "    }\n",
       "</style>\n",
       "<table border=\"1\" class=\"dataframe\">\n",
       "  <thead>\n",
       "    <tr style=\"text-align: right;\">\n",
       "      <th></th>\n",
       "      <th>movie_id</th>\n",
       "      <th>genres</th>\n",
       "      <th>keywords</th>\n",
       "      <th>overview</th>\n",
       "      <th>title</th>\n",
       "      <th>cast</th>\n",
       "      <th>crew</th>\n",
       "    </tr>\n",
       "  </thead>\n",
       "  <tbody>\n",
       "    <tr>\n",
       "      <th>0</th>\n",
       "      <td>19995</td>\n",
       "      <td>[Action, Adventure, Fantasy, Science Fiction]</td>\n",
       "      <td>[culture clash, future, space war, space colon...</td>\n",
       "      <td>[In, the, 22nd, century,, a, paraplegic, Marin...</td>\n",
       "      <td>Avatar</td>\n",
       "      <td>[Sam Worthington, Zoe Saldana, Sigourney Weaver]</td>\n",
       "      <td>[James Cameron]</td>\n",
       "    </tr>\n",
       "    <tr>\n",
       "      <th>1</th>\n",
       "      <td>285</td>\n",
       "      <td>[Adventure, Fantasy, Action]</td>\n",
       "      <td>[ocean, drug abuse, exotic island, east india ...</td>\n",
       "      <td>[Captain, Barbossa,, long, believed, to, be, d...</td>\n",
       "      <td>Pirates of the Caribbean: At World's End</td>\n",
       "      <td>[Johnny Depp, Orlando Bloom, Keira Knightley]</td>\n",
       "      <td>[Gore Verbinski]</td>\n",
       "    </tr>\n",
       "    <tr>\n",
       "      <th>2</th>\n",
       "      <td>206647</td>\n",
       "      <td>[Action, Adventure, Crime]</td>\n",
       "      <td>[spy, based on novel, secret agent, sequel, mi...</td>\n",
       "      <td>[A, cryptic, message, from, Bond’s, past, send...</td>\n",
       "      <td>Spectre</td>\n",
       "      <td>[Daniel Craig, Christoph Waltz, Léa Seydoux]</td>\n",
       "      <td>[Sam Mendes]</td>\n",
       "    </tr>\n",
       "    <tr>\n",
       "      <th>3</th>\n",
       "      <td>49026</td>\n",
       "      <td>[Action, Crime, Drama, Thriller]</td>\n",
       "      <td>[dc comics, crime fighter, terrorist, secret i...</td>\n",
       "      <td>[Following, the, death, of, District, Attorney...</td>\n",
       "      <td>The Dark Knight Rises</td>\n",
       "      <td>[Christian Bale, Michael Caine, Gary Oldman]</td>\n",
       "      <td>[Christopher Nolan]</td>\n",
       "    </tr>\n",
       "    <tr>\n",
       "      <th>4</th>\n",
       "      <td>49529</td>\n",
       "      <td>[Action, Adventure, Science Fiction]</td>\n",
       "      <td>[based on novel, mars, medallion, space travel...</td>\n",
       "      <td>[John, Carter, is, a, war-weary,, former, mili...</td>\n",
       "      <td>John Carter</td>\n",
       "      <td>[Taylor Kitsch, Lynn Collins, Samantha Morton]</td>\n",
       "      <td>[Andrew Stanton]</td>\n",
       "    </tr>\n",
       "  </tbody>\n",
       "</table>\n",
       "</div>"
      ],
      "text/plain": [
       "   movie_id                                         genres  \\\n",
       "0     19995  [Action, Adventure, Fantasy, Science Fiction]   \n",
       "1       285                   [Adventure, Fantasy, Action]   \n",
       "2    206647                     [Action, Adventure, Crime]   \n",
       "3     49026               [Action, Crime, Drama, Thriller]   \n",
       "4     49529           [Action, Adventure, Science Fiction]   \n",
       "\n",
       "                                            keywords  \\\n",
       "0  [culture clash, future, space war, space colon...   \n",
       "1  [ocean, drug abuse, exotic island, east india ...   \n",
       "2  [spy, based on novel, secret agent, sequel, mi...   \n",
       "3  [dc comics, crime fighter, terrorist, secret i...   \n",
       "4  [based on novel, mars, medallion, space travel...   \n",
       "\n",
       "                                            overview  \\\n",
       "0  [In, the, 22nd, century,, a, paraplegic, Marin...   \n",
       "1  [Captain, Barbossa,, long, believed, to, be, d...   \n",
       "2  [A, cryptic, message, from, Bond’s, past, send...   \n",
       "3  [Following, the, death, of, District, Attorney...   \n",
       "4  [John, Carter, is, a, war-weary,, former, mili...   \n",
       "\n",
       "                                      title  \\\n",
       "0                                    Avatar   \n",
       "1  Pirates of the Caribbean: At World's End   \n",
       "2                                   Spectre   \n",
       "3                     The Dark Knight Rises   \n",
       "4                               John Carter   \n",
       "\n",
       "                                               cast                 crew  \n",
       "0  [Sam Worthington, Zoe Saldana, Sigourney Weaver]      [James Cameron]  \n",
       "1     [Johnny Depp, Orlando Bloom, Keira Knightley]     [Gore Verbinski]  \n",
       "2      [Daniel Craig, Christoph Waltz, Léa Seydoux]         [Sam Mendes]  \n",
       "3      [Christian Bale, Michael Caine, Gary Oldman]  [Christopher Nolan]  \n",
       "4    [Taylor Kitsch, Lynn Collins, Samantha Morton]     [Andrew Stanton]  "
      ]
     },
     "execution_count": 40,
     "metadata": {},
     "output_type": "execute_result"
    }
   ],
   "source": [
    "df.head()"
   ]
  },
  {
   "cell_type": "code",
   "execution_count": 41,
   "id": "3a2a15a8-3da5-4b13-a8f5-8cc42db524ae",
   "metadata": {},
   "outputs": [],
   "source": [
    "df['genres']=df['genres'].apply(lambda x:[i.replace(\" \",\"\") for i in x])\n",
    "df['keywords']=df['keywords'].apply(lambda x:[i.replace(\" \",\"\") for i in x])\n",
    "df['crew']=df['crew'].apply(lambda x:[i.replace(\" \",\"\") for i in x])\n",
    "df['cast']=df['cast'].apply(lambda x:[i.replace(\" \",\"\") for i in x])#or use strip"
   ]
  },
  {
   "cell_type": "code",
   "execution_count": 42,
   "id": "f53cb86d-307b-4a59-b4b4-11f54d3e36f8",
   "metadata": {},
   "outputs": [
    {
     "data": {
      "text/html": [
       "<div>\n",
       "<style scoped>\n",
       "    .dataframe tbody tr th:only-of-type {\n",
       "        vertical-align: middle;\n",
       "    }\n",
       "\n",
       "    .dataframe tbody tr th {\n",
       "        vertical-align: top;\n",
       "    }\n",
       "\n",
       "    .dataframe thead th {\n",
       "        text-align: right;\n",
       "    }\n",
       "</style>\n",
       "<table border=\"1\" class=\"dataframe\">\n",
       "  <thead>\n",
       "    <tr style=\"text-align: right;\">\n",
       "      <th></th>\n",
       "      <th>movie_id</th>\n",
       "      <th>genres</th>\n",
       "      <th>keywords</th>\n",
       "      <th>overview</th>\n",
       "      <th>title</th>\n",
       "      <th>cast</th>\n",
       "      <th>crew</th>\n",
       "    </tr>\n",
       "  </thead>\n",
       "  <tbody>\n",
       "    <tr>\n",
       "      <th>0</th>\n",
       "      <td>19995</td>\n",
       "      <td>[Action, Adventure, Fantasy, ScienceFiction]</td>\n",
       "      <td>[cultureclash, future, spacewar, spacecolony, ...</td>\n",
       "      <td>[In, the, 22nd, century,, a, paraplegic, Marin...</td>\n",
       "      <td>Avatar</td>\n",
       "      <td>[SamWorthington, ZoeSaldana, SigourneyWeaver]</td>\n",
       "      <td>[JamesCameron]</td>\n",
       "    </tr>\n",
       "    <tr>\n",
       "      <th>1</th>\n",
       "      <td>285</td>\n",
       "      <td>[Adventure, Fantasy, Action]</td>\n",
       "      <td>[ocean, drugabuse, exoticisland, eastindiatrad...</td>\n",
       "      <td>[Captain, Barbossa,, long, believed, to, be, d...</td>\n",
       "      <td>Pirates of the Caribbean: At World's End</td>\n",
       "      <td>[JohnnyDepp, OrlandoBloom, KeiraKnightley]</td>\n",
       "      <td>[GoreVerbinski]</td>\n",
       "    </tr>\n",
       "    <tr>\n",
       "      <th>2</th>\n",
       "      <td>206647</td>\n",
       "      <td>[Action, Adventure, Crime]</td>\n",
       "      <td>[spy, basedonnovel, secretagent, sequel, mi6, ...</td>\n",
       "      <td>[A, cryptic, message, from, Bond’s, past, send...</td>\n",
       "      <td>Spectre</td>\n",
       "      <td>[DanielCraig, ChristophWaltz, LéaSeydoux]</td>\n",
       "      <td>[SamMendes]</td>\n",
       "    </tr>\n",
       "    <tr>\n",
       "      <th>3</th>\n",
       "      <td>49026</td>\n",
       "      <td>[Action, Crime, Drama, Thriller]</td>\n",
       "      <td>[dccomics, crimefighter, terrorist, secretiden...</td>\n",
       "      <td>[Following, the, death, of, District, Attorney...</td>\n",
       "      <td>The Dark Knight Rises</td>\n",
       "      <td>[ChristianBale, MichaelCaine, GaryOldman]</td>\n",
       "      <td>[ChristopherNolan]</td>\n",
       "    </tr>\n",
       "    <tr>\n",
       "      <th>4</th>\n",
       "      <td>49529</td>\n",
       "      <td>[Action, Adventure, ScienceFiction]</td>\n",
       "      <td>[basedonnovel, mars, medallion, spacetravel, p...</td>\n",
       "      <td>[John, Carter, is, a, war-weary,, former, mili...</td>\n",
       "      <td>John Carter</td>\n",
       "      <td>[TaylorKitsch, LynnCollins, SamanthaMorton]</td>\n",
       "      <td>[AndrewStanton]</td>\n",
       "    </tr>\n",
       "  </tbody>\n",
       "</table>\n",
       "</div>"
      ],
      "text/plain": [
       "   movie_id                                        genres  \\\n",
       "0     19995  [Action, Adventure, Fantasy, ScienceFiction]   \n",
       "1       285                  [Adventure, Fantasy, Action]   \n",
       "2    206647                    [Action, Adventure, Crime]   \n",
       "3     49026              [Action, Crime, Drama, Thriller]   \n",
       "4     49529           [Action, Adventure, ScienceFiction]   \n",
       "\n",
       "                                            keywords  \\\n",
       "0  [cultureclash, future, spacewar, spacecolony, ...   \n",
       "1  [ocean, drugabuse, exoticisland, eastindiatrad...   \n",
       "2  [spy, basedonnovel, secretagent, sequel, mi6, ...   \n",
       "3  [dccomics, crimefighter, terrorist, secretiden...   \n",
       "4  [basedonnovel, mars, medallion, spacetravel, p...   \n",
       "\n",
       "                                            overview  \\\n",
       "0  [In, the, 22nd, century,, a, paraplegic, Marin...   \n",
       "1  [Captain, Barbossa,, long, believed, to, be, d...   \n",
       "2  [A, cryptic, message, from, Bond’s, past, send...   \n",
       "3  [Following, the, death, of, District, Attorney...   \n",
       "4  [John, Carter, is, a, war-weary,, former, mili...   \n",
       "\n",
       "                                      title  \\\n",
       "0                                    Avatar   \n",
       "1  Pirates of the Caribbean: At World's End   \n",
       "2                                   Spectre   \n",
       "3                     The Dark Knight Rises   \n",
       "4                               John Carter   \n",
       "\n",
       "                                            cast                crew  \n",
       "0  [SamWorthington, ZoeSaldana, SigourneyWeaver]      [JamesCameron]  \n",
       "1     [JohnnyDepp, OrlandoBloom, KeiraKnightley]     [GoreVerbinski]  \n",
       "2      [DanielCraig, ChristophWaltz, LéaSeydoux]         [SamMendes]  \n",
       "3      [ChristianBale, MichaelCaine, GaryOldman]  [ChristopherNolan]  \n",
       "4    [TaylorKitsch, LynnCollins, SamanthaMorton]     [AndrewStanton]  "
      ]
     },
     "execution_count": 42,
     "metadata": {},
     "output_type": "execute_result"
    }
   ],
   "source": [
    "df.head()"
   ]
  },
  {
   "cell_type": "code",
   "execution_count": 43,
   "id": "ad6213dd-1844-42f8-8197-057ef007b211",
   "metadata": {},
   "outputs": [],
   "source": [
    "#creating Tags\n",
    "df['tags']=df['overview']+df['genres']+df['keywords']+df['cast']+df['crew']"
   ]
  },
  {
   "cell_type": "code",
   "execution_count": 44,
   "id": "3d50d187-cb27-40c6-a404-7818c66dbbef",
   "metadata": {},
   "outputs": [],
   "source": [
    "mov=df[['movie_id','title','tags']]"
   ]
  },
  {
   "cell_type": "code",
   "execution_count": 45,
   "id": "4899c13c-6407-4594-824a-3dee8592db62",
   "metadata": {},
   "outputs": [
    {
     "name": "stderr",
     "output_type": "stream",
     "text": [
      "C:\\Users\\HOME\\AppData\\Local\\Temp\\ipykernel_22468\\783438035.py:1: SettingWithCopyWarning: \n",
      "A value is trying to be set on a copy of a slice from a DataFrame.\n",
      "Try using .loc[row_indexer,col_indexer] = value instead\n",
      "\n",
      "See the caveats in the documentation: https://pandas.pydata.org/pandas-docs/stable/user_guide/indexing.html#returning-a-view-versus-a-copy\n",
      "  mov['tags']=mov['tags'].apply(lambda x:\" \".join(x))\n"
     ]
    }
   ],
   "source": [
    "mov['tags']=mov['tags'].apply(lambda x:\" \".join(x))"
   ]
  },
  {
   "cell_type": "code",
   "execution_count": 46,
   "id": "15e1bdaa-4779-4515-b20d-06b6ccd1269c",
   "metadata": {},
   "outputs": [
    {
     "data": {
      "text/html": [
       "<div>\n",
       "<style scoped>\n",
       "    .dataframe tbody tr th:only-of-type {\n",
       "        vertical-align: middle;\n",
       "    }\n",
       "\n",
       "    .dataframe tbody tr th {\n",
       "        vertical-align: top;\n",
       "    }\n",
       "\n",
       "    .dataframe thead th {\n",
       "        text-align: right;\n",
       "    }\n",
       "</style>\n",
       "<table border=\"1\" class=\"dataframe\">\n",
       "  <thead>\n",
       "    <tr style=\"text-align: right;\">\n",
       "      <th></th>\n",
       "      <th>movie_id</th>\n",
       "      <th>title</th>\n",
       "      <th>tags</th>\n",
       "    </tr>\n",
       "  </thead>\n",
       "  <tbody>\n",
       "    <tr>\n",
       "      <th>0</th>\n",
       "      <td>19995</td>\n",
       "      <td>Avatar</td>\n",
       "      <td>In the 22nd century, a paraplegic Marine is di...</td>\n",
       "    </tr>\n",
       "    <tr>\n",
       "      <th>1</th>\n",
       "      <td>285</td>\n",
       "      <td>Pirates of the Caribbean: At World's End</td>\n",
       "      <td>Captain Barbossa, long believed to be dead, ha...</td>\n",
       "    </tr>\n",
       "    <tr>\n",
       "      <th>2</th>\n",
       "      <td>206647</td>\n",
       "      <td>Spectre</td>\n",
       "      <td>A cryptic message from Bond’s past sends him o...</td>\n",
       "    </tr>\n",
       "    <tr>\n",
       "      <th>3</th>\n",
       "      <td>49026</td>\n",
       "      <td>The Dark Knight Rises</td>\n",
       "      <td>Following the death of District Attorney Harve...</td>\n",
       "    </tr>\n",
       "    <tr>\n",
       "      <th>4</th>\n",
       "      <td>49529</td>\n",
       "      <td>John Carter</td>\n",
       "      <td>John Carter is a war-weary, former military ca...</td>\n",
       "    </tr>\n",
       "  </tbody>\n",
       "</table>\n",
       "</div>"
      ],
      "text/plain": [
       "   movie_id                                     title  \\\n",
       "0     19995                                    Avatar   \n",
       "1       285  Pirates of the Caribbean: At World's End   \n",
       "2    206647                                   Spectre   \n",
       "3     49026                     The Dark Knight Rises   \n",
       "4     49529                               John Carter   \n",
       "\n",
       "                                                tags  \n",
       "0  In the 22nd century, a paraplegic Marine is di...  \n",
       "1  Captain Barbossa, long believed to be dead, ha...  \n",
       "2  A cryptic message from Bond’s past sends him o...  \n",
       "3  Following the death of District Attorney Harve...  \n",
       "4  John Carter is a war-weary, former military ca...  "
      ]
     },
     "execution_count": 46,
     "metadata": {},
     "output_type": "execute_result"
    }
   ],
   "source": [
    "mov.head()"
   ]
  },
  {
   "cell_type": "code",
   "execution_count": 47,
   "id": "582fdd5a-dd03-4edb-8b76-533c3f6cc99e",
   "metadata": {},
   "outputs": [
    {
     "data": {
      "text/plain": [
       "'In the 22nd century, a paraplegic Marine is dispatched to the moon Pandora on a unique mission, but becomes torn between following orders and protecting an alien civilization. Action Adventure Fantasy ScienceFiction cultureclash future spacewar spacecolony society spacetravel futuristic romance space alien tribe alienplanet cgi marine soldier battle loveaffair antiwar powerrelations mindandsoul 3d SamWorthington ZoeSaldana SigourneyWeaver JamesCameron'"
      ]
     },
     "execution_count": 47,
     "metadata": {},
     "output_type": "execute_result"
    }
   ],
   "source": [
    "mov['tags'][0]"
   ]
  },
  {
   "cell_type": "code",
   "execution_count": 48,
   "id": "7253c407-2229-45a6-979d-f256a4fe7aea",
   "metadata": {},
   "outputs": [
    {
     "name": "stderr",
     "output_type": "stream",
     "text": [
      "C:\\Users\\HOME\\AppData\\Local\\Temp\\ipykernel_22468\\3138861936.py:3: SettingWithCopyWarning: \n",
      "A value is trying to be set on a copy of a slice from a DataFrame.\n",
      "Try using .loc[row_indexer,col_indexer] = value instead\n",
      "\n",
      "See the caveats in the documentation: https://pandas.pydata.org/pandas-docs/stable/user_guide/indexing.html#returning-a-view-versus-a-copy\n",
      "  mov['tags']=mov['tags'].apply(lambda x:x.lower())\n"
     ]
    }
   ],
   "source": [
    "#vectorization\n",
    "#using bag of words\n",
    "mov['tags']=mov['tags'].apply(lambda x:x.lower())"
   ]
  },
  {
   "cell_type": "code",
   "execution_count": 49,
   "id": "895990aa-cdaf-4db3-b8d0-ccca08f3f6ef",
   "metadata": {},
   "outputs": [
    {
     "data": {
      "text/plain": [
       "'in the 22nd century, a paraplegic marine is dispatched to the moon pandora on a unique mission, but becomes torn between following orders and protecting an alien civilization. action adventure fantasy sciencefiction cultureclash future spacewar spacecolony society spacetravel futuristic romance space alien tribe alienplanet cgi marine soldier battle loveaffair antiwar powerrelations mindandsoul 3d samworthington zoesaldana sigourneyweaver jamescameron'"
      ]
     },
     "execution_count": 49,
     "metadata": {},
     "output_type": "execute_result"
    }
   ],
   "source": [
    "mov['tags'][0]"
   ]
  },
  {
   "cell_type": "code",
   "execution_count": 50,
   "id": "dfe31bd7-491c-4da5-b81d-115e7924aed3",
   "metadata": {},
   "outputs": [
    {
     "name": "stdout",
     "output_type": "stream",
     "text": [
      "Requirement already satisfied: nltk in c:\\users\\home\\appdata\\local\\programs\\python\\python312\\lib\\site-packages (3.9.1)\n",
      "Requirement already satisfied: click in c:\\users\\home\\appdata\\local\\programs\\python\\python312\\lib\\site-packages (from nltk) (8.1.8)\n",
      "Requirement already satisfied: joblib in c:\\users\\home\\appdata\\local\\programs\\python\\python312\\lib\\site-packages (from nltk) (1.4.2)\n",
      "Requirement already satisfied: regex>=2021.8.3 in c:\\users\\home\\appdata\\local\\programs\\python\\python312\\lib\\site-packages (from nltk) (2024.11.6)\n",
      "Requirement already satisfied: tqdm in c:\\users\\home\\appdata\\local\\programs\\python\\python312\\lib\\site-packages (from nltk) (4.67.1)\n",
      "Requirement already satisfied: colorama in c:\\users\\home\\appdata\\local\\programs\\python\\python312\\lib\\site-packages (from click->nltk) (0.4.6)\n",
      "Note: you may need to restart the kernel to use updated packages.\n"
     ]
    },
    {
     "name": "stderr",
     "output_type": "stream",
     "text": [
      "\n",
      "[notice] A new release of pip is available: 23.2.1 -> 25.1.1\n",
      "[notice] To update, run: python.exe -m pip install --upgrade pip\n"
     ]
    }
   ],
   "source": [
    "pip install nltk"
   ]
  },
  {
   "cell_type": "code",
   "execution_count": 51,
   "id": "f9e3e8aa-db65-4ec5-9f86-27b2d1558a07",
   "metadata": {},
   "outputs": [
    {
     "name": "stderr",
     "output_type": "stream",
     "text": [
      "[nltk_data] Downloading package wordnet to\n",
      "[nltk_data]     C:\\Users\\HOME\\AppData\\Roaming\\nltk_data...\n",
      "[nltk_data]   Package wordnet is already up-to-date!\n",
      "[nltk_data] Downloading package omw-1.4 to\n",
      "[nltk_data]     C:\\Users\\HOME\\AppData\\Roaming\\nltk_data...\n",
      "[nltk_data]   Package omw-1.4 is already up-to-date!\n"
     ]
    },
    {
     "data": {
      "text/plain": [
       "True"
      ]
     },
     "execution_count": 51,
     "metadata": {},
     "output_type": "execute_result"
    }
   ],
   "source": [
    "#to apply steming (it reduces words to their base form)\n",
    "import nltk\n",
    "nltk.download('wordnet')\n",
    "nltk.download('omw-1.4')\n"
   ]
  },
  {
   "cell_type": "code",
   "execution_count": 52,
   "id": "abbfd3ad-2737-4f4e-8b2f-c29468cb00c2",
   "metadata": {},
   "outputs": [],
   "source": [
    "# from nltk.stem.porter import PorterStemmer\n",
    "# stemmer=PorterStemmer()"
   ]
  },
  {
   "cell_type": "code",
   "execution_count": 53,
   "id": "69f6c4a5-e52e-4f90-a51f-f51be1e81c53",
   "metadata": {},
   "outputs": [],
   "source": [
    "# def base_form(val):\n",
    "#     w=[]\n",
    "#     for i in val.split():\n",
    "#         w.append(stemmer.stem(i))\n",
    "#     return \" \".join(w)"
   ]
  },
  {
   "cell_type": "code",
   "execution_count": 54,
   "id": "aad52240-45eb-4bd5-963b-b3f367951595",
   "metadata": {},
   "outputs": [],
   "source": [
    "from nltk.stem import WordNetLemmatizer\n",
    "wnl=WordNetLemmatizer()"
   ]
  },
  {
   "cell_type": "code",
   "execution_count": 55,
   "id": "b0d328da-1646-4725-a0a6-e2f6832350f8",
   "metadata": {},
   "outputs": [],
   "source": [
    "def base_form(val):\n",
    "     w=[]\n",
    "     for i in val.split():\n",
    "         w.append(wnl.lemmatize(i,pos='v'))\n",
    "     return \" \".join(w)"
   ]
  },
  {
   "cell_type": "code",
   "execution_count": 56,
   "id": "ccb9dc03-039d-428f-84fc-0fe69a9c59e6",
   "metadata": {},
   "outputs": [],
   "source": [
    "# import nltk\n",
    "# from nltk.stem import WordNetLemmatizer\n",
    "# from nltk.corpus import wordnet\n",
    "# from nltk import pos_tag, word_tokenize\n",
    "\n",
    "# # Download required NLTK data\n",
    "# nltk.download('punkt_tab')\n",
    "# nltk.download('averaged_perceptron_tagger_eng')\n",
    "# nltk.download('wordnet')"
   ]
  },
  {
   "cell_type": "code",
   "execution_count": 57,
   "id": "ae1119fb-94c9-4105-88ce-7343403114bf",
   "metadata": {},
   "outputs": [],
   "source": [
    "# wnl = WordNetLemmatizer()\n",
    "\n",
    "# # Mapping POS tag to WordNet POS tag\n",
    "# def pos_to_wordnet(pos_tag):\n",
    "#     if pos_tag.startswith('J'):\n",
    "#         return wordnet.ADJ  # Adjective\n",
    "#     elif pos_tag.startswith('V'):\n",
    "#         return wordnet.VERB  # Verb\n",
    "#     elif pos_tag.startswith('N'):\n",
    "#         return wordnet.NOUN  # Noun\n",
    "#     elif pos_tag.startswith('R'):\n",
    "#         return wordnet.ADV  # Adverb\n",
    "#     return wordnet.NOUN  # Default to Noun\n",
    "\n",
    "# def base_form(sentence):\n",
    "#     # Tokenize the sentence and get POS tags\n",
    "#     tokens = word_tokenize(sentence)\n",
    "#     pos_tags = pos_tag(tokens)\n",
    "\n",
    "#     # Lemmatize each word based on its POS tag\n",
    "#     lemmatized_words = []\n",
    "#     for word, tag in pos_tags:\n",
    "#         wordnet_pos = pos_to_wordnet(tag)  # Get WordNet POS tag\n",
    "#         lemmatized_word = wnl.lemmatize(word, wordnet_pos)  # Lemmatize word\n",
    "#         lemmatized_words.append(lemmatized_word)\n",
    "\n",
    "#     # Join the lemmatized words back into a sentence\n",
    "#     return ' '.join(lemmatized_words)\n",
    "\n",
    "# # Example sentence\n",
    "# sentence = \"The cats were running quickly and jumping on bigger boxes\"\n",
    "# lemmatized_sentence = base_form(sentence)\n",
    "# print(\"Original Sentence: \", sentence)\n",
    "# print(\"Lemmatized Sentence: \", lemmatized_sentence)"
   ]
  },
  {
   "cell_type": "code",
   "execution_count": 58,
   "id": "6184bcca-11c9-4ac8-a608-86569cb3a812",
   "metadata": {},
   "outputs": [
    {
     "name": "stderr",
     "output_type": "stream",
     "text": [
      "C:\\Users\\HOME\\AppData\\Local\\Temp\\ipykernel_22468\\2961833126.py:1: SettingWithCopyWarning: \n",
      "A value is trying to be set on a copy of a slice from a DataFrame.\n",
      "Try using .loc[row_indexer,col_indexer] = value instead\n",
      "\n",
      "See the caveats in the documentation: https://pandas.pydata.org/pandas-docs/stable/user_guide/indexing.html#returning-a-view-versus-a-copy\n",
      "  mov['tags']=mov['tags'].apply(base_form)\n"
     ]
    }
   ],
   "source": [
    "mov['tags']=mov['tags'].apply(base_form)"
   ]
  },
  {
   "cell_type": "code",
   "execution_count": 59,
   "id": "14accdbb-ce91-4834-83b2-eb081b25b152",
   "metadata": {},
   "outputs": [
    {
     "data": {
      "text/plain": [
       "'in the 22nd century, a paraplegic marine be dispatch to the moon pandora on a unique mission, but become tear between follow order and protect an alien civilization. action adventure fantasy sciencefiction cultureclash future spacewar spacecolony society spacetravel futuristic romance space alien tribe alienplanet cgi marine soldier battle loveaffair antiwar powerrelations mindandsoul 3d samworthington zoesaldana sigourneyweaver jamescameron'"
      ]
     },
     "execution_count": 59,
     "metadata": {},
     "output_type": "execute_result"
    }
   ],
   "source": [
    "mov['tags'][0]"
   ]
  },
  {
   "cell_type": "code",
   "execution_count": 60,
   "id": "e279c5f1-f2ad-4368-8104-9916e4c954df",
   "metadata": {
    "scrolled": true
   },
   "outputs": [],
   "source": [
    "# from sklearn.feature_extraction.text import CountVectorizer\n",
    "# cv=CountVectorizer(max_features=5000,stop_words='english')#create an object of countvectorizer #punctuation mark are removed automatically in tokenization process"
   ]
  },
  {
   "cell_type": "code",
   "execution_count": 61,
   "id": "ca70730c-d331-4993-b66e-2900e4745042",
   "metadata": {},
   "outputs": [],
   "source": [
    "from sklearn.feature_extraction.text import TfidfVectorizer\n",
    "cv=TfidfVectorizer(max_features=5000,stop_words='english')#create an object of countvectorizer"
   ]
  },
  {
   "cell_type": "code",
   "execution_count": 62,
   "id": "bd052d20-ebaa-4643-91fb-afe6d603cb53",
   "metadata": {},
   "outputs": [],
   "source": [
    "vec=cv.fit_transform(mov['tags']).toarray()#toarray() used to convert the sparse matrix into dense matrix"
   ]
  },
  {
   "cell_type": "code",
   "execution_count": 63,
   "id": "a9632030-f4be-4738-88b9-61f0248bc98f",
   "metadata": {},
   "outputs": [
    {
     "data": {
      "text/plain": [
       "array([[0., 0., 0., ..., 0., 0., 0.],\n",
       "       [0., 0., 0., ..., 0., 0., 0.],\n",
       "       [0., 0., 0., ..., 0., 0., 0.],\n",
       "       ...,\n",
       "       [0., 0., 0., ..., 0., 0., 0.],\n",
       "       [0., 0., 0., ..., 0., 0., 0.],\n",
       "       [0., 0., 0., ..., 0., 0., 0.]])"
      ]
     },
     "execution_count": 63,
     "metadata": {},
     "output_type": "execute_result"
    }
   ],
   "source": [
    "vec"
   ]
  },
  {
   "cell_type": "code",
   "execution_count": 64,
   "id": "c697cb63-780f-4a67-98bc-575694f6e9de",
   "metadata": {},
   "outputs": [
    {
     "data": {
      "text/plain": [
       "array([0., 0., 0., ..., 0., 0., 0.])"
      ]
     },
     "execution_count": 64,
     "metadata": {},
     "output_type": "execute_result"
    }
   ],
   "source": [
    "vec[0]"
   ]
  },
  {
   "cell_type": "code",
   "execution_count": 65,
   "id": "aee4802a-834a-43da-b3db-15968b4d74a7",
   "metadata": {},
   "outputs": [],
   "source": [
    "l=cv.get_feature_names_out()"
   ]
  },
  {
   "cell_type": "code",
   "execution_count": 66,
   "id": "83457896-e797-4c4b-b52e-91df5fafa4db",
   "metadata": {},
   "outputs": [
    {
     "name": "stdout",
     "output_type": "stream",
     "text": [
      "['000', '007', '10', '100', '11', '12', '13', '14', '15', '16', '17', '17th', '18', '18th', '18thcentury', '19', '1930s', '1940s', '1944', '1950', '1950s', '1960s', '1970s', '1971', '1974', '1976', '1980', '1980s', '1985', '1990s', '1999', '19th', '19thcentury', '20', '200', '2003', '2009', '20th', '21st', '23', '24', '25', '30', '300', '3d', '40', '50', '500', '60', '60s', '70', '70s', 'aaron', 'aaroneckhart', 'abandon', 'abduct', 'abigailbreslin', 'abilities', 'ability', 'able', 'aboard', 'abuse', 'abusive', 'academic', 'academy', 'accept', 'access', 'accident', 'accidental', 'accidentally', 'acclaim', 'accompany', 'accomplish', 'account', 'accountant', 'accuse', 'ace', 'achieve', 'act', 'action', 'actionhero', 'activist', 'activities', 'activity', 'actor', 'actors', 'actress', 'actual', 'actually', 'adam', 'adams', 'adamsandler', 'adamshankman', 'adapt', 'adaptation', 'add', 'addict', 'addiction', 'adjust', 'admit', 'adolescence', 'adolescent', 'adopt', 'adoption', 'adrienbrody', 'adult', 'adultanimation', 'adultery', 'adulthood', 'adults', 'advance', 'advantage', 'adventure', 'adventures', 'advertise', 'advice', 'affair', 'affairs', 'affect', 'affection', 'affections', 'afghanistan', 'africa', 'african', 'africanamerican', 'aftercreditsstinger', 'afterlife', 'aftermath', 'age', 'aged', 'agedifference', 'agency', 'agenda', 'agent', 'agents', 'aggressive', 'ago', 'agree', 'ahead', 'aid', 'aidanquinn', 'ail', 'aim', 'air', 'airplane', 'airplanecrash', 'airport', 'aka', 'al', 'alabama', 'alan', 'alaska', 'albert', 'alcatraz', 'alcohol', 'alcoholic', 'alcoholism', 'alecbaldwin', 'alex', 'alexkendrick', 'alfredhitchcock', 'alfredmolina', 'ali', 'alice', 'alien', 'alieninvasion', 'alienlife', 'alienplanet', 'aliens', 'alike', 'alive', 'allen', 'alliance', 'allow', 'ally', 'alongside', 'alpacino', 'alpha', 'alter', 'alternate', 'alternative', 'alyssa', 'alzheimer', 'amanda', 'amandapeet', 'amandaseyfried', 'amateur', 'amaze', 'amazon', 'ambassador', 'ambition', 'ambitious', 'ambulance', 'ambush', 'america', 'american', 'americanabroad', 'americancivilwar', 'americanfootball', 'americanfootballplayer', 'americans', 'amid', 'amidst', 'amnesia', 'amp', 'amsterdam', 'amuse', 'amusement', 'amusementpark', 'amy', 'amyadams', 'amysmart', 'ana', 'anakin', 'analyst', 'anarchiccomedy', 'ancient', 'ancientrome', 'ancientworld', 'anderson', 'andiemacdowell', 'andrew', 'android', 'andy', 'andygarcía', 'angel', 'angela', 'angelabassett', 'angeles', 'angelinajolie', 'angels', 'anger', 'anglee', 'angry', 'animal', 'animalattack', 'animalhorror', 'animals', 'animate', 'animation', 'anime', 'anjelicahuston', 'ann', 'anna', 'annabelle', 'annafaris', 'annakendrick', 'anne', 'annehathaway', 'annemoss', 'annettebening', 'annie', 'anniversary', 'announce', 'annual', 'anonymity', 'answer', 'ant', 'antarctic', 'anthology', 'anthony', 'anthonyanderson', 'anthonyhopkins', 'anthonymackie', 'anthropomorphism', 'anti', 'antic', 'antihero', 'antoinefuqua', 'antoniobanderas', 'antonyelchin', 'apart', 'apartheid', 'apartment', 'ape', 'apocalypse', 'apocalyptic', 'apparent', 'apparently', 'appear', 'apple', 'appoint', 'appreciate', 'apprentice', 'approach', 'april', 'aquarium', 'arab', 'arch', 'archaeologist', 'archeology', 'archer', 'architect', 'arctic', 'area', 'aren', 'arena', 'argument', 'arise', 'aristocrat', 'arm', 'armor', 'army', 'arnold', 'arnoldschwarzenegger', 'arrange', 'arrangedmarriage', 'arrangement', 'arrest', 'arrival', 'arrive', 'arrogant', 'art', 'arthur', 'article', 'artificial', 'artificialintelligence', 'artist', 'artistic', 'artists', 'arts', 'ash', 'ashley', 'ashleyjudd', 'ashtonkutcher', 'asia', 'asian', 'aside', 'ask', 'aspirations', 'aspire', 'assassin', 'assassinate', 'assassination', 'assassins', 'assault', 'assemble', 'assign', 'assignment', 'assist', 'assistant', 'associate', 'assume', 'asteroid', 'astronaut', 'astronauts', 'asylum', 'atheist', 'athlete', 'atlantic', 'atomicbomb', 'attack', 'attacks', 'attempt', 'attempttoescape', 'attend', 'attention', 'attic', 'attitude', 'attorney', 'attract', 'attraction', 'attractive', 'audience', 'audiences', 'audition', 'august', 'aunt', 'austin', 'australia', 'australian', 'author', 'authorities', 'authority', 'autism', 'auto', 'automobileracing', 'avenge', 'average', 'avoid', 'await', 'awake', 'awaken', 'award', 'away', 'awry', 'ax', 'babe', 'baby', 'bachelor', 'backdrop', 'background', 'bad', 'badly', 'bag', 'bahamas', 'bail', 'balance', 'ball', 'ballet', 'balloon', 'baltimore', 'ban', 'band', 'bandits', 'bangkok', 'banish', 'bank', 'banker', 'bankrobber', 'bankrobbery', 'bar', 'barbrastreisand', 'barely', 'bargain', 'barn', 'barney', 'baron', 'barry', 'barrylevinson', 'barrysonnenfeld', 'base', 'baseball', 'based', 'basedoncomicbook', 'basedongraphicnovel', 'basedonnovel', 'basedonplay', 'basedonstagemusical', 'basedontrueevents', 'basedontruestory', 'basedontvseries', 'basedonvideogame', 'basedonyoungadultnovel', 'basement', 'basketball', 'bat', 'batman', 'battle', 'battlefield', 'bay', 'beach', 'bear', 'beard', 'beast', 'beasts', 'beat', 'beautiful', 'beautifulwoman', 'beauty', 'becky', 'becominganadult', 'bed', 'bedroom', 'bee', 'beer', 'befriend', 'begin', 'begins', 'behavior', 'beings', 'belief', 'beliefs', 'believe', 'bell', 'belong', 'beloved', 'ben', 'benaffleck', 'bend', 'beneath', 'benefit', 'benfoster', 'beniciodeltoro', 'benjamin', 'benjaminbratt', 'benkingsley', 'bennett', 'benstiller', 'berlin', 'best', 'bestfriend', 'bestfriendsinlove', 'bet', 'beth', 'betray', 'betrayal', 'bettemidler', 'better', 'betty', 'beverly', 'bible', 'bid', 'big', 'bigger', 'biggest', 'bike', 'biker', 'bikers', 'bikini', 'billhader', 'billionaire', 'billmurray', 'billnighy', 'billpaxton', 'billpullman', 'billy', 'billybobthornton', 'billycrudup', 'billycrystal', 'bind', 'biography', 'bird', 'birth', 'birthday', 'bisexual', 'bishop', 'bite', 'bitter', 'bizarre', 'black', 'blackmagic', 'blackmail', 'blackpeople', 'blacksmith', 'blade', 'blame', 'blend', 'blind', 'bliss', 'blizzard', 'block', 'blonde', 'blood', 'bloodsplatter', 'bloodthirsty', 'bloody', 'blow', 'blue', 'board', 'boardingschool', 'boat', 'bob', 'bobby', 'bobbyfarrelly', 'bobhoskins', 'body', 'bodyguard', 'bold', 'bollywood', 'bomb', 'bond', 'bone', 'book', 'border', 'bore', 'boredom', 'born', 'boss', 'boston', 'botch', 'boundaries', 'bounty', 'bountyhunter', 'bourne', 'box', 'boxer', 'boy', 'boyfriend', 'boys', 'bradleycooper', 'bradpitt', 'brain', 'brainwash', 'brand', 'brandon', 'brave', 'bravery', 'brazil', 'brazilian', 'break', 'breakdown', 'breast', 'breed', 'brendanfraser', 'brendangleeson', 'brent', 'brettratner', 'brian', 'briandepalma', 'bride', 'bridesmaid', 'bridge', 'brief', 'brielarson', 'brien', 'bright', 'brilliant', 'bring', 'brink', 'britain', 'british', 'britishsecretservice', 'brittanymurphy', 'broadcast', 'broadway', 'broker', 'bronx', 'brooklyn', 'brooks', 'broom', 'brothel', 'brother', 'brotherbrotherrelationship', 'brothers', 'brothersisterrelationship', 'brown', 'bruce', 'brucegreenwood', 'brucewillis', 'brutal', 'brutality', 'brutally', 'bryansinger', 'buck', 'bud', 'buddies', 'buddy', 'buddycomedy', 'buddycop', 'budget', 'build', 'building', 'bully', 'bumble', 'bunch', 'bunker', 'bunny', 'burglar', 'burn', 'bury', 'bus', 'bush', 'business', 'businessman', 'bust', 'busy', 'butcher', 'butler', 'butt', 'button', 'buy', 'buzz', 'cabin', 'caesar', 'cage', 'cairo', 'cal', 'california', 'called', 'calvin', 'camcorder', 'camera', 'cameraman', 'cameras', 'camerondiaz', 'camp', 'campaign', 'campbell', 'campus', 'canada', 'canadian', 'cancer', 'candidate', 'candy', 'canine', 'cannibal', 'canuxploitation', 'capable', 'caper', 'capital', 'capitalism', 'capt', 'captain', 'captivate', 'captive', 'capture', 'car', 'caraccident', 'carchase', 'carcrash', 'card', 'care', 'career', 'carefree', 'caretaker', 'careymulligan', 'caribbean', 'carjourney', 'carl', 'carlagugino', 'carmen', 'carnival', 'carol', 'carolina', 'carrace', 'carrie', 'carry', 'cars', 'cartel', 'carter', 'cartoon', 'caryelwes', 'case', 'caseyaffleck', 'cash', 'casino', 'cast', 'castle', 'cat', 'cataclysm', 'catastrophe', 'catch', 'cateblanchett', 'catherinedeneuve', 'catherinekeener', 'catherinezeta', 'catholic', 'catholicism', 'cattle', 'cause', 'cavalry', 'cave', 'cavemen', 'celebrate', 'celebration', 'celebrity', 'cell', 'cellphone', 'cemetery', 'center', 'central', 'centuries', 'century', 'ceo', 'ceremony', 'certain', 'chad', 'chain', 'chainsaw', 'challenge', 'chamber', 'champion', 'championship', 'chance', 'change', 'changed', 'changes', 'changing', 'channingtatum', 'chaos', 'chaotic', 'chapter', 'character', 'characters', 'charge', 'charismatic', 'charles', 'charlie', 'charliesheen', 'charlizetheron', 'charlotte', 'charm', 'chart', 'chase', 'chauffeur', 'chazzpalminteri', 'cheat', 'check', 'cheerleader', 'chef', 'chemical', 'cher', 'chevychase', 'chicago', 'chicken', 'chief', 'child', 'childabuse', 'childhero', 'childhood', 'childprodigy', 'children', 'chill', 'china', 'chinese', 'chip', 'chiwetelejiofor', 'chloe', 'chloëgracemoretz', 'chloësevigny', 'chocolate', 'choice', 'choices', 'choose', 'chowyun', 'chris', 'chriscolumbus', 'chriscooper', 'chrisevans', 'chrishemsworth', 'chrisklein', 'chrispine', 'chrisrock', 'christ', 'christian', 'christianbale', 'christianity', 'christianslater', 'christinaapplegate', 'christinaricci', 'christine', 'christmas', 'christmasparty', 'christmastree', 'christopher', 'christopherlambert', 'christopherlloyd', 'christophernolan', 'christopherplummer', 'christopherwalken', 'christophwaltz', 'chrisweitz', 'chronicle', 'chuck', 'church', 'cia', 'ciaránhinds', 'cigarettesmoking', 'cillianmurphy', 'cindy', 'cinema', 'circle', 'circuit', 'circumstances', 'circus', 'cities', 'citizens', 'city', 'civil', 'civilian', 'civilization', 'civilwar', 'claim', 'claire', 'clairedanes', 'claireforlani', 'clan', 'clark', 'clash', 'class', 'classdifferences', 'classic', 'classmate', 'classmates', 'classroom', 'claudevandamme', 'clay', 'clean', 'clear', 'clerk', 'client', 'clients', 'climate', 'climb', 'clinteastwood', 'clique', 'cliveowen', 'clock', 'clone', 'close', 'closer', 'cloud', 'clown', 'club', 'clue', 'clueless', 'clutch', 'coach', 'coast', 'cocaine', 'cocky', 'cod', 'code', 'cody', 'coffin', 'cohen', 'col', 'cold', 'coldwar', 'cole', 'colin', 'colinfarrell', 'colinfirth', 'collapse', 'colleague', 'colleagues', 'collect', 'collection', 'collector', 'college', 'collide', 'collins', 'collision', 'colombia', 'colonel', 'colony', 'color', 'colorado', 'colorful', 'coma', 'combat', 'combination', 'combine', 'come', 'comeback', 'comedian', 'comedic', 'comedy', 'comet', 'comfort', 'comic', 'comics', 'coming', 'comingofage', 'comingout', 'command', 'commander', 'commercial', 'commit', 'commitment', 'common', 'communicate', 'communication', 'communist', 'community', 'companion', 'company', 'compete', 'competition', 'competitive', 'complete', 'completely', 'complex', 'complicate', 'complications', 'composer', 'computer', 'computervirus', 'conan', 'concern', 'concert', 'conclusion', 'condition', 'conduct', 'confederate', 'confession', 'confidence', 'confident', 'conflict', 'confront', 'confuse', 'congress', 'conman', 'connect', 'connecticut', 'connection', 'connections', 'connell', 'connie', 'connor', 'conquer', 'conscience', 'consequences', 'conservative', 'consider', 'conspiracy', 'conspire', 'constant', 'constantly', 'construction', 'consume', 'contact', 'contain', 'contemporary', 'contend', 'contest', 'continue', 'contract', 'control', 'controversial', 'convention', 'converge', 'convict', 'convince', 'cook', 'cool', 'cooper', 'cooperate', 'cop', 'cope', 'cops', 'core', 'corner', 'corporate', 'corporation', 'corpse', 'corrupt', 'corruption', 'cost', 'costume', 'couldn', 'count', 'countess', 'countless', 'countries', 'country', 'countryhouse', 'countrymusic', 'countryside', 'county', 'coup', 'couple', 'courage', 'courageous', 'course', 'court', 'courtcase', 'courteneycox', 'courtroom', 'cousin', 'cover', 'covert', 'covet', 'cow', 'cowardliness', 'cowboy', 'crab', 'crack', 'craft', 'craig', 'crane', 'crash', 'crave', 'crazy', 'create', 'creation', 'creator', 'creature', 'creatures', 'credit', 'creepy', 'crew', 'crime', 'crimefighter', 'crimes', 'criminal', 'criminals', 'crisis', 'critical', 'crocodile', 'crook', 'cross', 'crossdressing', 'crossed', 'crowd', 'crown', 'crucifixion', 'cruel', 'cruelty', 'cruise', 'crusade', 'crush', 'crystal', 'cuba', 'cubagoodingjr', 'culminate', 'cult', 'cultfilm', 'cultural', 'culture', 'cultureclash', 'cunning', 'cup', 'cure', 'curiosity', 'curious', 'current', 'curse', 'curtishanson', 'custody', 'customers', 'cut', 'cuttingthecord', 'cyberpunk', 'cyborg', 'cynical', 'dad', 'daily', 'dakotafanning', 'dale', 'damage', 'damon', 'dan', 'danaykroyd', 'dance', 'dancer', 'danger', 'dangerous', 'dangers', 'daniel', 'danielcraig', 'danielday', 'danielradcliffe', 'danny', 'dannyboyle', 'dannydevito', 'dannyglover', 'darcy', 'dare', 'dark', 'darkcomedy', 'darkest', 'darkness', 'darylhannah', 'dash', 'date', 'daughter', 'daughters', 'dave', 'david', 'davidarquette', 'davidcronenberg', 'davidduchovny', 'davidfincher', 'davidgordongreen', 'davidmorse', 'davido', 'davidschwimmer', 'davidspade', 'davidthewlis', 'davis', 'dawn', 'daxshepard', 'day', 'daydream', 'days', 'dc', 'dccomics', 'dea', 'dead', 'deadliest', 'deadly', 'deaf', 'deal', 'dealer', 'dealers', 'dean', 'death', 'deathofafriend', 'deathoffather', 'deathpenalty', 'deaths', 'debt', 'debut', 'decade', 'decades', 'decapitation', 'decease', 'deceit', 'deception', 'decide', 'decision', 'decisions', 'declare', 'decline', 'dedicate', 'deeds', 'deep', 'deeper', 'deeply', 'defeat', 'defend', 'defense', 'defy', 'deliver', 'delivery', 'delusion', 'demand', 'demimoore', 'demon', 'demonic', 'demonicpossession', 'demons', 'deniserichards', 'denmark', 'dennis', 'dennisdugan', 'dennishopper', 'dennisquaid', 'dentist', 'deny', 'denzelwashington', 'department', 'depict', 'depress', 'depression', 'depths', 'deputy', 'derange', 'derek', 'derekluke', 'descend', 'desert', 'design', 'desire', 'desolate', 'despair', 'desperate', 'desperately', 'desperation', 'despite', 'destination', 'destine', 'destiny', 'destroy', 'destroyed', 'destruction', 'destructive', 'detective', 'detectives', 'detention', 'determination', 'determine', 'detroit', 'devastate', 'develop', 'developer', 'device', 'devil', 'devious', 'devise', 'devote', 'diabolical', 'diagnose', 'dialogue', 'diamond', 'diane', 'dianekeaton', 'dianekruger', 'dianelane', 'diary', 'dick', 'dictator', 'didn', 'die', 'died', 'diego', 'dies', 'differences', 'different', 'difficult', 'dig', 'dignity', 'diner', 'dinner', 'dinosaur', 'dinosaurs', 'dire', 'direct', 'direction', 'director', 'dirt', 'dirty', 'dirtycop', 'disable', 'disappear', 'disappearance', 'disappears', 'disaster', 'disastrous', 'discover', 'discovery', 'disease', 'disfigurement', 'disgrace', 'disguise', 'dishonesty', 'disillusion', 'disney', 'disorder', 'dispatch', 'disrupt', 'distant', 'district', 'distrust', 'disturb', 'ditch', 'diva', 'dive', 'divide', 'division', 'divorce', 'dj', 'dna', 'doc', 'doctor', 'document', 'documentary', 'dodge', 'doesn', 'dog', 'doll', 'dollar', 'dollars', 'dolphin', 'dolphlundgren', 'domination', 'don', 'donaldpetrie', 'donaldsutherland', 'doncheadle', 'donnell', 'doom', 'doomsday', 'door', 'doorstep', 'doppelganger', 'dorothy', 'double', 'doublelife', 'doubt', 'doug', 'douglas', 'dougliman', 'dr', 'dracula', 'drag', 'dragon', 'drama', 'dramatic', 'draw', 'dream', 'dreams', 'dress', 'drewbarrymore', 'drift', 'drifter', 'drink', 'drinking', 'drive', 'driver', 'drone', 'drop', 'drown', 'drug', 'drugabuse', 'drugaddiction', 'drugdealer', 'druglord', 'drugs', 'drugsmuggle', 'drugtraffic', 'druguse', 'drunken', 'du', 'dualidentity', 'duck', 'dude', 'duel', 'duke', 'dump', 'duo', 'duringcreditsstinger', 'dustinhoffman', 'dutch', 'duty', 'dwarves', 'dwaynejohnson', 'dyinganddeath', 'dylan', 'dynamic', 'dynasty', 'dysfunctional', 'dysfunctionalfamily', 'dystopia', 'dystopicfuture', 'eager', 'earlier', 'early', 'earn', 'earth', 'earthquake', 'easily', 'east', 'easy', 'eat', 'eating', 'eccentric', 'economic', 'economics', 'economy', 'eddie', 'eddiegriffin', 'eddiemurphy', 'edgar', 'edge', 'edharris', 'editor', 'education', 'edward', 'edwardburns', 'edwardnorton', 'edwardzwick', 'effect', 'effort', 'efforts', 'egg', 'ego', 'egypt', 'egyptian', 'el', 'elaborate', 'elderly', 'election', 'elements', 'elephant', 'eliaskoteas', 'elijahwood', 'eliminate', 'elisabethshue', 'elite', 'elizabeth', 'elizabethbanks', 'ella', 'ellenburstyn', 'ellenpage', 'ellie', 'elliot', 'elliott', 'ellis', 'elude', 'elusive', 'elves', 'elvis', 'embark', 'embassy', 'embroil', 'emerge', 'emergency', 'emilehirsch', 'emily', 'emilyblunt', 'emilymortimer', 'emilywatson', 'emma', 'emmaroberts', 'emmastone', 'emmathompson', 'emmawatson', 'emotional', 'emotionally', 'emotions', 'emperor', 'empire', 'employ', 'employee', 'employees', 'employer', 'enable', 'encounter', 'encourage', 'end', 'endless', 'endoftheworld', 'endure', 'enemies', 'enemy', 'energy', 'enforcement', 'engage', 'engagement', 'engineer', 'england', 'english', 'enigmatic', 'enjoy', 'enlist', 'enormous', 'ensemblecast', 'ensue', 'ensues', 'ensure', 'entangle', 'enter', 'enterprise', 'entertain', 'entertainer', 'entire', 'entirely', 'entity', 'environment', 'environmental', 'epic', 'epidemic', 'episode', 'era', 'eric', 'ericbana', 'erin', 'ernest', 'eroticism', 'erupt', 'escapade', 'escape', 'escapefromprison', 'escort', 'especially', 'espionage', 'establish', 'establishment', 'estate', 'estrange', 'eternal', 'ethan', 'ethanhawke', 'eugenelevy', 'europe', 'european', 'eva', 'evacuation', 'evade', 'evamendes', 'evanrachelwood', 'eve', 'event', 'events', 'eventually', 'everybody', 'everyday', 'evidence', 'evil', 'evolution', 'evolve', 'ewanmcgregor', 'ex', 'exact', 'exactly', 'examine', 'exchange', 'excite', 'exclusive', 'execute', 'execution', 'executive', 'exercise', 'exile', 'exist', 'existence', 'existentialism', 'exorcism', 'exotic', 'exoticisland', 'expect', 'expectations', 'expected', 'expedition', 'experience', 'experiment', 'expert', 'explain', 'explode', 'exploit', 'explore', 'explorers', 'explosion', 'explosive', 'expose', 'extend', 'extra', 'extramaritalaffair', 'extraordinary', 'extraterrestrial', 'extraterrestrialtechnology', 'extreme', 'extremely', 'extremeviolence', 'eye', 'eyes', 'face', 'facility', 'fact', 'factions', 'factory', 'fade', 'fail', 'fairy', 'fairytale', 'faith', 'fake', 'fall', 'fallinginlove', 'falseidentity', 'falselyaccused', 'fame', 'famed', 'families', 'family', 'familyconflict', 'familyrelationships', 'famkejanssen', 'famous', 'fan', 'fangvamp', 'fans', 'fantastic', 'fantasy', 'fantasyworld', 'far', 'farewell', 'farm', 'farmer', 'farmhouse', 'fascinate', 'fashion', 'fast', 'faster', 'fat', 'fatal', 'fate', 'fateful', 'father', 'fatherdaughterrelationship', 'fathersonrelationship', 'favor', 'favorite', 'fbi', 'fbiagent', 'fear', 'fearless', 'fearsome', 'feature', 'federal', 'federation', 'feed', 'feel', 'feelings', 'feet', 'fellow', 'female', 'femalecorpse', 'femalefriendship', 'femalenudity', 'femaleprotagonist', 'fence', 'fend', 'festival', 'feud', 'fi', 'fiancee', 'fiancé', 'fiancée', 'fiction', 'fictional', 'fictionalplace', 'field', 'fierce', 'fifth', 'fight', 'fighter', 'fighters', 'figure', 'file', 'filled', 'film', 'filmdirector', 'filmmaker', 'filmmakers', 'filmmaking', 'filmproducer', 'films', 'final', 'finale', 'finally', 'finance', 'financial', 'fine', 'finish', 'finn', 'firemen', 'fireworks', 'firm', 'firsttime', 'fish', 'fisherman', 'fishoutofwater', 'fistfight', 'fit', 'fix', 'flame', 'flash', 'flashback', 'flat', 'fledgling', 'flee', 'flesh', 'flight', 'fling', 'flint', 'flirt', 'flood', 'florida', 'flower', 'fly', 'flyingsaucer', 'focus', 'foil', 'foley', 'folk', 'follow', 'food', 'foot', 'footage', 'football', 'footchase', 'forbid', 'forbiddenlove', 'force', 'forces', 'ford', 'foreign', 'forest', 'forestwhitaker', 'forever', 'forge', 'forget', 'forgiveness', 'form', 'formidable', 'formula', 'fort', 'fortune', 'fortuneteller', 'forward', 'foster', 'foundfootage', 'fourth', 'fox', 'frame', 'france', 'franchise', 'francis', 'francisco', 'francisfordcoppola', 'frank', 'frankcoraci', 'frankenstein', 'frankie', 'frankoz', 'fraternity', 'fraud', 'freak', 'fred', 'freddieprinzejr', 'freddy', 'free', 'freedom', 'freeman', 'freeze', 'french', 'fresh', 'freshman', 'friend', 'friendly', 'friends', 'friendship', 'frighten', 'frog', 'frontier', 'frustrate', 'fu', 'fuel', 'fugitive', 'fulfill', 'fully', 'fun', 'fund', 'funeral', 'funny', 'furious', 'future', 'futuristic', 'fword', 'gabrielbyrne', 'gain', 'galaxy', 'gamble', 'gambler', 'game', 'games', 'gandhi', 'gang', 'gangs', 'gangster', 'gangsterboss', 'gangsters', 'gangwar', 'garage', 'garden', 'garfield', 'garrymarshall', 'gary', 'garygray', 'garyoldman', 'garysinise', 'gas', 'gasstation', 'gate', 'gather', 'gay', 'gayinterest', 'gayrelationship', 'genehackman', 'general', 'generation', 'generations', 'genetic', 'genetically', 'genetics', 'genius', 'genocide', 'genre', 'gentle', 'geoffreyrush', 'george', 'georgea', 'georgeclooney', 'georgemiller', 'georgia', 'gerardbutler', 'german', 'germans', 'germany', 'getaway', 'ghetto', 'ghost', 'giant', 'giantrobot', 'giants', 'gift', 'gig', 'girl', 'girlfriend', 'girlfriends', 'girls', 'gladiator', 'glamorous', 'glass', 'glennclose', 'global', 'globe', 'glory', 'goal', 'god', 'gods', 'gold', 'golden', 'golf', 'gone', 'good', 'goodvsevil', 'goons', 'gordon', 'gore', 'goreverbinski', 'gorgeous', 'gorilla', 'gossip', 'gotham', 'gothamcity', 'government', 'governor', 'grace', 'grade', 'gradually', 'graduate', 'graduation', 'grand', 'grandfather', 'grandmother', 'granny', 'grant', 'graphic', 'grasp', 'grave', 'great', 'greater', 'greatest', 'greece', 'greed', 'greedy', 'greek', 'green', 'greg', 'gregkinnear', 'gregorypeck', 'grief', 'grieve', 'griffin', 'grim', 'grind', 'grip', 'grisly', 'gritty', 'ground', 'group', 'groupoffriends', 'grow', 'growingup', 'grown', 'gruesome', 'guard', 'guardian', 'guerrilla', 'guest', 'guests', 'guidance', 'guide', 'guilt', 'guilty', 'guitar', 'gun', 'gunfight', 'gunman', 'gunslinger', 'guru', 'gusvansant', 'guy', 'guypearce', 'guyritchie', 'guys', 'gwynethpaltrow', 'gym', 'gypsy', 'hack', 'hacker', 'hair', 'haleyjoelosment', 'half', 'hall', 'halleberry', 'halloween', 'hallucination', 'han', 'hand', 'handle', 'hands', 'handsome', 'handtohandcombat', 'hang', 'hannah', 'hansel', 'hapless', 'happen', 'happens', 'happily', 'happiness', 'happy', 'hara', 'harbor', 'hard', 'harder', 'harlem', 'harmony', 'harold', 'haroldramis', 'harriet', 'harris', 'harrison', 'harrisonford', 'harrow', 'harry', 'harsh', 'hart', 'harvard', 'harvey', 'harveykeitel', 'hasn', 'hat', 'hatch', 'hate', 'hatred', 'haunt', 'hauntedhouse', 'haven', 'havoc', 'hawaii', 'hawkins', 'haydenchristensen', 'haze', 'head', 'headline', 'heal', 'health', 'hear', 'heart', 'heartattack', 'heartbreak', 'hearted', 'hearts', 'heat', 'heather', 'heathergraham', 'heathledger', 'heaven', 'heavily', 'heavy', 'heavymetal', 'heir', 'heiress', 'heist', 'helen', 'helenabonhamcarter', 'helenhunt', 'helenmirren', 'helicopter', 'hell', 'help', 'henchmen', 'henry', 'hero', 'heroes', 'heroic', 'heroin', 'heroism', 'hiddencamera', 'hide', 'high', 'higher', 'highest', 'highlands', 'highly', 'highschool', 'highschoolsports', 'highschoolstudent', 'highway', 'hijack', 'hike', 'hilarious', 'hilaryduff', 'hilaryswank', 'hill', 'himalaya', 'hip', 'hippie', 'hire', 'historic', 'historical', 'historicalfigure', 'history', 'hit', 'hitch', 'hitchhiker', 'hitman', 'ho', 'hobbit', 'hockey', 'hold', 'hole', 'holiday', 'holly', 'hollywood', 'holmes', 'holy', 'home', 'homeinvasion', 'homeland', 'homeless', 'homelessperson', 'hometown', 'homicidal', 'homicide', 'homophobia', 'homosexuality', 'honey', 'honeymoon', 'hong', 'hongkong', 'honor', 'hood', 'hoodlum', 'hook', 'hop', 'hope', 'hopedavis', 'hopelessly', 'hopper', 'horrible', 'horrific', 'horrify', 'horror', 'horrors', 'horse', 'horsebackriding', 'horserace', 'hospital', 'host', 'hostage', 'hostile', 'hostility', 'hot', 'hotel', 'hotelroom', 'hotshot', 'hour', 'hours', 'house', 'household', 'housekeeper', 'housewife', 'howard', 'hud', 'huge', 'hughes', 'hughgrant', 'hughjackman', 'human', 'humananimalrelationship', 'humanity', 'humankind', 'humans', 'humiliate', 'humiliation', 'humor', 'hundreds', 'hunger', 'hungry', 'hunt', 'hunter', 'hunters', 'hurricane', 'hurt', 'husband', 'hustler', 'hypnosis', 'hyun', 'ianmckellen', 'ice', 'icecube', 'iconic', 'idea', 'idealistic', 'ideas', 'identities', 'identity', 'idol', 'idyllic', 'ignite', 'ignore', 'ii', 'iii', 'il', 'ill', 'illegal', 'illegaldrugs', 'illegalimmigration', 'illegalprostitution', 'illness', 'image', 'imaginary', 'imagination', 'imagine', 'imagined', 'imax', 'immediately', 'immense', 'immigrant', 'immigrants', 'immigration', 'immortal', 'immortality', 'impact', 'imperial', 'important', 'impossible', 'impostor', 'imprison', 'imprisonment', 'inadvertently', 'incest', 'incident', 'include', 'increase', 'increasingly', 'incredible', 'independence', 'independent', 'independentfilm', 'india', 'indian', 'indiana', 'indianlead', 'indians', 'indie', 'individual', 'industry', 'inexplicably', 'infamous', 'infant', 'infect', 'infection', 'infidelity', 'infiltrate', 'influence', 'informant', 'information', 'inhabit', 'inhabitants', 'inherit', 'inheritance', 'initially', 'initiate', 'injure', 'injury', 'injustice', 'inmates', 'inner', 'innocence', 'innocent', 'insane', 'insanity', 'inside', 'insist', 'insomnia', 'inspector', 'inspiration', 'inspire', 'installment', 'instant', 'instantly', 'instead', 'institution', 'instructor', 'insurance', 'intelligence', 'intelligent', 'intend', 'intense', 'intent', 'intentions', 'intergalactic', 'intern', 'international', 'internet', 'interrogation', 'interspeciesromance', 'intertwine', 'interview', 'intimate', 'intolerance', 'intrigue', 'introduce', 'invade', 'invaders', 'invasion', 'invent', 'invention', 'inventor', 'investigate', 'investigation', 'investigator', 'investment', 'invisible', 'invite', 'involve', 'iowa', 'ira', 'iran', 'iranian', 'iraq', 'iraqwar', 'ireland', 'irish', 'iron', 'island', 'isn', 'isolate', 'isolation', 'israel', 'israeli', 'issue', 'italian', 'italy', 'ivanreitman', 'jack', 'jackass', 'jackblack', 'jackie', 'jackiechan', 'jacknicholson', 'jackson', 'jacques', 'jadapinkettsmith', 'jade', 'jail', 'jake', 'jakegyllenhaal', 'jam', 'jamaica', 'james', 'jamescaan', 'jamescameron', 'jamesfranco', 'jamesivory', 'jamesmangold', 'jamesmarsden', 'jamesmcavoy', 'jameswan', 'jameswoods', 'jamie', 'jamiefoxx', 'jamieleecurtis', 'jane', 'janitor', 'japan', 'japanese', 'jaredleto', 'jason', 'jasonbateman', 'jasonbiggs', 'jasonlee', 'jasonschwartzman', 'jasonsegel', 'jasonstatham', 'javierbardem', 'jay', 'jaychandrasekhar', 'jayroach', 'jazz', 'jealous', 'jealousy', 'jean', 'jeanreno', 'jedi', 'jeff', 'jeffbridges', 'jeffdaniels', 'jeffgoldblum', 'jeffreywright', 'jennifer', 'jenniferaniston', 'jenniferconnelly', 'jennifergarner', 'jenniferjasonleigh', 'jenniferlawrence', 'jenniferlopez', 'jenniferlovehewitt', 'jenny', 'jeremyirons', 'jeremyrenner', 'jerry', 'jersey', 'jerusalem', 'jess', 'jesse', 'jessebradford', 'jesseeisenberg', 'jessica', 'jessicaalba', 'jessicabiel', 'jessicachastain', 'jesus', 'jesuschrist', 'jetli', 'jew', 'jewel', 'jewish', 'jigsaw', 'jill', 'jim', 'jimbroadbent', 'jimcarrey', 'jimcaviezel', 'jimmy', 'jin', 'joanallen', 'joancusack', 'joaquinphoenix', 'job', 'jobinterview', 'jock', 'jodiefoster', 'joe', 'joel', 'joelcoen', 'joeledgerton', 'joelschumacher', 'joepesci', 'joey', 'john', 'johnc', 'johncarpenter', 'johncusack', 'johngoodman', 'johnhurt', 'johnkrasinski', 'johnleguizamo', 'johnmalkovich', 'johnmctiernan', 'johnny', 'johnnydepp', 'johnnyknoxville', 'johnsingleton', 'johnson', 'johntravolta', 'johnturturro', 'johnwoo', 'join', 'jon', 'jonahhill', 'jonathan', 'jonathanfrakes', 'jonathanrhysmeyers', 'jones', 'jonfavreau', 'jonturteltaub', 'jonvoight', 'jordan', 'joseph', 'josephgordon', 'josh', 'joshbrolin', 'joshhartnett', 'joshhutcherson', 'journalism', 'journalist', 'journey', 'joy', 'jr', 'juan', 'judelaw', 'judge', 'judidench', 'julia', 'julian', 'juliannemoore', 'juliaroberts', 'juliastiles', 'julie', 'july', 'jump', 'jungle', 'junior', 'junkie', 'jurors', 'jury', 'just', 'justice', 'justinlong', 'justintimberlake', 'kansas', 'karaoke', 'karate', 'karen', 'karlurban', 'kat', 'kate', 'katebeckinsale', 'katebosworth', 'katehudson', 'katemara', 'katewinslet', 'katherine', 'katherineheigl', 'kathy', 'kathybates', 'katie', 'katieholmes', 'katniss', 'katy', 'kay', 'keanureeves', 'keiraknightley', 'kelly', 'kellypreston', 'ken', 'kennedy', 'kennethbranagh', 'kermit', 'kevin', 'kevinbacon', 'kevincostner', 'kevinhart', 'kevinjames', 'kevinkline', 'kevinsmith', 'kevinspacey', 'key', 'kgb', 'khan', 'kick', 'kid', 'kidnap', 'kidnapped', 'kidnappers', 'kids', 'kidsandfamily', 'kiefersutherland', 'kill', 'killed', 'killer', 'killerrobot', 'killers', 'kim', 'kimbasinger', 'kind', 'kindly', 'king', 'kingdom', 'kingpin', 'kirk', 'kirstendunst', 'kiss', 'kit', 'kitchen', 'knife', 'knight', 'knit', 'knock', 'know', 'knowledge', 'known', 'kong', 'korea', 'korean', 'kriskristofferson', 'kristenbell', 'kristenstewart', 'kristenwiig', 'kristinscottthomas', 'krueger', 'kung', 'kungfu', 'kurt', 'kurtrussell', 'kyle', 'la', 'lab', 'labor', 'laboratory', 'laced', 'lack', 'ladies', 'lady', 'ladykiller', 'lake', 'land', 'landscape', 'lane', 'language', 'lapd', 'large', 'larger', 'largest', 'larry', 'las', 'lasergun', 'lassehallström', 'lasvegas', 'late', 'later', 'latest', 'laugh', 'launch', 'laura', 'lauralinney', 'laurencefishburne', 'lavish', 'law', 'lawman', 'lawrence', 'laws', 'lawyer', 'laxative', 'lay', 'lazy', 'lead', 'leader', 'leaders', 'leadership', 'league', 'learn', 'leave', 'lee', 'legacy', 'legal', 'legend', 'legendary', 'legends', 'lenaheadey', 'leo', 'leon', 'leonardnimoy', 'leonardodicaprio', 'lesbian', 'lesbianrelationship', 'lesliemann', 'leslienielsen', 'lesson', 'lessons', 'let', 'lethal', 'letter', 'level', 'levitt', 'lewis', 'lgbt', 'li', 'liamneeson', 'liar', 'liberation', 'lie', 'lieutenant', 'lievschreiber', 'life', 'lifeanddeath', 'lifelong', 'lifestyle', 'lifetime', 'lift', 'light', 'lightning', 'like', 'lily', 'limit', 'lincoln', 'linda', 'lindsaylohan', 'line', 'lines', 'link', 'lion', 'lisa', 'lisakudrow', 'list', 'literally', 'literature', 'little', 'littleboy', 'live', 'liveactionandanimation', 'lives', 'living', 'll', 'loan', 'local', 'locals', 'locate', 'location', 'lock', 'logan', 'loganlerman', 'lola', 'london', 'londonengland', 'lone', 'loneliness', 'lonely', 'loner', 'lonewolf', 'long', 'longer', 'longtime', 'look', 'loop', 'loose', 'loosely', 'loot', 'lord', 'los', 'losangeles', 'lose', 'loser', 'loss', 'lossofbrother', 'lossofchild', 'lossoffamily', 'lossoffather', 'lossofhusband', 'lossoflover', 'lossofmother', 'lossofparents', 'lossofson', 'lost', 'lot', 'lottery', 'lou', 'louis', 'louisiana', 'lounge', 'lovable', 'love', 'loveatfirstsight', 'loveless', 'loveletter', 'loveofone', 'lover', 'lovers', 'loves', 'lovesickness', 'lovetriangle', 'loving', 'low', 'loyal', 'loyalty', 'lt', 'lucas', 'luck', 'lucky', 'lucy', 'lucyliu', 'luke', 'lukewilson', 'lure', 'lurk', 'lust', 'luxury', 'ma', 'machine', 'machinegun', 'macy', 'mad', 'madame', 'madea', 'madison', 'madness', 'madonna', 'mafia', 'magazine', 'maggie', 'magic', 'magical', 'magician', 'magnate', 'maid', 'mail', 'main', 'maine', 'maintain', 'major', 'make', 'maker', 'making', 'malcolm', 'malcolmd', 'male', 'malefemalerelationship', 'malefriendship', 'malenudity', 'malibu', 'mall', 'man', 'manage', 'manager', 'mandymoore', 'manhattan', 'manhunt', 'maniac', 'manipulate', 'manipulation', 'mankind', 'manner', 'mannered', 'mansion', 'manvsmachine', 'map', 'mar', 'marcforster', 'march', 'marcus', 'maria', 'mariabello', 'marie', 'marijuana', 'marine', 'marines', 'marisatomei', 'mark', 'market', 'markruffalo', 'markstrong', 'markwahlberg', 'marlonbrando', 'marlonwayans', 'marriage', 'marriagecrisis', 'marriageproposal', 'married', 'marriedcouple', 'marry', 'marshal', 'marshall', 'martha', 'martial', 'martialarts', 'martian', 'martin', 'martincampbell', 'martinfreeman', 'martinlawrence', 'martinscorsese', 'marty', 'marvelcinematicuniverse', 'marvelcomic', 'mary', 'marymccormack', 'mask', 'maskedkiller', 'mass', 'massacre', 'massive', 'massmurder', 'master', 'mastermind', 'masturbation', 'mat', 'match', 'mate', 'mathematician', 'mathematics', 'matrix', 'matt', 'mattdamon', 'mattdillon', 'matter', 'matthew', 'matthewbroderick', 'matthewlillard', 'matthewmcconaughey', 'maurice', 'maverick', 'max', 'maya', 'maybe', 'mayhem', 'mayor', 'maze', 'mccall', 'mcclane', 'mcphee', 'mean', 'meaning', 'meat', 'mechanic', 'media', 'medical', 'medication', 'medicine', 'medieval', 'meet', 'mega', 'megan', 'megryan', 'melbrooks', 'melgibson', 'melissa', 'melvin', 'member', 'members', 'memories', 'memory', 'memoryloss', 'men', 'menace', 'mental', 'mentalillness', 'mentally', 'mentallydisabled', 'mentor', 'mephisto', 'mercenaries', 'mercenary', 'merciless', 'mere', 'mermaid', 'merylstreep', 'message', 'met', 'metal', 'meteor', 'methods', 'metro', 'mexican', 'mexicanstandoff', 'mexico', 'mia', 'miami', 'michael', 'michaelangarano', 'michaelbay', 'michaelcaine', 'michaeldouglas', 'michaelfassbender', 'michaelj', 'michaelkeaton', 'michaelmoore', 'michaelshannon', 'michaelsheen', 'michelle', 'michellemonaghan', 'michellepfeiffer', 'michellerodriguez', 'michigan', 'mickey', 'mickeyrourke', 'mid', 'middle', 'middleages', 'middleeast', 'midlifecrisis', 'midnight', 'midst', 'midwest', 'mighty', 'mike', 'mikemyers', 'mikenewell', 'milakunis', 'mild', 'miles', 'military', 'millajovovich', 'miller', 'million', 'millionaire', 'millions', 'milo', 'mind', 'mindcontrol', 'miner', 'minions', 'minister', 'minnesota', 'minniedriver', 'minor', 'minute', 'minutes', 'miracle', 'miranda', 'mirror', 'misadventures', 'mischievous', 'miserable', 'misfit', 'misfits', 'misguide', 'mismatch', 'miss', 'missile', 'missing', 'missingperson', 'mission', 'missionary', 'missionofmurder', 'mississippi', 'missouri', 'mistake', 'mistakenidentity', 'mistakenly', 'mistress', 'mitch', 'mitchell', 'mix', 'mob', 'mobster', 'mobsters', 'mockumentary', 'model', 'modern', 'mole', 'molly', 'mom', 'moment', 'moments', 'money', 'monica', 'monk', 'monkey', 'monroe', 'monster', 'monsters', 'monstrous', 'montana', 'monte', 'month', 'months', 'montreal', 'moon', 'moonlight', 'moore', 'moral', 'morality', 'morganfreeman', 'morgue', 'mormon', 'morning', 'morris', 'morrischestnut', 'mortal', 'moscow', 'moses', 'mossad', 'motel', 'mother', 'motherdaughterrelationship', 'motherrole', 'mothersonrelationship', 'motion', 'motives', 'motley', 'motor', 'motorcycle', 'mount', 'mountain', 'mountains', 'mouse', 'movement', 'movie', 'movieinmovie', 'movies', 'moviestar', 'mr', 'mrs', 'multi', 'multiple', 'multiplestorylines', 'mumblecore', 'mumblegore', 'mummy', 'murder', 'murdered', 'murderer', 'murderhunt', 'murderous', 'murphy', 'murray', 'museum', 'music', 'musical', 'musicband', 'musician', 'musicians', 'muslim', 'mutant', 'mutants', 'mutate', 'mutation', 'mute', 'mutiny', 'mutual', 'myers', 'mysteries', 'mysterious', 'mysteriously', 'mystery', 'mystical', 'mythical', 'mythology', 'naive', 'nam', 'nancy', 'nanny', 'naomiwatts', 'narcotics', 'narnia', 'narration', 'nasa', 'nasty', 'natalie', 'natalieportman', 'nathan', 'nation', 'national', 'nations', 'native', 'nativeamerican', 'natural', 'naturaldisaster', 'naturally', 'nature', 'navigate', 'navy', 'navyseal', 'nazi', 'nazigermany', 'nazis', 'nba', 'neal', 'near', 'nearby', 'nearly', 'necessary', 'need', 'nefarious', 'negotiate', 'neighbor', 'neighborhood', 'neiljordan', 'nelson', 'nemesis', 'neo', 'nephew', 'nerd', 'nerdy', 'netherlands', 'network', 'neurotic', 'nevada', 'nevecampbell', 'new', 'newborn', 'newcomer', 'newfound', 'newidentity', 'newjersey', 'newlove', 'newly', 'newmexico', 'news', 'newspaper', 'newyear', 'newyork', 'newyorkcity', 'nialong', 'nice', 'nicholas', 'nick', 'nicknolte', 'nicolascage', 'nicole', 'nicolekidman', 'niece', 'night', 'nightclub', 'nightlife', 'nightmare', 'nightmares', 'nightshyamalan', 'nightstand', 'ninja', 'noah', 'noble', 'noir', 'non', 'normal', 'norman', 'north', 'northern', 'nose', 'note', 'notice', 'notorious', 'novel', 'novelist', 'nuclear', 'nuclearmissile', 'nudity', 'number', 'numberintitle', 'numerous', 'nun', 'nurse', 'nypd', 'object', 'obsess', 'obsessed', 'obsession', 'obsessive', 'obstacles', 'obtain', 'occult', 'occupy', 'occur', 'occurrences', 'ocean', 'odd', 'oddball', 'odds', 'odyssey', 'offer', 'office', 'officer', 'official', 'ohio', 'oil', 'old', 'older', 'oliver', 'oliverstone', 'olivia', 'oliviawilde', 'olympic', 'olympicgames', 'omar', 'ones', 'online', 'ontherun', 'open', 'opera', 'operate', 'operation', 'operative', 'opportunity', 'oppose', 'opposite', 'oppositesattract', 'orchestrate', 'orcs', 'order', 'ordinary', 'oregon', 'organization', 'organize', 'organizedcrime', 'original', 'origins', 'orlandobloom', 'orleans', 'orphan', 'orphanage', 'oscar', 'oscaraward', 'oscarisaac', 'otherworldly', 'outback', 'outbreak', 'outcast', 'outerspace', 'outlaw', 'outrageous', 'outside', 'outwit', 'overcome', 'overdose', 'overrun', 'overthrow', 'overwhelm', 'owenwilson', 'owl', 'owner', 'owners', 'oxford', 'oz', 'paced', 'pacific', 'pack', 'package', 'packed', 'pact', 'pageant', 'pain', 'painful', 'paint', 'painter', 'pair', 'pal', 'palace', 'pam', 'pan', 'pandora', 'panic', 'panther', 'paper', 'paradise', 'parallel', 'parallelworld', 'paranoia', 'paranoid', 'paranormal', 'parent', 'parents', 'parentskidsrelationship', 'paris', 'park', 'parker', 'parody', 'parole', 'parrish', 'participate', 'particularly', 'parties', 'partner', 'partners', 'partnership', 'party', 'pass', 'passenger', 'passengers', 'passion', 'passionate', 'passions', 'past', 'pastor', 'path', 'paths', 'patient', 'patients', 'patriarch', 'patriciaarquette', 'patrick', 'patrickstewart', 'patrickwilson', 'patriotism', 'patrol', 'paul', 'paulapatton', 'paulbettany', 'paulgiamatti', 'paulgreengrass', 'paulnewman', 'paulrudd', 'paulw', 'paulwalker', 'pawn', 'pay', 'peace', 'peaceful', 'pearl', 'peasant', 'pedophile', 'pedophilia', 'penguin', 'penguins', 'penn', 'pennsylvania', 'penélopecruz', 'people', 'perfect', 'perform', 'performance', 'performances', 'performer', 'perilous', 'period', 'perioddrama', 'perry', 'perseus', 'persian', 'person', 'personal', 'personality', 'persuade', 'peru', 'pet', 'pete', 'peter', 'peterberg', 'peterjackson', 'petersarsgaard', 'petersegal', 'petty', 'phantom', 'phil', 'philadelphia', 'philippe', 'philipseymourhoffman', 'phillipnoyce', 'philosophy', 'phone', 'photo', 'photograph', 'photographer', 'photography', 'physical', 'pianist', 'piano', 'picard', 'pick', 'picture', 'piece', 'piercebrosnan', 'pierre', 'pig', 'pilot', 'pimp', 'pin', 'pink', 'pinocchio', 'piperperabo', 'pirate', 'pistol', 'pit', 'pitch', 'place', 'plague', 'plan', 'plane', 'planet', 'plannedmurder', 'plans', 'plant', 'plantation', 'play', 'playboy', 'player', 'players', 'playground', 'playing', 'playwright', 'pleasure', 'pledge', 'plenty', 'plot', 'plunge', 'plus', 'po', 'poet', 'poetry', 'point', 'poison', 'poker', 'police', 'policebrutality', 'policechase', 'policeman', 'policeofficer', 'policeoperation', 'political', 'politician', 'politicians', 'politics', 'pollution', 'polly', 'pool', 'poor', 'pop', 'popstar', 'popular', 'popularity', 'populate', 'population', 'porn', 'pornography', 'port', 'portal', 'porter', 'portrait', 'pose', 'position', 'possess', 'possession', 'possibility', 'possible', 'possibly', 'post', 'posttraumaticstressdisorder', 'pot', 'potential', 'potter', 'poverty', 'power', 'powerful', 'poweroutage', 'powers', 'practice', 'prank', 'prayer', 'pre', 'preacher', 'precious', 'predator', 'prefer', 'pregnancy', 'pregnancyandbirth', 'pregnant', 'prehistoric', 'prejudice', 'premonition', 'prepare', 'prequel', 'presence', 'present', 'president', 'presidential', 'presidentialelection', 'press', 'pressure', 'prestigious', 'presume', 'pretend', 'pretty', 'prevent', 'previous', 'prey', 'price', 'priceless', 'pride', 'priest', 'prime', 'prince', 'princess', 'principal', 'prison', 'prisoner', 'prisoners', 'prisonersofwar', 'private', 'privatedetective', 'prize', 'pro', 'problem', 'problems', 'process', 'prodigy', 'produce', 'producer', 'product', 'production', 'professional', 'professor', 'profile', 'profit', 'program', 'project', 'prom', 'prominent', 'promise', 'promoter', 'promotion', 'prompt', 'promptly', 'proof', 'property', 'prophecy', 'prosecution', 'prospect', 'prostitute', 'prostitution', 'protect', 'protection', 'protest', 'prove', 'provide', 'psychiatric', 'psychiatrist', 'psychic', 'psychological', 'psychologist', 'psychology', 'psychopath', 'psychotic', 'pub', 'puberty', 'public', 'publicist', 'publish', 'publisher', 'pull', 'punish', 'punishment', 'punk', 'puppet', 'puppy', 'purchase', 'pure', 'purpose', 'pursue', 'pursuit', 'push', 'quarantine', 'quarter', 'quarterback', 'queen', 'queenlatifah', 'quentintarantino', 'quest', 'question', 'quick', 'quickly', 'quiet', 'quirky', 'quit', 'quite', 'rabbit', 'race', 'raceagainsttime', 'racehorse', 'racer', 'rachaelleighcook', 'rachel', 'rachelmcadams', 'rachelweisz', 'racial', 'racism', 'radiation', 'radio', 'rag', 'rage', 'rageandhate', 'ragtag', 'raid', 'railroad', 'rain', 'raise', 'rally', 'ralph', 'ralphfiennes', 'rampage', 'ranch', 'ranger', 'rangers', 'ranking', 'ransom', 'rap', 'rape', 'rapidly', 'rapmusic', 'rapper', 'rare', 'rat', 'ravage', 'raw', 'ray', 'rayliotta', 'raymond', 'raywinstone', 'reach', 'read', 'ready', 'real', 'realise', 'reality', 'realize', 'really', 'realm', 'reaper', 'reason', 'rebecca', 'rebeccahall', 'rebel', 'rebellion', 'rebellious', 'reboot', 'rebuild', 'receive', 'recent', 'recently', 'reclaim', 'reclusive', 'reconcile', 'reconnect', 'record', 'recount', 'recover', 'recruit', 'red', 'redemption', 'rediscover', 'redneck', 'reel', 'reesewitherspoon', 'reflect', 'refuge', 'refuse', 'regain', 'regard', 'regime', 'regret', 'regular', 'reign', 'reilly', 'reject', 'rekindle', 'relationship', 'relationshipproblems', 'relationships', 'relatives', 'release', 'relentless', 'religion', 'religionandsupernatural', 'religious', 'relocate', 'reluctant', 'reluctantly', 'rely', 'remain', 'remake', 'remember', 'remind', 'remote', 'renegade', 'renerusso', 'rennyharlin', 'renowned', 'rent', 'renéezellweger', 'repair', 'repayment', 'replace', 'report', 'reporter', 'represent', 'repress', 'republic', 'reputation', 'request', 'require', 'rescue', 'research', 'researcher', 'resident', 'residents', 'resist', 'resistance', 'resolve', 'resort', 'resources', 'respect', 'respective', 'respond', 'response', 'responsibility', 'responsible', 'rest', 'restaurant', 'restore', 'result', 'results', 'resurface', 'resurrect', 'resurrection', 'retell', 'retire', 'retirement', 'retreat', 'retribution', 'retrieve', 'return', 'reunion', 'reunite', 'reveal', 'revealed', 'revelation', 'revenge', 'reverend', 'revive', 'revolution', 'revolutionary', 'revolve', 'reward', 'rich', 'richard', 'richarddonner', 'richarddreyfuss', 'richardgere', 'richardlinklater', 'rick', 'rid', 'riddle', 'ride', 'rider', 'ridleyscott', 'rifle', 'rig', 'right', 'rightandjustice', 'riley', 'ring', 'riot', 'rip', 'ripley', 'rise', 'risk', 'ritual', 'rival', 'rivalry', 'river', 'road', 'roadmovie', 'roadtrip', 'roam', 'roar', 'rob', 'robber', 'robbers', 'robbery', 'robcohen', 'robert', 'robertdeniro', 'robertdowneyjr', 'robertduvall', 'robertenglund', 'robertredford', 'robertrodriguez', 'robertzemeckis', 'robin', 'robinson', 'robinwilliams', 'robinwright', 'robot', 'robots', 'robreiner', 'rock', 'rockandroll', 'rocket', 'rockstar', 'rocky', 'roger', 'rogerdonaldson', 'rogermoore', 'rogue', 'rolandemmerich', 'role', 'roles', 'roll', 'roman', 'romance', 'romantic', 'romanticcomedy', 'rome', 'romeo', 'romero', 'ron', 'ronhoward', 'ronnie', 'roof', 'rooftop', 'rookie', 'room', 'roommate', 'rosamundpike', 'rosariodawson', 'rosebyrne', 'ross', 'rough', 'round', 'routine', 'row', 'roy', 'royal', 'royalty', 'ruby', 'rugby', 'rugrats', 'ruin', 'rule', 'rules', 'rumor', 'run', 'runaway', 'runner', 'rupertgrint', 'rural', 'ruralsetting', 'rush', 'russell', 'russellcrowe', 'russia', 'russian', 'ruth', 'ruthless', 'ryan', 'ryangosling', 'ryanphillippe', 'ryanreynolds', 'sabotage', 'sacred', 'sacrifice', 'sadism', 'sadistic', 'sadness', 'safe', 'safety', 'saga', 'sail', 'sailor', 'saint', 'sale', 'salesman', 'sally', 'salmahayek', 'sam', 'samantha', 'samanthamorton', 'sammendes', 'samneill', 'samraimi', 'samrockwell', 'samuel', 'samuell', 'samurai', 'san', 'sand', 'sandrabullock', 'sandy', 'sanfrancisco', 'sanity', 'santa', 'santaclaus', 'sara', 'sarah', 'sarahjessicaparker', 'sarahmichellegellar', 'sarapaxton', 'satan', 'satellite', 'satire', 'satisfy', 'savage', 'save', 'savingtheworld', 'saw', 'say', 'sbook', 'scale', 'scam', 'scandal', 'scar', 'scarlettjohansson', 'scary', 'scene', 'scenes', 'schedule', 'scheme', 'schizophrenia', 'scholarship', 'school', 'schoolteacher', 'sci', 'science', 'sciencefiction', 'scientific', 'scientist', 'scientists', 'score', 'scotland', 'scott', 'scottglenn', 'scottish', 'scout', 'scramble', 'scream', 'screen', 'screenplay', 'screenwriter', 'script', 'scubadiving', 'sdailylife', 'sea', 'seal', 'sean', 'seanbean', 'seanconnery', 'seannwilliamscott', 'seanpenn', 'search', 'seas', 'seaside', 'season', 'seattle', 'sebastian', 'seclude', 'second', 'secret', 'secretagent', 'secretary', 'secretidentity', 'secretintelligenceservice', 'secretlove', 'secretly', 'secretmission', 'secretorganization', 'secrets', 'secretservice', 'secretsociety', 'section', 'secure', 'security', 'securityguard', 'seduce', 'seduction', 'seductive', 'seek', 'seeking', 'seemingly', 'seize', 'self', 'selfsacrifice', 'sell', 'selling', 'selmablair', 'semi', 'senate', 'senator', 'send', 'senior', 'seniors', 'sense', 'sensitive', 'sentence', 'seo', 'separate', 'separation', 'sequel', 'sergeant', 'serial', 'serialkiller', 'series', 'seriesofmurders', 'seriously', 'servant', 'serve', 'service', 'set', 'seth', 'sethgreen', 'sethrogen', 'settle', 'seve', 'seven', 'severe', 'severely', 'sewer', 'sex', 'sexaddiction', 'sexual', 'sexualabuse', 'sexuality', 'sexually', 'sexualobsession', 'sexy', 'shadow', 'shadowy', 'shady', 'shake', 'shakespeare', 'shane', 'shanghai', 'shannynsossamon', 'shape', 'share', 'shark', 'sharkattack', 'sharonstone', 'sharp', 'shatter', 'shaw', 'shawnlevy', 'shelter', 'shepherd', 'sheriff', 'shialabeouf', 'shield', 'shift', 'ship', 'shipwreck', 'shock', 'shoe', 'shoot', 'shootout', 'shop', 'short', 'shot', 'shotgun', 'showdown', 'shower', 'shredder', 'shrek', 'shut', 'shuttle', 'shy', 'shyness', 'siblings', 'sick', 'sidekick', 'sidney', 'siege', 'sight', 'sign', 'signal', 'sigourneyweaver', 'silence', 'silent', 'silentfilm', 'silver', 'similar', 'simon', 'simonpegg', 'simonwest', 'simple', 'simply', 'sin', 'sing', 'singer', 'singers', 'single', 'singlefather', 'singlemother', 'singleparent', 'sinister', 'sink', 'sir', 'sister', 'sisters', 'sistersisterrelationship', 'sit', 'site', 'sittingonatoilet', 'situation', 'situations', 'size', 'sized', 'skateboard', 'skeleton', 'skeptical', 'ski', 'skilled', 'skills', 'skull', 'sky', 'skyscraper', 'skywalker', 'slacker', 'slapstick', 'slasher', 'slaughter', 'slave', 'slavery', 'slay', 'sleazy', 'sleep', 'sleepy', 'slife', 'slip', 'slowly', 'slum', 'small', 'smalltown', 'smart', 'smash', 'smite', 'smith', 'smoke', 'smuggle', 'snake', 'snatch', 'sniper', 'snow', 'snowstorm', 'soccer', 'social', 'socialite', 'socially', 'society', 'sociopath', 'sofia', 'solar', 'soldier', 'soldiers', 'sole', 'solitary', 'solomon', 'solve', 'somebody', 'somewhat', 'son', 'song', 'songs', 'songwriter', 'sons', 'soon', 'sophie', 'sorcerer', 'sorcery', 'sorority', 'sort', 'soul', 'soulmates', 'souls', 'sound', 'soundtrack', 'sour', 'source', 'south', 'southafrica', 'southern', 'southernusa', 'soviet', 'sovietunion', 'space', 'spacecraft', 'spacemarine', 'spacemission', 'spaceopera', 'spaceship', 'spacetravel', 'spain', 'span', 'spanish', 'spark', 'speak', 'special', 'specialist', 'specialize', 'species', 'spectacle', 'spectacular', 'speech', 'speed', 'spell', 'spencer', 'spend', 'spider', 'spike', 'spikelee', 'spin', 'spiral', 'spirit', 'spirited', 'spiritual', 'spirituality', 'spoil', 'spoof', 'sport', 'sportsteam', 'spot', 'spotlight', 'spread', 'spring', 'spy', 'squad', 'square', 'st', 'stab', 'stadium', 'staff', 'stag', 'stage', 'stake', 'stakes', 'stalk', 'stalker', 'stan', 'stand', 'stanley', 'star', 'starcrossedlovers', 'stardom', 'starfleet', 'stark', 'start', 'state', 'states', 'station', 'status', 'stay', 'steal', 'steampunk', 'steel', 'stella', 'step', 'stepfather', 'stephen', 'stephendorff', 'stephenfrears', 'stephenherek', 'stephenrea', 'stepmother', 'steve', 'stevebuscemi', 'stevecarell', 'stevemartin', 'steven', 'stevens', 'stevenseagal', 'stevensoderbergh', 'stevenspielberg', 'stevezahn', 'stewart', 'stick', 'stir', 'stock', 'stockbroker', 'stolen', 'stone', 'stoneage', 'stoner', 'stop', 'stopmotion', 'store', 'stories', 'storm', 'story', 'straight', 'strain', 'strand', 'strange', 'stranger', 'strangers', 'strategy', 'stray', 'street', 'streetgang', 'streets', 'strength', 'stress', 'stretch', 'strict', 'strike', 'strikes', 'strip', 'stripclub', 'stripper', 'strive', 'strong', 'struggle', 'stuart', 'student', 'students', 'studio', 'study', 'stumble', 'stun', 'stunt', 'stupidity', 'style', 'sub', 'subject', 'submachinegun', 'submarine', 'suburban', 'suburbia', 'subway', 'succeed', 'success', 'successful', 'successfully', 'successor', 'sudden', 'suddenly', 'sue', 'suffer', 'suggest', 'suicidal', 'suicide', 'suicideattempt', 'suit', 'suitcase', 'suitor', 'sullivan', 'summer', 'summon', 'sun', 'sunglasses', 'super', 'supercomputer', 'superhero', 'superheroes', 'superhuman', 'superhumanstrength', 'superman', 'supermarket', 'supernatural', 'supernaturalpowers', 'superpowers', 'superstar', 'supervillain', 'supervisor', 'supply', 'support', 'suppose', 'suppress', 'suppressedpast', 'sure', 'surf', 'surface', 'surfer', 'surgeon', 'surgery', 'surprise', 'surreal', 'surrealism', 'surround', 'surveillance', 'survival', 'survive', 'survivor', 'survivors', 'susan', 'susansarandon', 'suspect', 'suspense', 'suspicion', 'suspicions', 'suspicious', 'swallow', 'swear', 'sweep', 'sweet', 'sweetheart', 'swimmingpool', 'swing', 'switch', 'sword', 'swordandsorcery', 'swordfight', 'swordplay', 'sylvesterstallone', 'symbol', 'table', 'tabloid', 'tae', 'tag', 'tail', 'taking', 'tale', 'talent', 'talented', 'tales', 'talk', 'talking', 'talkinganimal', 'tall', 'tank', 'tap', 'tape', 'target', 'task', 'taste', 'tattoo', 'taxi', 'taxidriver', 'taylor', 'teach', 'teacher', 'teachers', 'team', 'tear', 'tech', 'technology', 'ted', 'teen', 'teenage', 'teenagecrush', 'teenagegirl', 'teenager', 'teenagers', 'teenagesexuality', 'teencomedy', 'teenmovie', 'teens', 'telekinesis', 'telepathy', 'television', 'tell', 'temple', 'tennessee', 'tennis', 'tense', 'tension', 'tensions', 'term', 'terminal', 'terminalillness', 'terrencehoward', 'terrible', 'terrier', 'terrify', 'territory', 'terror', 'terrorism', 'terrorist', 'terrorists', 'terrorize', 'terry', 'terrygilliam', 'tess', 'test', 'tested', 'texas', 'thailand', 'thandienewton', 'thank', 'thanksgiving', 'theater', 'theatremilieu', 'theft', 'theme', 'theory', 'therapist', 'therapy', 'thief', 'thieve', 'thing', 'things', 'think', 'thirst', 'thirty', 'thomas', 'thomashadenchurch', 'thomasjane', 'thompson', 'thought', 'thoughts', 'thousand', 'thousands', 'threat', 'threaten', 'threats', 'thrill', 'thriller', 'throne', 'throw', 'thrust', 'thug', 'thugs', 'thwart', 'tibet', 'tick', 'ticket', 'tie', 'tiger', 'tildaswinton', 'tim', 'timallen', 'timburton', 'time', 'timeless', 'times', 'timetravel', 'timothyolyphant', 'timrobbins', 'timroth', 'timstory', 'tiny', 'tire', 'titanic', 'title', 'tobeymaguire', 'today', 'todd', 'toddphillips', 'tokyo', 'tom', 'tomcruise', 'tomhanks', 'tomhardy', 'tommy', 'tommyleejones', 'tomshadyac', 'tomwilkinson', 'tonicollette', 'tony', 'tonyscott', 'torment', 'tornado', 'toronto', 'torture', 'total', 'totally', 'touch', 'tough', 'toughest', 'tour', 'tourist', 'tournament', 'tower', 'town', 'townspeople', 'toxic', 'toy', 'toycomestolife', 'trace', 'track', 'tracy', 'trade', 'tradition', 'traditional', 'traffic', 'tragedy', 'tragic', 'trail', 'train', 'trainer', 'traitor', 'transfer', 'transform', 'transformation', 'transformers', 'transplant', 'transport', 'transporter', 'trap', 'trauma', 'traumatic', 'travel', 'treacherous', 'treasure', 'treasurehunt', 'treat', 'treatment', 'tree', 'trek', 'trial', 'trials', 'triangle', 'tribe', 'trick', 'trigger', 'trilogy', 'trio', 'trip', 'triumph', 'troop', 'tropical', 'trouble', 'troy', 'truck', 'trucker', 'true', 'truly', 'trust', 'truth', 'truths', 'try', 'tsunami', 'tunnel', 'turbulent', 'turmoil', 'turn', 'turned', 'turner', 'turtle', 'tv', 'tvmovie', 'tvshow', 'tvstation', 'twin', 'twinbrother', 'twist', 'tycoon', 'tyler', 'tylerperry', 'type', 'typical', 'tyrannical', 'téaleoni', 'ufo', 'ugly', 'ultimate', 'ultimately', 'ultra', 'umathurman', 'unable', 'unaware', 'unbeknownst', 'uncle', 'unconventional', 'uncover', 'undead', 'undercover', 'undercoveragent', 'undercovercop', 'underdog', 'undergo', 'underground', 'understand', 'undertake', 'underwater', 'underworld', 'unemployed', 'unemployment', 'unexpected', 'unexpectedly', 'unfold', 'unforeseen', 'unforgettable', 'unfortunately', 'unimaginable', 'union', 'unique', 'unit', 'unite', 'universe', 'university', 'unknown', 'unleash', 'unless', 'unlike', 'unlikely', 'unlikelyfriendship', 'unlock', 'unorthodox', 'unprecedented', 'unpredictable', 'unravel', 'unrequitedlove', 'unsimulatedsex', 'unsociability', 'unstable', 'unstoppable', 'unsuspecting', 'unthinkable', 'unusual', 'unveil', 'unwitting', 'unwittingly', 'upcoming', 'upper', 'upperclass', 'uprise', 'upset', 'upside', 'uptight', 'urban', 'urge', 'usa', 'usapresident', 'use', 'utah', 'vacation', 'val', 'valentine', 'valkilmer', 'valley', 'valuable', 'value', 'vampire', 'vampires', 'van', 'vandalism', 'vanessa', 'vanessahudgens', 'vanish', 'variety', 'various', 'vast', 'vatican', 'vault', 've', 'vegas', 'vegetarian', 'vengeance', 'vengeful', 'venice', 'venture', 'verafarmiga', 'verge', 'version', 'verylittledialogue', 'vet', 'veteran', 'vice', 'vicious', 'victim', 'victims', 'victor', 'victoria', 'victory', 'video', 'videogame', 'vienna', 'vietnam', 'vietnamveteran', 'vietnamwar', 'view', 'viggomortensen', 'vigilante', 'village', 'villagers', 'villain', 'villainous', 'villains', 'vincent', 'vincevaughn', 'vindiesel', 'vineyard', 'violence', 'violent', 'violently', 'virgin', 'virginia', 'virginiamadsen', 'virginity', 'virtual', 'virtualreality', 'virus', 'vision', 'visions', 'visit', 'visitor', 'vlad', 'voice', 'volatile', 'volcano', 'volunteer', 'vomit', 'von', 'voodoo', 'vororte', 'vow', 'voyage', 'voyeurism', 'wacky', 'wade', 'wag', 'wager', 'wai', 'wait', 'waiter', 'waitress', 'wake', 'walk', 'walker', 'wall', 'wallet', 'wallstreet', 'walt', 'walter', 'wander', 'wang', 'want', 'war', 'warcrimes', 'ward', 'warden', 'warehouse', 'warfare', 'warlock', 'warlord', 'warn', 'warondrugs', 'warren', 'warrenbeatty', 'warrior', 'warriors', 'wars', 'warship', 'warveteran', 'wash', 'washington', 'washingtond', 'wasn', 'waste', 'wasteland', 'watch', 'water', 'wave', 'way', 'ways', 'wealth', 'wealthy', 'weapon', 'weapons', 'wear', 'weather', 'weave', 'web', 'website', 'wed', 'wedding', 'week', 'weekend', 'weeks', 'welcome', 'werewolf', 'wesanderson', 'wesbentley', 'wescraven', 'wesley', 'wesleysnipes', 'west', 'western', 'whale', 'wheelchair', 'whip', 'whisk', 'white', 'whitehouse', 'whoopigoldberg', 'wicked', 'wide', 'widow', 'widower', 'wife', 'wifehusbandrelationship', 'wild', 'wilderness', 'wildly', 'willemdafoe', 'willferrell', 'william', 'williamh', 'williamhurt', 'williams', 'williamshatner', 'willpatton', 'willsmith', 'wilson', 'win', 'wind', 'window', 'wine', 'wing', 'winner', 'winning', 'winonaryder', 'winter', 'wipe', 'wise', 'wish', 'witch', 'witness', 'wits', 'witted', 'wizard', 'wizardry', 'wolf', 'wolfgangpetersen', 'woman', 'womandirector', 'womanizer', 'womanrelation', 'women', 'won', 'wonder', 'woo', 'wood', 'woods', 'woody', 'woodyallen', 'woodyharrelson', 'word', 'work', 'workaholic', 'worker', 'workers', 'working', 'world', 'worlds', 'worldwari', 'worldwarii', 'worldwide', 'worry', 'worse', 'worst', 'worth', 'wound', 'wreak', 'wrestle', 'wretch', 'wright', 'write', 'writer', 'wrong', 'wwii', 'wyoming', 'xenophobia', 'yacht', 'yakuza', 'yard', 'year', 'yearn', 'years', 'yellow', 'york', 'young', 'youngadult', 'youngboy', 'younger', 'youngest', 'youth', 'yuppie', 'zacefron', 'zachgalifianakis', 'zacksnyder', 'zealand', 'zebra', 'zeus', 'zhangziyi', 'zion', 'zoe', 'zoesaldana', 'zombie', 'zombieapocalypse', 'zombies', 'zone', 'zoo', 'zooeydeschanel']\n"
     ]
    }
   ],
   "source": [
    "print(list(l))"
   ]
  },
  {
   "cell_type": "code",
   "execution_count": 67,
   "id": "3075a83d-d9c8-4e2c-91ab-61edc19c6fff",
   "metadata": {},
   "outputs": [
    {
     "data": {
      "text/plain": [
       "frozenset({'a',\n",
       "           'about',\n",
       "           'above',\n",
       "           'across',\n",
       "           'after',\n",
       "           'afterwards',\n",
       "           'again',\n",
       "           'against',\n",
       "           'all',\n",
       "           'almost',\n",
       "           'alone',\n",
       "           'along',\n",
       "           'already',\n",
       "           'also',\n",
       "           'although',\n",
       "           'always',\n",
       "           'am',\n",
       "           'among',\n",
       "           'amongst',\n",
       "           'amoungst',\n",
       "           'amount',\n",
       "           'an',\n",
       "           'and',\n",
       "           'another',\n",
       "           'any',\n",
       "           'anyhow',\n",
       "           'anyone',\n",
       "           'anything',\n",
       "           'anyway',\n",
       "           'anywhere',\n",
       "           'are',\n",
       "           'around',\n",
       "           'as',\n",
       "           'at',\n",
       "           'back',\n",
       "           'be',\n",
       "           'became',\n",
       "           'because',\n",
       "           'become',\n",
       "           'becomes',\n",
       "           'becoming',\n",
       "           'been',\n",
       "           'before',\n",
       "           'beforehand',\n",
       "           'behind',\n",
       "           'being',\n",
       "           'below',\n",
       "           'beside',\n",
       "           'besides',\n",
       "           'between',\n",
       "           'beyond',\n",
       "           'bill',\n",
       "           'both',\n",
       "           'bottom',\n",
       "           'but',\n",
       "           'by',\n",
       "           'call',\n",
       "           'can',\n",
       "           'cannot',\n",
       "           'cant',\n",
       "           'co',\n",
       "           'con',\n",
       "           'could',\n",
       "           'couldnt',\n",
       "           'cry',\n",
       "           'de',\n",
       "           'describe',\n",
       "           'detail',\n",
       "           'do',\n",
       "           'done',\n",
       "           'down',\n",
       "           'due',\n",
       "           'during',\n",
       "           'each',\n",
       "           'eg',\n",
       "           'eight',\n",
       "           'either',\n",
       "           'eleven',\n",
       "           'else',\n",
       "           'elsewhere',\n",
       "           'empty',\n",
       "           'enough',\n",
       "           'etc',\n",
       "           'even',\n",
       "           'ever',\n",
       "           'every',\n",
       "           'everyone',\n",
       "           'everything',\n",
       "           'everywhere',\n",
       "           'except',\n",
       "           'few',\n",
       "           'fifteen',\n",
       "           'fifty',\n",
       "           'fill',\n",
       "           'find',\n",
       "           'fire',\n",
       "           'first',\n",
       "           'five',\n",
       "           'for',\n",
       "           'former',\n",
       "           'formerly',\n",
       "           'forty',\n",
       "           'found',\n",
       "           'four',\n",
       "           'from',\n",
       "           'front',\n",
       "           'full',\n",
       "           'further',\n",
       "           'get',\n",
       "           'give',\n",
       "           'go',\n",
       "           'had',\n",
       "           'has',\n",
       "           'hasnt',\n",
       "           'have',\n",
       "           'he',\n",
       "           'hence',\n",
       "           'her',\n",
       "           'here',\n",
       "           'hereafter',\n",
       "           'hereby',\n",
       "           'herein',\n",
       "           'hereupon',\n",
       "           'hers',\n",
       "           'herself',\n",
       "           'him',\n",
       "           'himself',\n",
       "           'his',\n",
       "           'how',\n",
       "           'however',\n",
       "           'hundred',\n",
       "           'i',\n",
       "           'ie',\n",
       "           'if',\n",
       "           'in',\n",
       "           'inc',\n",
       "           'indeed',\n",
       "           'interest',\n",
       "           'into',\n",
       "           'is',\n",
       "           'it',\n",
       "           'its',\n",
       "           'itself',\n",
       "           'keep',\n",
       "           'last',\n",
       "           'latter',\n",
       "           'latterly',\n",
       "           'least',\n",
       "           'less',\n",
       "           'ltd',\n",
       "           'made',\n",
       "           'many',\n",
       "           'may',\n",
       "           'me',\n",
       "           'meanwhile',\n",
       "           'might',\n",
       "           'mill',\n",
       "           'mine',\n",
       "           'more',\n",
       "           'moreover',\n",
       "           'most',\n",
       "           'mostly',\n",
       "           'move',\n",
       "           'much',\n",
       "           'must',\n",
       "           'my',\n",
       "           'myself',\n",
       "           'name',\n",
       "           'namely',\n",
       "           'neither',\n",
       "           'never',\n",
       "           'nevertheless',\n",
       "           'next',\n",
       "           'nine',\n",
       "           'no',\n",
       "           'nobody',\n",
       "           'none',\n",
       "           'noone',\n",
       "           'nor',\n",
       "           'not',\n",
       "           'nothing',\n",
       "           'now',\n",
       "           'nowhere',\n",
       "           'of',\n",
       "           'off',\n",
       "           'often',\n",
       "           'on',\n",
       "           'once',\n",
       "           'one',\n",
       "           'only',\n",
       "           'onto',\n",
       "           'or',\n",
       "           'other',\n",
       "           'others',\n",
       "           'otherwise',\n",
       "           'our',\n",
       "           'ours',\n",
       "           'ourselves',\n",
       "           'out',\n",
       "           'over',\n",
       "           'own',\n",
       "           'part',\n",
       "           'per',\n",
       "           'perhaps',\n",
       "           'please',\n",
       "           'put',\n",
       "           'rather',\n",
       "           're',\n",
       "           'same',\n",
       "           'see',\n",
       "           'seem',\n",
       "           'seemed',\n",
       "           'seeming',\n",
       "           'seems',\n",
       "           'serious',\n",
       "           'several',\n",
       "           'she',\n",
       "           'should',\n",
       "           'show',\n",
       "           'side',\n",
       "           'since',\n",
       "           'sincere',\n",
       "           'six',\n",
       "           'sixty',\n",
       "           'so',\n",
       "           'some',\n",
       "           'somehow',\n",
       "           'someone',\n",
       "           'something',\n",
       "           'sometime',\n",
       "           'sometimes',\n",
       "           'somewhere',\n",
       "           'still',\n",
       "           'such',\n",
       "           'system',\n",
       "           'take',\n",
       "           'ten',\n",
       "           'than',\n",
       "           'that',\n",
       "           'the',\n",
       "           'their',\n",
       "           'them',\n",
       "           'themselves',\n",
       "           'then',\n",
       "           'thence',\n",
       "           'there',\n",
       "           'thereafter',\n",
       "           'thereby',\n",
       "           'therefore',\n",
       "           'therein',\n",
       "           'thereupon',\n",
       "           'these',\n",
       "           'they',\n",
       "           'thick',\n",
       "           'thin',\n",
       "           'third',\n",
       "           'this',\n",
       "           'those',\n",
       "           'though',\n",
       "           'three',\n",
       "           'through',\n",
       "           'throughout',\n",
       "           'thru',\n",
       "           'thus',\n",
       "           'to',\n",
       "           'together',\n",
       "           'too',\n",
       "           'top',\n",
       "           'toward',\n",
       "           'towards',\n",
       "           'twelve',\n",
       "           'twenty',\n",
       "           'two',\n",
       "           'un',\n",
       "           'under',\n",
       "           'until',\n",
       "           'up',\n",
       "           'upon',\n",
       "           'us',\n",
       "           'very',\n",
       "           'via',\n",
       "           'was',\n",
       "           'we',\n",
       "           'well',\n",
       "           'were',\n",
       "           'what',\n",
       "           'whatever',\n",
       "           'when',\n",
       "           'whence',\n",
       "           'whenever',\n",
       "           'where',\n",
       "           'whereafter',\n",
       "           'whereas',\n",
       "           'whereby',\n",
       "           'wherein',\n",
       "           'whereupon',\n",
       "           'wherever',\n",
       "           'whether',\n",
       "           'which',\n",
       "           'while',\n",
       "           'whither',\n",
       "           'who',\n",
       "           'whoever',\n",
       "           'whole',\n",
       "           'whom',\n",
       "           'whose',\n",
       "           'why',\n",
       "           'will',\n",
       "           'with',\n",
       "           'within',\n",
       "           'without',\n",
       "           'would',\n",
       "           'yet',\n",
       "           'you',\n",
       "           'your',\n",
       "           'yours',\n",
       "           'yourself',\n",
       "           'yourselves'})"
      ]
     },
     "execution_count": 67,
     "metadata": {},
     "output_type": "execute_result"
    }
   ],
   "source": [
    "cv.get_stop_words()"
   ]
  },
  {
   "cell_type": "code",
   "execution_count": 68,
   "id": "0c5aac3f-2e74-4059-965c-92e262fabae0",
   "metadata": {},
   "outputs": [],
   "source": [
    "#to calculate cosine distance\n",
    "from sklearn.metrics.pairwise import cosine_similarity"
   ]
  },
  {
   "cell_type": "code",
   "execution_count": 69,
   "id": "7ab15ec8-f87d-425f-ab8a-e8314373c08d",
   "metadata": {},
   "outputs": [],
   "source": [
    "similar=cosine_similarity(vec)"
   ]
  },
  {
   "cell_type": "code",
   "execution_count": 70,
   "id": "fb49b6b8-ac7b-44c4-b4ad-3c6047152b19",
   "metadata": {},
   "outputs": [
    {
     "data": {
      "text/plain": [
       "array([1.        , 0.02198873, 0.02983974, ..., 0.00522729, 0.00556144,\n",
       "       0.        ])"
      ]
     },
     "execution_count": 70,
     "metadata": {},
     "output_type": "execute_result"
    }
   ],
   "source": [
    "similar[0]"
   ]
  },
  {
   "cell_type": "code",
   "execution_count": 71,
   "id": "2467cfe3-cff7-4221-869e-dfd3a89c4128",
   "metadata": {},
   "outputs": [
    {
     "data": {
      "text/plain": [
       "(4806, 4806)"
      ]
     },
     "execution_count": 71,
     "metadata": {},
     "output_type": "execute_result"
    }
   ],
   "source": [
    "similar.shape"
   ]
  },
  {
   "cell_type": "code",
   "execution_count": 72,
   "id": "a26296d8-1a00-4bfc-bd6e-e4716b9efde6",
   "metadata": {},
   "outputs": [],
   "source": [
    "#sorted(list(enumerate(similar[0])),reverse=True,key=lambda x:x[1])[1:6]"
   ]
  },
  {
   "cell_type": "code",
   "execution_count": 73,
   "id": "39add308-5027-4335-85f6-72a05f9ed452",
   "metadata": {},
   "outputs": [],
   "source": [
    "def recommendation(val):\n",
    "    ind=mov[mov['title']==val].index[0] #find index of the title\n",
    "    dist=similar[ind] #fetch the row in similar matrix\n",
    "    R_list=sorted(list(enumerate(dist)),reverse=True,key=lambda x:x[1])[1:6]\n",
    "    #sort the list in reversed order based on similarity while maintaining the indexs using enumerate using only top 5\n",
    "    for i in R_list:\n",
    "        print(mov.iloc[i[0]].title)\n",
    "     "
   ]
  },
  {
   "cell_type": "code",
   "execution_count": 97,
   "id": "c3f6b1d6-e011-41b8-b009-7457a5988c11",
   "metadata": {},
   "outputs": [
    {
     "name": "stdout",
     "output_type": "stream",
     "text": [
      "Stuart Little 2\n",
      "Ernest & Celestine\n",
      "The Good Dinosaur\n",
      "The Blue Bird\n",
      "The Tale of Despereaux\n"
     ]
    }
   ],
   "source": [
    "recommendation(\"Stuart Little\")"
   ]
  },
  {
   "cell_type": "code",
   "execution_count": 75,
   "id": "9ec4c446-1843-453c-ba73-2e8cc904728c",
   "metadata": {},
   "outputs": [],
   "source": [
    "import pickle"
   ]
  },
  {
   "cell_type": "code",
   "execution_count": 76,
   "id": "d8c50fd4-b8e4-4f99-8626-403575420022",
   "metadata": {},
   "outputs": [],
   "source": [
    "pickle.dump(mov,open('recommendations.pkl','wb'))"
   ]
  },
  {
   "cell_type": "code",
   "execution_count": 77,
   "id": "9b1e9eb1-a0d2-46cd-a1c7-85200a6adef2",
   "metadata": {},
   "outputs": [],
   "source": [
    "pickle.dump(similar,open('similarity.pkl','wb'))"
   ]
  },
  {
   "cell_type": "code",
   "execution_count": null,
   "id": "0a4b7021-df58-43f5-a7a7-9df5cb9ecf0f",
   "metadata": {},
   "outputs": [],
   "source": []
  }
 ],
 "metadata": {
  "kernelspec": {
   "display_name": "Python 3 (ipykernel)",
   "language": "python",
   "name": "python3"
  },
  "language_info": {
   "codemirror_mode": {
    "name": "ipython",
    "version": 3
   },
   "file_extension": ".py",
   "mimetype": "text/x-python",
   "name": "python",
   "nbconvert_exporter": "python",
   "pygments_lexer": "ipython3",
   "version": "3.12.0"
  }
 },
 "nbformat": 4,
 "nbformat_minor": 5
}
